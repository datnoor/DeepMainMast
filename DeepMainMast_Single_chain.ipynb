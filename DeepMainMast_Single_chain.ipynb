{
  "cells": [
    {
      "cell_type": "markdown",
      "metadata": {
        "colab_type": "text",
        "id": "view-in-github"
      },
      "source": [
        "<a href=\"https://colab.research.google.com/github/kiharalab/DeepMainMast/blob/main/DeepMainMast_Single_chain.ipynb\" target=\"_parent\"><img src=\"https://colab.research.google.com/assets/colab-badge.svg\" alt=\"Open In Colab\"/></a>"
      ]
    },
    {
      "attachments": {},
      "cell_type": "markdown",
      "metadata": {
        "id": "9F6QwmiG5ogI"
      },
      "source": [
        "# DeepMainMast (Single Chain)\n",
        "\n",
        "<img src=\"DeepMainMast_Logo.png\" height=300 width=300/>\n",
        "\n",
        "**License**: GPL v3 for academic use. (For commercial use, please contact us for different licensing)\n",
        "\n",
        "**Contact**: Daisuke Kihara (dkihara@purdue.edu)\n",
        "\n",
        "**Cite this work**: \"Integrated Protocol of Protein Structure Modeling for cryo-EM with Deep Learning and Structure Prediction, Genki Terashi, Xiao Wang, Devashish Prasad, and Daisuke Kihara, In submission (2023)\""
      ]
    },
    {
      "cell_type": "markdown",
      "metadata": {
        "id": "jSP2YGVj9Yqg"
      },
      "source": [
        "# Run DeepMainMast pipeline (7 steps)\n",
        "\n",
        "1. <u>Install dependencies</u>: Install libraries and download the models/scripts\n",
        "2. <u>Input files </u>: Upload the cryo-em map file (.map and or .mrc), Sequence file (.fasta) and Alphafold file (.pdb)\n",
        "3. <u>Configure parameters</u>: Emap Countour level, Number of seconds limit and Number of final models \n",
        "4. <u>Execute DeepMainMast</u>: Execute the DeepMainMast pipeline sequentially with the specified configuration and input.\n",
        "5. <u> Visualize pre rosetta</u>: Visualize predicted models before the application of RosettaCM\n",
        "6. <u>Execute Rosetta</u>: Execute Rosetta on deepmainmast predcitions to get final protein structure.\n",
        "7. <u>Scoring and Ranking</u>: Score the predicted protein structures and rank them according to the scores.\n",
        "8. <u>Visualization</u>: Visualize the final ranked structures.\n",
        "\n",
        "Some steps in the pipeline require a lot of time to compute (specifically the rosetta step). You can specify number of seconds as time limit for some of these compute intensive steps in the input text boxes.<br>\n",
        "\n",
        "Please make sure the notebook is already connected to **GPU**, DeepMainMast needs GPU support to run.<br>\n",
        "Click the right top button **\"connect\"**, then the notebook will automatically connect to a gpu machine"
      ]
    },
    {
      "attachments": {},
      "cell_type": "markdown",
      "metadata": {},
      "source": [
        "### DeepMainMast can also be found at\n",
        "\n",
        "Code Ocean Capsule:\n",
        "- [Single Chain](https://codeocean.com/capsule/0866386/tree)\n",
        "- [Multi Chain](https://codeocean.com/capsule/9358532/tree)\n",
        "\n",
        "Colab Notebooks:\n",
        "- [Single Chain](https://colab.research.google.com/github/kiharalab/DeepMainMast/blob/main/DeepMainMast_Single_chain.ipynb) <-- current notebook\n",
        "- [Multi Chain](https://colab.research.google.com/github/kiharalab/DeepMainMast/blob/main/DeepMainMast_Multi_chain.ipynb)\n",
        "\n",
        "Github:\n",
        "- [DeepMainMast Repo](https://github.com/kiharalab/DeepMainMast)\n"
      ]
    },
    {
      "cell_type": "code",
      "execution_count": null,
      "metadata": {
        "cellView": "form",
        "colab": {
          "base_uri": "https://localhost:8080/"
        },
        "id": "dxvwqrFjCMSC",
        "outputId": "a6dea70d-3f56-4e0e-a1f7-85d153cae7a9"
      },
      "outputs": [
        {
          "name": "stdout",
          "output_type": "stream",
          "text": [
            "Downloading the github repo and large binaries ... \n",
            "Done downloading the github repo and large binaries\n",
            "\n",
            "Installing python dependencies ... \n",
            "Done installing python dependencies\n",
            "\n",
            "Installing the fftw library\n",
            "\n",
            "Done installing the fftw library\n",
            "\n",
            "Installing gcc dependencies ... \n",
            "/content/DeepMainMast/dmmsinglechain/src/DAQscore_Unet_src\n",
            "/content/DeepMainMast/dmmsinglechain/src/MAINMAST_UnetAF2_src\n",
            "/content/DeepMainMast/dmmsinglechain/src/MAINMAST_UnetAssembleMtx_src\n",
            "/content/DeepMainMast/dmmsinglechain/src/MAINMAST_UnetProbPoints_src\n",
            "/content/DeepMainMast/dmmsinglechain/src/VESPER_Power_colab_src\n",
            "Done installing gcc dependencies\n",
            "\n"
          ]
        }
      ],
      "source": [
        "#@title 1. Install dependencies <a name=\"Dependency\"></a>\n",
        "#@markdown We will download github repo and some large binary files. Then we will install dependencies using pip. And then we will download and compile some libraries using GCC compiler<br><br>\n",
        "#@markdown This cell may take about 5 mins to run\n",
        "\n",
        "print(\"Downloading the github repo and large binaries ... \")\n",
        "# Download git directory with source code\n",
        "!git clone --quiet https://github.com/kiharalab/DeepMainMast.git &>> /content/output\n",
        "\n",
        "# Download some big files from kiharalab website\n",
        "!wget -q https://kiharalab.org/emsuites/deepmainmast/dmmbin/partial_thread.static.linuxgccrelease &>> /content/output\n",
        "!wget -q https://kiharalab.org/emsuites/deepmainmast/dmmbin/rosetta_scripts.static.linuxgccrelease &>> /content/output\n",
        "\n",
        "!mv /content/partial_thread.static.linuxgccrelease /content/DeepMainMast/dmmsinglechain/results \n",
        "!mv /content/rosetta_scripts.static.linuxgccrelease /content/DeepMainMast/dmmsinglechain/results \n",
        "print(\"Done downloading the github repo and large binaries\\n\")\n",
        "\n",
        "print(\"Installing python dependencies ... \")\n",
        "# Install python dependencies using pip \n",
        "!pip install -r /content/DeepMainMast/dmmsinglechain/requirements.txt &>> /content/output\n",
        "!pip install nglview BioTEMPy py3Dmol==2.0.0.post2 tensorboard==2.11 tensorflow-cpu==2.6.0 &>> /content/output\n",
        "print(\"Done installing python dependencies\\n\")\n",
        "\n",
        "# Install fftw library\n",
        "print(\"Installing the fftw library\\n\")\n",
        "!apt-get -qq install -y libfftw3-3 libfftw3-dev libfftw3-doc &>> /content/output\n",
        "print(\"Done installing the fftw library\\n\")\n",
        "\n",
        "print(\"Installing gcc dependencies ... \")\n",
        "# Build some libraries from scratch using gcc\n",
        "%cd \"/content/DeepMainMast/dmmsinglechain/src/DAQscore_Unet_src\"\n",
        "!rm *.o\n",
        "!make &>> /content/output\n",
        "!mv \"/content/DeepMainMast/dmmsinglechain/src/DAQscore_Unet_src/DAQscore_Unet\" \"/content/DeepMainMast/dmmsinglechain/bin/DAQscore_Unet\"\n",
        "\n",
        "%cd \"/content/DeepMainMast/dmmsinglechain/src/MAINMAST_UnetAF2_src\"\n",
        "!rm *.o\n",
        "!make &>> /content/output\n",
        "!mv \"/content/DeepMainMast/dmmsinglechain/src/MAINMAST_UnetAF2_src/MainmastC_UnetAF2\" \"/content/DeepMainMast/dmmsinglechain/bin/MainmastC_UnetAF2\"\n",
        "\n",
        "%cd \"/content/DeepMainMast/dmmsinglechain/src/MAINMAST_UnetAssembleMtx_src\"\n",
        "!rm *.o\n",
        "!make &>> /content/output\n",
        "!mv \"/content/DeepMainMast/dmmsinglechain/src/MAINMAST_UnetAssembleMtx_src/MainmastC_UnetAssembleMtx\" \"/content/DeepMainMast/dmmsinglechain/bin/MainmastC_UnetAssembleMtx\"\n",
        "\n",
        "%cd \"/content/DeepMainMast/dmmsinglechain/src/MAINMAST_UnetProbPoints_src\"\n",
        "!rm *.o\n",
        "!make &>> /content/output\n",
        "!mv \"/content/DeepMainMast/dmmsinglechain/src/MAINMAST_UnetProbPoints_src/MainmastC_Unet_node\" \"/content/DeepMainMast/dmmsinglechain/bin/MainmastC_Unet_node\"\n",
        "\n",
        "%cd \"/content/DeepMainMast/dmmsinglechain/src/VESPER_Power_colab_src\"\n",
        "!rm *.o\n",
        "!make &>> /content/output\n",
        "!mv \"/content/DeepMainMast/dmmsinglechain/src/VESPER_Power_colab_src/VESPER_Power\" \"/content/DeepMainMast/dmmsinglechain/bin/VESPER_Power\"\n",
        "print(\"Done installing gcc dependencies\\n\")\n",
        "\n",
        "from google.colab import output\n",
        "output.enable_custom_widget_manager()"
      ]
    },
    {
      "cell_type": "code",
      "execution_count": null,
      "metadata": {
        "cellView": "form",
        "id": "1KwPuEYIAJcL"
      },
      "outputs": [],
      "source": [
        "#@title 2. Input Files\n",
        "\n",
        "#@markdown You need to upload a cryo-EM map file (.mrc or .map), sequence file (.fasta) and optional Alphafold file (.pdb).\n",
        "\n",
        "#@markdown You can tick the below checkbox to use a default input files as an example <br> Otherwise, please untick the checkbox and run the subsequent cells to upload your files.   \n",
        "\n",
        "#@markdown Lastly, also provide a job name for running this job with the specified input.\n",
        "\n",
        "use_author_example = True #@param {type:\"boolean\"}\n",
        "job_name = \"myjob\" #@param {type:\"string\"}\n",
        "\n",
        "if use_author_example:\n",
        "  job_name = \"6sper\"\n",
        "  use_AF_Model = True"
      ]
    },
    {
      "cell_type": "code",
      "execution_count": null,
      "metadata": {
        "cellView": "form",
        "colab": {
          "base_uri": "https://localhost:8080/"
        },
        "id": "Ek2F6tQXiVHY",
        "outputId": "4caa60f3-93fa-4ef3-d761-6f56b50b52f8"
      },
      "outputs": [
        {
          "name": "stdout",
          "output_type": "stream",
          "text": [
            "you have chosen to use author's example, you can not upload map files any more.\n"
          ]
        }
      ],
      "source": [
        "#@title 2.1 Input EM map file\n",
        "\n",
        "#@markdown <br> **Support file format: .map and/or .mrc**\n",
        "\n",
        "from google.colab import files\n",
        "import os\n",
        "import os.path\n",
        "import re\n",
        "import hashlib\n",
        "import random\n",
        "import string\n",
        "\n",
        "input_map = \"\"\n",
        "\n",
        "if not use_author_example:\n",
        "  upload_dir = f\"/content/DeepMainMast/dmmsinglechain/data/{job_name}\"\n",
        "  if not os.path.exists(upload_dir):\n",
        "    os.mkdir(upload_dir)\n",
        "  os.chdir(upload_dir)\n",
        "  map_input = files.upload()\n",
        "  for fn in map_input.keys():\n",
        "    print('User uploaded file \"{name}\" with length {length} bytes'.format(\n",
        "      name=fn, length=len(map_input[fn])))\n",
        "    input_map = os.path.abspath(fn)\n",
        "    print(\"Map saved in %s\"%upload_dir)\n",
        "  rename_path = upload_dir + \"/input.map\"\n",
        "  !mv $input_map $rename_path\n",
        "else:\n",
        "  print(\"you have chosen to use author's example, you can not upload map files any more.\")"
      ]
    },
    {
      "cell_type": "code",
      "execution_count": null,
      "metadata": {
        "cellView": "form",
        "colab": {
          "base_uri": "https://localhost:8080/"
        },
        "id": "o10F68Qv5m9a",
        "outputId": "046af86b-71b8-4031-eb09-cf2842860889"
      },
      "outputs": [
        {
          "name": "stdout",
          "output_type": "stream",
          "text": [
            "you have chosen to use author's example, you can not upload map files any more.\n"
          ]
        }
      ],
      "source": [
        "#@title 2.2 Input Seq.fasta file <a name=\"Map\"></a>\n",
        "\n",
        "#@markdown <br> **Support file format: .fasta**\n",
        "\n",
        "from google.colab import files\n",
        "import os\n",
        "import os.path\n",
        "import re\n",
        "import hashlib\n",
        "import string\n",
        "\n",
        "seq_file = \"\"\n",
        "\n",
        "if not use_author_example:\n",
        "  upload_dir = f\"/content/DeepMainMast/dmmsinglechain/data/{job_name}\"\n",
        "  if not os.path.exists(upload_dir):\n",
        "    os.mkdir(upload_dir)\n",
        "  os.chdir(upload_dir)\n",
        "  map_input = files.upload()\n",
        "  for fn in map_input.keys():\n",
        "    print('User uploaded file \"{name}\" with length {length} bytes'.format(\n",
        "      name=fn, length=len(map_input[fn])))\n",
        "    seq_file = os.path.abspath(fn)\n",
        "    print(\"Map saved in %s\"%upload_dir)\n",
        "  !mv $seq_file $upload_dir\"/seq.fasta\"\n",
        "else:\n",
        "  print(\"you have chosen to use author's example, you can not upload map files any more.\")"
      ]
    },
    {
      "cell_type": "code",
      "execution_count": null,
      "metadata": {
        "cellView": "form",
        "colab": {
          "base_uri": "https://localhost:8080/"
        },
        "id": "PzvqPFa9M8M3",
        "outputId": "457032cf-96a1-4192-ec9f-4840b14f756b"
      },
      "outputs": [
        {
          "name": "stdout",
          "output_type": "stream",
          "text": [
            "You have chosen to use author's example, you can not upload .pdb files any more.\n"
          ]
        }
      ],
      "source": [
        "#@title 2.3 Input Alphafold model [Optional]\n",
        "\n",
        "#@markdown Please tick the below checkbox and run the cell to upload your alphafold .pdb file. Otherwise, please untick the checkbox and run this cell to make deepmainmast pipeline proceed without any alphafold model. <br> \n",
        "\n",
        "use_AF_Model = True #@param {type:\"boolean\"}\n",
        "\n",
        "#@markdown <br> **Support file format: .pdb**\n",
        "\n",
        "af_model_file = \"\"\n",
        "\n",
        "if use_AF_Model and not use_author_example:\n",
        "  upload_dir = f\"/content/DeepMainMast/dmmsinglechain/data/{job_name}/\"\n",
        "  if not os.path.exists(upload_dir):\n",
        "    os.mkdir(upload_dir)\n",
        "  os.chdir(upload_dir)\n",
        "  map_input = files.upload()\n",
        "  for fn in map_input.keys():\n",
        "    print('User uploaded file \"{name}\" with length {length} bytes'.format(\n",
        "      name=fn, length=len(map_input[fn])))\n",
        "    af_model_file = os.path.abspath(fn)\n",
        "\n",
        "    print(\"Map saved in %s\"%upload_dir)\n",
        "  !mv $af_model_file $upload_dir\"/af2_model.pdb\"\n",
        "elif not use_AF_Model:\n",
        "  print(\"You have chosen not to upload .pdb files for alphafold.\")\n",
        "else:\n",
        "  print(\"You have chosen to use author's example, you can not upload .pdb files any more.\")\n",
        "\n",
        "if use_AF_Model == True:\n",
        "  use_AF_Model = 1"
      ]
    },
    {
      "cell_type": "code",
      "execution_count": null,
      "metadata": {
        "cellView": "form",
        "id": "GVUq-kySXMaz"
      },
      "outputs": [],
      "source": [
        "#@title 3 Configure parameters\n",
        "#@markdown <br> 1. Specify the recommended contour level for your map in contour_level variable.\n",
        "#@markdown If your recommended contour level is 2.5 then enter 2.5 in the input filed below\n",
        "contour_level = 0.02 #@param {type:\"number\"}\n",
        "\n",
        "#@markdown <br> 2. Some steps in DeepMainMast take a lot of time to compute. You can specify the number of seconds to be used per iteration for these compute heavy steps using num_seconds variable. If you keep value num_seconds to be very low then sometimes DeepMainMast might not work correctly. **It is recommended to start with num_seconds=90 for your new map. But even after setting it to 90 gets you an error or DeepMainMast does not generate resulting files then it probably means that DeepMainMast needs more time to process the map and you need to increase num_seconds and run the notebook again**.\n",
        "num_seconds = 40 #@param {type:\"number\"}\n",
        "\n",
        "#@markdown <br> 3. Specify the number of final models (.pdb files) to be generated in /results/ranked folder. There are 4 algorithms (DM only, AF only, all, Vesper) which is given as input to the Rosetta step that generates several models for each of the algorithm. If you increase the value of num_models variable then your topmost resulting .pdb files in ranked folder (i.e. rank1.pdb) might be more accurate and vice versa. However, increasing number of final models will make Rosetta take more time for computation and it is the most compute heavy step.\n",
        "num_models = 1 #@param {type:\"number\"}\n"
      ]
    },
    {
      "cell_type": "code",
      "execution_count": null,
      "metadata": {
        "cellView": "form",
        "colab": {
          "base_uri": "https://localhost:8080/"
        },
        "id": "nD_38m0GZTWL",
        "outputId": "818c3188-2cdc-431b-9f92-5ca9b7414bec"
      },
      "outputs": [
        {
          "name": "stdout",
          "output_type": "stream",
          "text": [
            "/content/DeepMainMast/dmmsinglechain\n",
            "Running Single chain DeepMainMast ...\n",
            "Done running Single chain DeepMainMast\n",
            "\n"
          ]
        }
      ],
      "source": [
        "#@title 4. Execute DeepMainMast (Single Chain)\n",
        "\n",
        "%cd \"/content/DeepMainMast/dmmsinglechain/\"\n",
        "\n",
        "!chmod +x *\n",
        "!chmod -R 777 /content/DeepMainMast/\n",
        "\n",
        "print(\"Running Single chain DeepMainMast ...\")\n",
        "!./run_dmm_colab.sh $job_name $num_seconds $contour_level $use_AF_Model &>> /content/output\n",
        "print(\"Done running Single chain DeepMainMast\\n\")"
      ]
    },
    {
      "cell_type": "code",
      "execution_count": null,
      "metadata": {
        "cellView": "form",
        "colab": {
          "base_uri": "https://localhost:8080/",
          "height": 352,
          "referenced_widgets": [
            "bceef59c463d4770a0af81362352a6c8",
            "05fe9333f2f241e8b2d20239e537d98c",
            "9fae9c75bc9b4db499830bb19598ed2e",
            "fbc15164d4544854a38c2e12f41525f8",
            "f509235e74b6429a8085b517a28cfba7",
            "adc78187968c4bb9a6f8ea16599bca73",
            "240ae8e6afe7426b9dc834b6efe201e5",
            "cfbba11c2d2f494882647d5920a094eb",
            "59564e197cf8485981eecb62c91faa1a",
            "447dee61d33d4d3d896eb3c4d210ff8f",
            "851e5a378c91469397555aa273cc26d1",
            "0bfbc106ef714c7292c544a3f52aa703",
            "a50a6b37f81745cd89a946cdb6eb0ba4"
          ]
        },
        "id": "Jlf14HN-6N3U",
        "outputId": "6d54f91a-ff9b-4212-a4d1-03092c238d71"
      },
      "outputs": [
        {
          "name": "stderr",
          "output_type": "stream",
          "text": [
            "/usr/local/lib/python3.8/dist-packages/Bio/PDB/Atom.py:189: PDBConstructionWarning: Used element 'C' for Atom (name=CA) with given element ''\n",
            "  warnings.warn(msg, PDBConstructionWarning)\n"
          ]
        },
        {
          "data": {
            "application/vnd.jupyter.widget-view+json": {
              "model_id": "bceef59c463d4770a0af81362352a6c8",
              "version_major": 2,
              "version_minor": 0
            },
            "text/plain": [
              "NGLWidget()"
            ]
          },
          "metadata": {
            "application/vnd.jupyter.widget-view+json": {
              "colab": {
                "custom_widget_manager": {
                  "url": "https://ssl.gstatic.com/colaboratory-static/widgets/colab-cdn-widget-manager/b3e629b1971e1542/manager.min.js"
                }
              }
            }
          },
          "output_type": "display_data"
        }
      ],
      "source": [
        "#@title 5. Visualize pre rosetta\n",
        "\n",
        "from google.colab import output\n",
        "output.enable_custom_widget_manager()\n",
        "\n",
        "#@markdown <b>Issue with Rosetta</b> <br>\n",
        "#@markdown We noticed that often RosettaCM distorts a structure model, which tends to happen when the map resolution is low. And for this reason, we also provide models before the application of RosettaCM in /content/DeepMainMast/dmmsinglechain/results/\\<your job name\\>/pre_rosetta_ranked folder.\n",
        "\n",
        "rank = \"1\" #@param {type:\"string\"}\n",
        "\n",
        "pdb_file = f\"/content/DeepMainMast/dmmsinglechain/results/{job_name}/pre_rosetta_ranked/rank{rank}.pdb\"\n",
        "\n",
        "from Bio.PDB import PDBParser\n",
        "from Bio.PDB.Polypeptide import PPBuilder\n",
        "import nglview as nv\n",
        "\n",
        "parser = PDBParser()\n",
        "structure = parser.get_structure('my_protein', pdb_file)\n",
        "\n",
        "# create an NGLViewer widget and add the structure to it\n",
        "view = nv.show_biopython(structure)\n",
        "\n",
        "# display the widget\n",
        "view"
      ]
    },
    {
      "cell_type": "code",
      "execution_count": null,
      "metadata": {
        "cellView": "form",
        "id": "QBZJHKQAZUVA"
      },
      "outputs": [],
      "source": [
        "#@title 6. Execute Rosetta\n",
        "\n",
        "print(\"Running Rosetta ...\")\n",
        "!./run_rosetta_colab.sh $job_name $num_models &>> /content/output\n",
        "print(\"Done running Rosetta\\n\")"
      ]
    },
    {
      "cell_type": "code",
      "execution_count": null,
      "metadata": {
        "cellView": "form",
        "colab": {
          "base_uri": "https://localhost:8080/"
        },
        "id": "4QMLemcgZUjh",
        "outputId": "910c5205-1794-4054-e0c9-3cfcbd34ef20"
      },
      "outputs": [
        {
          "name": "stdout",
          "output_type": "stream",
          "text": [
            "Running scoring and ranking ...\n",
            "Done running scoring and ranking\n",
            "\n"
          ]
        }
      ],
      "source": [
        "#@title 7. Scoring and Ranking\n",
        "\n",
        "print(\"Running scoring and ranking ...\")\n",
        "!./run_rank_colab.sh $job_name $num_models &>> /content/output\n",
        "print(\"Done running scoring and ranking\\n\")\n"
      ]
    },
    {
      "cell_type": "markdown",
      "metadata": {
        "id": "Wh9w6Ax21wV6"
      },
      "source": [
        "## Note\n",
        "\n",
        "After scoring and ranking step execution is complete you can download the final predicted structure (.pdb files) of your input map under /content/DeepMainMast/dmmsinglechain/results/\\<your_job_name\\>/ranked/ folder. Depending on the number of models parameter you have set in the configuration DeepMainMast will generate several files and rank them accordinf to DAQ and DOT scores (rank0 being the most accurate, rank1 being second best and so on)."
      ]
    },
    {
      "cell_type": "code",
      "execution_count": null,
      "metadata": {
        "cellView": "form",
        "colab": {
          "base_uri": "https://localhost:8080/",
          "height": 497
        },
        "id": "cd1ePGAgtMxU",
        "outputId": "e1c5d239-54b4-498a-c2a9-516a4fa2830f"
      },
      "outputs": [
        {
          "data": {
            "application/3dmoljs_load.v0": "<div id=\"3dmolviewer_1675466187249673\"  style=\"position: relative; width: 640px; height: 480px\">\n        <p id=\"3dmolwarning_1675466187249673\" style=\"background-color:#ffcccc;color:black\">You appear to be running in JupyterLab (or JavaScript failed to load for some other reason).  You need to install the 3dmol extension: <br>\n        <tt>jupyter labextension install jupyterlab_3dmol</tt></p>\n        </div>\n<script>\n\nvar loadScriptAsync = function(uri){\n  return new Promise((resolve, reject) => {\n    //this is to ignore the existence of requirejs amd\n    var savedexports, savedmodule;\n    if (typeof exports !== 'undefined') savedexports = exports;\n    else exports = {}\n    if (typeof module !== 'undefined') savedmodule = module;\n    else module = {}\n\n    var tag = document.createElement('script');\n    tag.src = uri;\n    tag.async = true;\n    tag.onload = () => {\n        exports = savedexports;\n        module = savedmodule;\n        resolve();\n    };\n  var firstScriptTag = document.getElementsByTagName('script')[0];\n  firstScriptTag.parentNode.insertBefore(tag, firstScriptTag);\n});\n};\n\nif(typeof $3Dmolpromise === 'undefined') {\n$3Dmolpromise = null;\n  $3Dmolpromise = loadScriptAsync('https://3dmol.org/build/3Dmol.js');\n}\n\nvar viewer_1675466187249673 = null;\nvar warn = document.getElementById(\"3dmolwarning_1675466187249673\");\nif(warn) {\n    warn.parentNode.removeChild(warn);\n}\n$3Dmolpromise.then(function() {\nviewer_1675466187249673 = $3Dmol.createViewer(document.getElementById(\"3dmolviewer_1675466187249673\"),{backgroundColor:\"white\"});\nviewer_1675466187249673.zoomTo();\n\tviewer_1675466187249673.addModel(\"ATOM      1  N   PHE A   1      40.447  16.942  34.427  1.00  0.00           N  \\nATOM      2  CA  PHE A   1      40.288  15.850  35.383  1.00  0.00           C  \\nATOM      3  C   PHE A   1      39.486  14.667  34.870  1.00  0.00           C  \\nATOM      4  O   PHE A   1      39.982  13.534  34.805  1.00  0.00           O  \\nATOM      5  CB  PHE A   1      39.682  16.365  36.678  1.00  0.00           C  \\nATOM      6  CG  PHE A   1      39.323  15.280  37.581  1.00  0.00           C  \\nATOM      7  CD1 PHE A   1      40.271  14.435  38.096  1.00  0.00           C  \\nATOM      8  CD2 PHE A   1      38.026  15.113  37.948  1.00  0.00           C  \\nATOM      9  CE1 PHE A   1      39.907  13.427  38.941  1.00  0.00           C  \\nATOM     10  CE2 PHE A   1      37.655  14.115  38.792  1.00  0.00           C  \\nATOM     11  CZ  PHE A   1      38.596  13.266  39.288  1.00  0.00           C  \\nATOM     12 1H   PHE A   1      41.270  16.800  33.860  1.00  0.00           H  \\nATOM     13 2H   PHE A   1      39.638  17.004  33.824  1.00  0.00           H  \\nATOM     14 3H   PHE A   1      40.547  17.810  34.933  1.00  0.00           H  \\nATOM     15  HA  PHE A   1      41.286  15.485  35.619  1.00  0.00           H  \\nATOM     16 1HB  PHE A   1      40.394  17.013  37.188  1.00  0.00           H  \\nATOM     17 2HB  PHE A   1      38.792  16.949  36.468  1.00  0.00           H  \\nATOM     18  HD1 PHE A   1      41.317  14.558  37.827  1.00  0.00           H  \\nATOM     19  HD2 PHE A   1      37.289  15.793  37.568  1.00  0.00           H  \\nATOM     20  HE1 PHE A   1      40.664  12.753  39.346  1.00  0.00           H  \\nATOM     21  HE2 PHE A   1      36.611  13.997  39.079  1.00  0.00           H  \\nATOM     22  HZ  PHE A   1      38.312  12.470  39.972  1.00  0.00           H  \\nATOM     23  N   PHE A   2      38.258  14.903  34.475  1.00  0.00           N  \\nATOM     24  CA  PHE A   2      37.516  13.802  33.924  1.00  0.00           C  \\nATOM     25  C   PHE A   2      37.902  13.569  32.481  1.00  0.00           C  \\nATOM     26  O   PHE A   2      37.989  14.510  31.694  1.00  0.00           O  \\nATOM     27  CB  PHE A   2      36.039  14.077  33.965  1.00  0.00           C  \\nATOM     28  CG  PHE A   2      35.352  13.893  35.250  1.00  0.00           C  \\nATOM     29  CD1 PHE A   2      35.259  14.833  36.171  1.00  0.00           C  \\nATOM     30  CD2 PHE A   2      34.714  12.739  35.464  1.00  0.00           C  \\nATOM     31  CE1 PHE A   2      34.550  14.598  37.326  1.00  0.00           C  \\nATOM     32  CE2 PHE A   2      33.998  12.499  36.578  1.00  0.00           C  \\nATOM     33  CZ  PHE A   2      33.920  13.436  37.522  1.00  0.00           C  \\nATOM     34  H   PHE A   2      37.841  15.818  34.533  1.00  0.00           H  \\nATOM     35  HA  PHE A   2      37.733  12.903  34.503  1.00  0.00           H  \\nATOM     36 1HB  PHE A   2      35.877  15.101  33.655  1.00  0.00           H  \\nATOM     37 2HB  PHE A   2      35.564  13.438  33.231  1.00  0.00           H  \\nATOM     38  HD1 PHE A   2      35.750  15.773  36.009  1.00  0.00           H  \\nATOM     39  HD2 PHE A   2      34.756  11.996  34.696  1.00  0.00           H  \\nATOM     40  HE1 PHE A   2      34.491  15.341  38.084  1.00  0.00           H  \\nATOM     41  HE2 PHE A   2      33.480  11.545  36.691  1.00  0.00           H  \\nATOM     42  HZ  PHE A   2      33.350  13.258  38.429  1.00  0.00           H  \\nATOM     43  N   ARG A   3      38.134  12.302  32.140  1.00  0.00           N  \\nATOM     44  CA  ARG A   3      38.406  11.870  30.778  1.00  0.00           C  \\nATOM     45  C   ARG A   3      37.232  10.975  30.479  1.00  0.00           C  \\nATOM     46  O   ARG A   3      36.834  10.724  29.342  1.00  0.00           O  \\nATOM     47  CB  ARG A   3      39.679  11.053  30.698  1.00  0.00           C  \\nATOM     48  CG  ARG A   3      40.999  11.820  30.682  1.00  0.00           C  \\nATOM     49  CD  ARG A   3      41.376  12.333  32.045  1.00  0.00           C  \\nATOM     50  NE  ARG A   3      42.735  12.839  32.071  1.00  0.00           N  \\nATOM     51  CZ  ARG A   3      43.383  13.326  33.159  1.00  0.00           C  \\nATOM     52  NH1 ARG A   3      42.794  13.402  34.342  1.00  0.00           N  \\nATOM     53  NH2 ARG A   3      44.640  13.729  33.030  1.00  0.00           N  \\nATOM     54  H   ARG A   3      38.063  11.587  32.843  1.00  0.00           H  \\nATOM     55  HA  ARG A   3      38.425  12.719  30.095  1.00  0.00           H  \\nATOM     56 1HB  ARG A   3      39.715  10.365  31.539  1.00  0.00           H  \\nATOM     57 2HB  ARG A   3      39.650  10.448  29.792  1.00  0.00           H  \\nATOM     58 1HG  ARG A   3      41.796  11.168  30.328  1.00  0.00           H  \\nATOM     59 2HG  ARG A   3      40.907  12.678  30.016  1.00  0.00           H  \\nATOM     60 1HD  ARG A   3      40.723  13.154  32.307  1.00  0.00           H  \\nATOM     61 2HD  ARG A   3      41.283  11.540  32.785  1.00  0.00           H  \\nATOM     62  HE  ARG A   3      43.249  12.810  31.203  1.00  0.00           H  \\nATOM     63 1HH1 ARG A   3      41.813  13.114  34.470  1.00  0.00           H  \\nATOM     64 2HH1 ARG A   3      43.303  13.758  35.134  1.00  0.00           H  \\nATOM     65 1HH2 ARG A   3      45.100  13.673  32.131  1.00  0.00           H  \\nATOM     66 2HH2 ARG A   3      45.141  14.092  33.828  1.00  0.00           H  \\nATOM     67  N   ARG A   4      36.737  10.467  31.590  1.00  0.00           N  \\nATOM     68  CA  ARG A   4      35.628   9.554  31.736  1.00  0.00           C  \\nATOM     69  C   ARG A   4      34.401  10.429  31.807  1.00  0.00           C  \\nATOM     70  O   ARG A   4      34.567  11.633  31.980  1.00  0.00           O  \\nATOM     71  CB  ARG A   4      35.824   8.725  32.996  1.00  0.00           C  \\nATOM     72  CG  ARG A   4      35.727   9.504  34.303  1.00  0.00           C  \\nATOM     73  CD  ARG A   4      36.161   8.703  35.471  1.00  0.00           C  \\nATOM     74  NE  ARG A   4      35.871   9.368  36.751  1.00  0.00           N  \\nATOM     75  CZ  ARG A   4      36.618  10.309  37.382  1.00  0.00           C  \\nATOM     76  NH1 ARG A   4      37.740  10.766  36.867  1.00  0.00           N  \\nATOM     77  NH2 ARG A   4      36.192  10.764  38.545  1.00  0.00           N  \\nATOM     78  H   ARG A   4      37.193  10.781  32.428  1.00  0.00           H  \\nATOM     79  HA  ARG A   4      35.562   8.900  30.864  1.00  0.00           H  \\nATOM     80 1HB  ARG A   4      35.070   7.940  33.030  1.00  0.00           H  \\nATOM     81 2HB  ARG A   4      36.800   8.243  32.967  1.00  0.00           H  \\nATOM     82 1HG  ARG A   4      36.336  10.402  34.250  1.00  0.00           H  \\nATOM     83 2HG  ARG A   4      34.682   9.775  34.470  1.00  0.00           H  \\nATOM     84 1HD  ARG A   4      35.630   7.751  35.461  1.00  0.00           H  \\nATOM     85 2HD  ARG A   4      37.231   8.513  35.412  1.00  0.00           H  \\nATOM     86  HE  ARG A   4      35.022   9.075  37.219  1.00  0.00           H  \\nATOM     87 1HH1 ARG A   4      38.071  10.435  35.981  1.00  0.00           H  \\nATOM     88 2HH1 ARG A   4      38.273  11.477  37.363  1.00  0.00           H  \\nATOM     89 1HH2 ARG A   4      35.332  10.413  38.941  1.00  0.00           H  \\nATOM     90 2HH2 ARG A   4      36.723  11.457  39.043  1.00  0.00           H  \\nATOM     91  N   ARG A   5      33.196   9.869  31.680  1.00  0.00           N  \\nATOM     92  CA  ARG A   5      31.999  10.699  31.800  1.00  0.00           C  \\nATOM     93  C   ARG A   5      32.250  11.743  32.867  1.00  0.00           C  \\nATOM     94  O   ARG A   5      32.543  11.397  34.011  1.00  0.00           O  \\nATOM     95  CB  ARG A   5      30.783   9.850  32.131  1.00  0.00           C  \\nATOM     96  CG  ARG A   5      30.786   9.085  33.445  1.00  0.00           C  \\nATOM     97  CD  ARG A   5      29.496   8.405  33.632  1.00  0.00           C  \\nATOM     98  NE  ARG A   5      28.486   9.374  34.005  1.00  0.00           N  \\nATOM     99  CZ  ARG A   5      27.155   9.280  33.822  1.00  0.00           C  \\nATOM    100  NH1 ARG A   5      26.619   8.240  33.213  1.00  0.00           N  \\nATOM    101  NH2 ARG A   5      26.392  10.253  34.268  1.00  0.00           N  \\nATOM    102  H   ARG A   5      33.108   8.882  31.495  1.00  0.00           H  \\nATOM    103  HA  ARG A   5      31.820  11.197  30.850  1.00  0.00           H  \\nATOM    104 1HB  ARG A   5      29.884  10.419  32.031  1.00  0.00           H  \\nATOM    105 2HB  ARG A   5      30.723   9.069  31.414  1.00  0.00           H  \\nATOM    106 1HG  ARG A   5      31.590   8.353  33.458  1.00  0.00           H  \\nATOM    107 2HG  ARG A   5      30.887   9.756  34.286  1.00  0.00           H  \\nATOM    108 1HD  ARG A   5      29.202   7.931  32.698  1.00  0.00           H  \\nATOM    109 2HD  ARG A   5      29.577   7.661  34.423  1.00  0.00           H  \\nATOM    110  HE  ARG A   5      28.831  10.193  34.491  1.00  0.00           H  \\nATOM    111 1HH1 ARG A   5      27.201   7.494  32.876  1.00  0.00           H  \\nATOM    112 2HH1 ARG A   5      25.618   8.182  33.099  1.00  0.00           H  \\nATOM    113 1HH2 ARG A   5      26.804  11.072  34.742  1.00  0.00           H  \\nATOM    114 2HH2 ARG A   5      25.385  10.253  34.111  1.00  0.00           H  \\nATOM    115  N   ARG A   6      32.079  12.999  32.480  1.00  0.00           N  \\nATOM    116  CA  ARG A   6      32.393  14.165  33.301  1.00  0.00           C  \\nATOM    117  C   ARG A   6      31.614  14.423  34.589  1.00  0.00           C  \\nATOM    118  O   ARG A   6      30.797  13.637  35.066  1.00  0.00           O  \\nATOM    119  CB  ARG A   6      32.377  15.414  32.444  1.00  0.00           C  \\nATOM    120  CG  ARG A   6      33.461  15.455  31.419  1.00  0.00           C  \\nATOM    121  CD  ARG A   6      33.540  16.768  30.783  1.00  0.00           C  \\nATOM    122  NE  ARG A   6      34.657  16.840  29.875  1.00  0.00           N  \\nATOM    123  CZ  ARG A   6      34.630  16.493  28.575  1.00  0.00           C  \\nATOM    124  NH1 ARG A   6      33.519  16.054  28.017  1.00  0.00           N  \\nATOM    125  NH2 ARG A   6      35.734  16.598  27.856  1.00  0.00           N  \\nATOM    126  H   ARG A   6      31.801  13.132  31.500  1.00  0.00           H  \\nATOM    127  HA  ARG A   6      33.407  14.050  33.567  1.00  0.00           H  \\nATOM    128 1HB  ARG A   6      31.456  15.460  31.906  1.00  0.00           H  \\nATOM    129 2HB  ARG A   6      32.449  16.315  33.027  1.00  0.00           H  \\nATOM    130 1HG  ARG A   6      34.415  15.238  31.868  1.00  0.00           H  \\nATOM    131 2HG  ARG A   6      33.251  14.707  30.652  1.00  0.00           H  \\nATOM    132 1HD  ARG A   6      32.621  16.985  30.243  1.00  0.00           H  \\nATOM    133 2HD  ARG A   6      33.687  17.524  31.554  1.00  0.00           H  \\nATOM    134  HE  ARG A   6      35.542  17.158  30.257  1.00  0.00           H  \\nATOM    135 1HH1 ARG A   6      32.674  15.972  28.563  1.00  0.00           H  \\nATOM    136 2HH1 ARG A   6      33.514  15.803  27.038  1.00  0.00           H  \\nATOM    137 1HH2 ARG A   6      36.587  16.933  28.288  1.00  0.00           H  \\nATOM    138 2HH2 ARG A   6      35.732  16.344  26.879  1.00  0.00           H  \\nATOM    139  N   PHE A   7      31.909  15.554  35.183  1.00  0.00           N  \\nATOM    140  CA  PHE A   7      31.272  15.981  36.392  1.00  0.00           C  \\nATOM    141  C   PHE A   7      29.822  16.150  36.081  1.00  0.00           C  \\nATOM    142  O   PHE A   7      29.493  16.730  35.039  1.00  0.00           O  \\nATOM    143  CB  PHE A   7      31.652  17.429  36.691  1.00  0.00           C  \\nATOM    144  CG  PHE A   7      33.027  17.725  36.932  1.00  0.00           C  \\nATOM    145  CD1 PHE A   7      33.824  18.073  35.857  1.00  0.00           C  \\nATOM    146  CD2 PHE A   7      33.555  17.730  38.186  1.00  0.00           C  \\nATOM    147  CE1 PHE A   7      35.135  18.395  36.034  1.00  0.00           C  \\nATOM    148  CE2 PHE A   7      34.881  18.052  38.373  1.00  0.00           C  \\nATOM    149  CZ  PHE A   7      35.670  18.380  37.294  1.00  0.00           C  \\nATOM    150  H   PHE A   7      32.620  16.144  34.792  1.00  0.00           H  \\nATOM    151  HA  PHE A   7      31.432  15.269  37.203  1.00  0.00           H  \\nATOM    152 1HB  PHE A   7      31.334  18.042  35.862  1.00  0.00           H  \\nATOM    153 2HB  PHE A   7      31.082  17.764  37.557  1.00  0.00           H  \\nATOM    154  HD1 PHE A   7      33.394  18.093  34.859  1.00  0.00           H  \\nATOM    155  HD2 PHE A   7      32.924  17.475  39.040  1.00  0.00           H  \\nATOM    156  HE1 PHE A   7      35.753  18.663  35.180  1.00  0.00           H  \\nATOM    157  HE2 PHE A   7      35.307  18.050  39.377  1.00  0.00           H  \\nATOM    158  HZ  PHE A   7      36.718  18.637  37.447  1.00  0.00           H  \\nATOM    159  N   CYS A   8      28.923  15.744  36.955  1.00  0.00           N  \\nATOM    160  CA  CYS A   8      27.577  16.098  36.599  1.00  0.00           C  \\nATOM    161  C   CYS A   8      27.491  17.514  37.020  1.00  0.00           C  \\nATOM    162  O   CYS A   8      27.245  17.827  38.190  1.00  0.00           O  \\nATOM    163  CB  CYS A   8      26.506  15.296  37.283  1.00  0.00           C  \\nATOM    164  SG  CYS A   8      24.835  15.813  36.760  1.00  0.00           S  \\nATOM    165  H   CYS A   8      29.166  15.237  37.794  1.00  0.00           H  \\nATOM    166  HA  CYS A   8      27.438  16.017  35.519  1.00  0.00           H  \\nATOM    167 1HB  CYS A   8      26.643  14.250  37.012  1.00  0.00           H  \\nATOM    168 2HB  CYS A   8      26.583  15.380  38.362  1.00  0.00           H  \\nATOM    169  HG  CYS A   8      24.354  14.552  36.634  1.00  0.00           H  \\nATOM    170  N   ARG A   9      27.702  18.376  36.062  1.00  0.00           N  \\nATOM    171  CA  ARG A   9      27.785  19.768  36.359  1.00  0.00           C  \\nATOM    172  C   ARG A   9      26.483  20.272  36.874  1.00  0.00           C  \\nATOM    173  O   ARG A   9      26.451  20.992  37.851  1.00  0.00           O  \\nATOM    174  CB  ARG A   9      28.221  20.543  35.152  1.00  0.00           C  \\nATOM    175  CG  ARG A   9      29.644  20.265  34.793  1.00  0.00           C  \\nATOM    176  CD  ARG A   9      30.129  21.092  33.688  1.00  0.00           C  \\nATOM    177  NE  ARG A   9      31.478  20.702  33.288  1.00  0.00           N  \\nATOM    178  CZ  ARG A   9      32.615  21.058  33.919  1.00  0.00           C  \\nATOM    179  NH1 ARG A   9      32.576  21.800  35.004  1.00  0.00           N  \\nATOM    180  NH2 ARG A   9      33.779  20.657  33.443  1.00  0.00           N  \\nATOM    181  H   ARG A   9      27.918  17.998  35.135  1.00  0.00           H  \\nATOM    182  HA  ARG A   9      28.541  19.907  37.130  1.00  0.00           H  \\nATOM    183 1HB  ARG A   9      27.588  20.300  34.299  1.00  0.00           H  \\nATOM    184 2HB  ARG A   9      28.124  21.607  35.345  1.00  0.00           H  \\nATOM    185 1HG  ARG A   9      30.265  20.421  35.669  1.00  0.00           H  \\nATOM    186 2HG  ARG A   9      29.729  19.230  34.476  1.00  0.00           H  \\nATOM    187 1HD  ARG A   9      29.469  20.956  32.829  1.00  0.00           H  \\nATOM    188 2HD  ARG A   9      30.132  22.143  33.974  1.00  0.00           H  \\nATOM    189  HE  ARG A   9      31.561  20.132  32.455  1.00  0.00           H  \\nATOM    190 1HH1 ARG A   9      31.693  22.116  35.375  1.00  0.00           H  \\nATOM    191 2HH1 ARG A   9      33.435  22.059  35.472  1.00  0.00           H  \\nATOM    192 1HH2 ARG A   9      33.818  20.095  32.605  1.00  0.00           H  \\nATOM    193 2HH2 ARG A   9      34.635  20.924  33.910  1.00  0.00           H  \\nATOM    194  N   PHE A  10      25.389  19.760  36.356  1.00  0.00           N  \\nATOM    195  CA  PHE A  10      24.105  20.257  36.784  1.00  0.00           C  \\nATOM    196  C   PHE A  10      23.930  20.052  38.267  1.00  0.00           C  \\nATOM    197  O   PHE A  10      23.410  20.919  38.974  1.00  0.00           O  \\nATOM    198  CB  PHE A  10      23.022  19.487  36.092  1.00  0.00           C  \\nATOM    199  CG  PHE A  10      23.036  19.668  34.685  1.00  0.00           C  \\nATOM    200  CD1 PHE A  10      23.443  18.645  33.888  1.00  0.00           C  \\nATOM    201  CD2 PHE A  10      22.673  20.846  34.118  1.00  0.00           C  \\nATOM    202  CE1 PHE A  10      23.471  18.793  32.536  1.00  0.00           C  \\nATOM    203  CE2 PHE A  10      22.699  21.010  32.773  1.00  0.00           C  \\nATOM    204  CZ  PHE A  10      23.093  19.978  31.977  1.00  0.00           C  \\nATOM    205  H   PHE A  10      25.467  19.107  35.591  1.00  0.00           H  \\nATOM    206  HA  PHE A  10      24.043  21.321  36.555  1.00  0.00           H  \\nATOM    207 1HB  PHE A  10      23.119  18.432  36.310  1.00  0.00           H  \\nATOM    208 2HB  PHE A  10      22.070  19.808  36.461  1.00  0.00           H  \\nATOM    209  HD1 PHE A  10      23.741  17.701  34.337  1.00  0.00           H  \\nATOM    210  HD2 PHE A  10      22.361  21.657  34.742  1.00  0.00           H  \\nATOM    211  HE1 PHE A  10      23.794  17.963  31.899  1.00  0.00           H  \\nATOM    212  HE2 PHE A  10      22.398  21.960  32.332  1.00  0.00           H  \\nATOM    213  HZ  PHE A  10      23.104  20.097  30.901  1.00  0.00           H  \\nATOM    214  N   THR A  11      24.369  18.907  38.760  1.00  0.00           N  \\nATOM    215  CA  THR A  11      24.239  18.656  40.174  1.00  0.00           C  \\nATOM    216  C   THR A  11      25.142  19.603  40.936  1.00  0.00           C  \\nATOM    217  O   THR A  11      24.720  20.263  41.888  1.00  0.00           O  \\nATOM    218  CB  THR A  11      24.628  17.209  40.526  1.00  0.00           C  \\nATOM    219  OG1 THR A  11      23.752  16.301  39.864  1.00  0.00           O  \\nATOM    220  CG2 THR A  11      24.528  16.986  42.012  1.00  0.00           C  \\nATOM    221  H   THR A  11      24.821  18.232  38.158  1.00  0.00           H  \\nATOM    222  HA  THR A  11      23.205  18.835  40.470  1.00  0.00           H  \\nATOM    223  HB  THR A  11      25.651  17.017  40.198  1.00  0.00           H  \\nATOM    224  HG1 THR A  11      23.928  16.332  38.928  1.00  0.00           H  \\nATOM    225 1HG2 THR A  11      24.800  15.957  42.237  1.00  0.00           H  \\nATOM    226 2HG2 THR A  11      25.199  17.656  42.547  1.00  0.00           H  \\nATOM    227 3HG2 THR A  11      23.504  17.170  42.335  1.00  0.00           H  \\nATOM    228  N   ALA A  12      26.387  19.715  40.479  1.00  0.00           N  \\nATOM    229  CA  ALA A  12      27.399  20.527  41.142  1.00  0.00           C  \\nATOM    230  C   ALA A  12      27.007  21.993  41.218  1.00  0.00           C  \\nATOM    231  O   ALA A  12      27.269  22.680  42.205  1.00  0.00           O  \\nATOM    232  CB  ALA A  12      28.712  20.392  40.401  1.00  0.00           C  \\nATOM    233  H   ALA A  12      26.658  19.161  39.658  1.00  0.00           H  \\nATOM    234  HA  ALA A  12      27.514  20.153  42.160  1.00  0.00           H  \\nATOM    235 1HB  ALA A  12      29.479  20.970  40.911  1.00  0.00           H  \\nATOM    236 2HB  ALA A  12      29.003  19.342  40.366  1.00  0.00           H  \\nATOM    237 3HB  ALA A  12      28.588  20.767  39.391  1.00  0.00           H  \\nATOM    238  N   GLU A  13      26.334  22.443  40.181  1.00  0.00           N  \\nATOM    239  CA  GLU A  13      25.880  23.799  39.986  1.00  0.00           C  \\nATOM    240  C   GLU A  13      24.603  24.139  40.737  1.00  0.00           C  \\nATOM    241  O   GLU A  13      24.198  25.303  40.750  1.00  0.00           O  \\nATOM    242  CB  GLU A  13      25.647  24.017  38.490  1.00  0.00           C  \\nATOM    243  CG  GLU A  13      26.885  24.019  37.604  1.00  0.00           C  \\nATOM    244  CD  GLU A  13      26.526  24.002  36.142  1.00  0.00           C  \\nATOM    245  OE1 GLU A  13      25.358  23.938  35.847  1.00  0.00           O  \\nATOM    246  OE2 GLU A  13      27.417  24.023  35.323  1.00  0.00           O  \\nATOM    247  H   GLU A  13      26.196  21.802  39.403  1.00  0.00           H  \\nATOM    248  HA  GLU A  13      26.667  24.469  40.327  1.00  0.00           H  \\nATOM    249 1HB  GLU A  13      25.044  23.196  38.131  1.00  0.00           H  \\nATOM    250 2HB  GLU A  13      25.093  24.939  38.327  1.00  0.00           H  \\nATOM    251 1HG  GLU A  13      27.450  24.925  37.810  1.00  0.00           H  \\nATOM    252 2HG  GLU A  13      27.523  23.176  37.843  1.00  0.00           H  \\nATOM    253  N   GLY A  14      23.931  23.149  41.319  1.00  0.00           N  \\nATOM    254  CA  GLY A  14      22.677  23.426  41.988  1.00  0.00           C  \\nATOM    255  C   GLY A  14      21.513  23.625  41.018  1.00  0.00           C  \\nATOM    256  O   GLY A  14      20.579  24.372  41.316  1.00  0.00           O  \\nATOM    257  H   GLY A  14      24.309  22.198  41.341  1.00  0.00           H  \\nATOM    258 1HA  GLY A  14      22.451  22.597  42.658  1.00  0.00           H  \\nATOM    259 2HA  GLY A  14      22.792  24.313  42.609  1.00  0.00           H  \\nATOM    260  N   VAL A  15      21.581  23.005  39.845  1.00  0.00           N  \\nATOM    261  CA  VAL A  15      20.539  23.150  38.850  1.00  0.00           C  \\nATOM    262  C   VAL A  15      19.306  22.383  39.236  1.00  0.00           C  \\nATOM    263  O   VAL A  15      19.366  21.208  39.606  1.00  0.00           O  \\nATOM    264  CB  VAL A  15      21.061  22.669  37.492  1.00  0.00           C  \\nATOM    265  CG1 VAL A  15      19.981  22.655  36.433  1.00  0.00           C  \\nATOM    266  CG2 VAL A  15      22.165  23.598  37.093  1.00  0.00           C  \\nATOM    267  H   VAL A  15      22.364  22.376  39.639  1.00  0.00           H  \\nATOM    268  HA  VAL A  15      20.283  24.207  38.773  1.00  0.00           H  \\nATOM    269  HB  VAL A  15      21.433  21.669  37.594  1.00  0.00           H  \\nATOM    270 1HG1 VAL A  15      20.390  22.325  35.496  1.00  0.00           H  \\nATOM    271 2HG1 VAL A  15      19.174  21.982  36.712  1.00  0.00           H  \\nATOM    272 3HG1 VAL A  15      19.597  23.660  36.320  1.00  0.00           H  \\nATOM    273 1HG2 VAL A  15      22.607  23.308  36.152  1.00  0.00           H  \\nATOM    274 2HG2 VAL A  15      21.774  24.608  37.004  1.00  0.00           H  \\nATOM    275 3HG2 VAL A  15      22.917  23.580  37.852  1.00  0.00           H  \\nATOM    276  N   LYS A  16      18.170  23.053  39.167  1.00  0.00           N  \\nATOM    277  CA  LYS A  16      16.935  22.396  39.532  1.00  0.00           C  \\nATOM    278  C   LYS A  16      16.197  21.999  38.278  1.00  0.00           C  \\nATOM    279  O   LYS A  16      15.488  20.992  38.244  1.00  0.00           O  \\nATOM    280  CB  LYS A  16      16.106  23.332  40.382  1.00  0.00           C  \\nATOM    281  CG  LYS A  16      16.855  23.833  41.619  1.00  0.00           C  \\nATOM    282  CD  LYS A  16      17.329  22.711  42.536  1.00  0.00           C  \\nATOM    283  CE  LYS A  16      18.008  23.280  43.763  1.00  0.00           C  \\nATOM    284  NZ  LYS A  16      18.521  22.213  44.664  1.00  0.00           N  \\nATOM    285  H   LYS A  16      18.185  24.021  38.878  1.00  0.00           H  \\nATOM    286  HA  LYS A  16      17.151  21.483  40.081  1.00  0.00           H  \\nATOM    287 1HB  LYS A  16      15.805  24.196  39.790  1.00  0.00           H  \\nATOM    288 2HB  LYS A  16      15.200  22.823  40.710  1.00  0.00           H  \\nATOM    289 1HG  LYS A  16      17.730  24.409  41.306  1.00  0.00           H  \\nATOM    290 2HG  LYS A  16      16.202  24.494  42.186  1.00  0.00           H  \\nATOM    291 1HD  LYS A  16      16.488  22.087  42.833  1.00  0.00           H  \\nATOM    292 2HD  LYS A  16      18.066  22.093  42.029  1.00  0.00           H  \\nATOM    293 1HE  LYS A  16      18.845  23.903  43.444  1.00  0.00           H  \\nATOM    294 2HE  LYS A  16      17.298  23.895  44.312  1.00  0.00           H  \\nATOM    295 1HZ  LYS A  16      18.970  22.636  45.464  1.00  0.00           H  \\nATOM    296 2HZ  LYS A  16      17.755  21.633  44.975  1.00  0.00           H  \\nATOM    297 3HZ  LYS A  16      19.191  21.647  44.162  1.00  0.00           H  \\nATOM    298  N   GLU A  17      16.389  22.785  37.239  1.00  0.00           N  \\nATOM    299  CA  GLU A  17      15.772  22.537  35.961  1.00  0.00           C  \\nATOM    300  C   GLU A  17      16.713  23.021  34.910  1.00  0.00           C  \\nATOM    301  O   GLU A  17      17.510  23.928  35.152  1.00  0.00           O  \\nATOM    302  CB  GLU A  17      14.448  23.263  35.807  1.00  0.00           C  \\nATOM    303  CG  GLU A  17      14.561  24.772  35.769  1.00  0.00           C  \\nATOM    304  CD  GLU A  17      13.235  25.429  35.633  1.00  0.00           C  \\nATOM    305  OE1 GLU A  17      12.251  24.733  35.655  1.00  0.00           O  \\nATOM    306  OE2 GLU A  17      13.195  26.627  35.494  1.00  0.00           O  \\nATOM    307  H   GLU A  17      16.962  23.602  37.348  1.00  0.00           H  \\nATOM    308  HA  GLU A  17      15.624  21.463  35.827  1.00  0.00           H  \\nATOM    309 1HB  GLU A  17      13.964  22.943  34.885  1.00  0.00           H  \\nATOM    310 2HB  GLU A  17      13.790  22.994  36.634  1.00  0.00           H  \\nATOM    311 1HG  GLU A  17      15.041  25.118  36.684  1.00  0.00           H  \\nATOM    312 2HG  GLU A  17      15.179  25.076  34.925  1.00  0.00           H  \\nATOM    313  N   ILE A  18      16.595  22.481  33.728  1.00  0.00           N  \\nATOM    314  CA  ILE A  18      17.428  22.960  32.675  1.00  0.00           C  \\nATOM    315  C   ILE A  18      16.596  23.799  31.767  1.00  0.00           C  \\nATOM    316  O   ILE A  18      15.706  23.316  31.077  1.00  0.00           O  \\nATOM    317  CB  ILE A  18      18.087  21.794  31.953  1.00  0.00           C  \\nATOM    318  CG1 ILE A  18      18.924  21.022  33.001  1.00  0.00           C  \\nATOM    319  CG2 ILE A  18      18.930  22.302  30.784  1.00  0.00           C  \\nATOM    320  CD1 ILE A  18      19.510  19.745  32.534  1.00  0.00           C  \\nATOM    321  H   ILE A  18      15.905  21.762  33.563  1.00  0.00           H  \\nATOM    322  HA  ILE A  18      18.215  23.587  33.091  1.00  0.00           H  \\nATOM    323  HB  ILE A  18      17.320  21.115  31.576  1.00  0.00           H  \\nATOM    324 1HG1 ILE A  18      19.727  21.663  33.336  1.00  0.00           H  \\nATOM    325 2HG1 ILE A  18      18.295  20.782  33.852  1.00  0.00           H  \\nATOM    326 1HG2 ILE A  18      19.399  21.476  30.265  1.00  0.00           H  \\nATOM    327 2HG2 ILE A  18      18.294  22.838  30.074  1.00  0.00           H  \\nATOM    328 3HG2 ILE A  18      19.701  22.977  31.156  1.00  0.00           H  \\nATOM    329 1HD1 ILE A  18      20.075  19.287  33.330  1.00  0.00           H  \\nATOM    330 2HD1 ILE A  18      18.740  19.074  32.218  1.00  0.00           H  \\nATOM    331 3HD1 ILE A  18      20.170  19.941  31.727  1.00  0.00           H  \\nATOM    332  N   ASP A  19      16.884  25.073  31.777  1.00  0.00           N  \\nATOM    333  CA  ASP A  19      16.111  26.016  31.016  1.00  0.00           C  \\nATOM    334  C   ASP A  19      16.497  25.959  29.563  1.00  0.00           C  \\nATOM    335  O   ASP A  19      17.673  26.050  29.215  1.00  0.00           O  \\nATOM    336  CB  ASP A  19      16.226  27.433  31.518  1.00  0.00           C  \\nATOM    337  CG  ASP A  19      15.213  28.270  30.805  1.00  0.00           C  \\nATOM    338  OD1 ASP A  19      14.602  27.745  29.895  1.00  0.00           O  \\nATOM    339  OD2 ASP A  19      15.013  29.405  31.139  1.00  0.00           O  \\nATOM    340  H   ASP A  19      17.641  25.396  32.365  1.00  0.00           H  \\nATOM    341  HA  ASP A  19      15.061  25.731  31.094  1.00  0.00           H  \\nATOM    342 1HB  ASP A  19      16.037  27.465  32.595  1.00  0.00           H  \\nATOM    343 2HB  ASP A  19      17.228  27.823  31.332  1.00  0.00           H  \\nATOM    344  N   TYR A  20      15.518  25.761  28.716  1.00  0.00           N  \\nATOM    345  CA  TYR A  20      15.716  25.636  27.280  1.00  0.00           C  \\nATOM    346  C   TYR A  20      16.215  26.943  26.700  1.00  0.00           C  \\nATOM    347  O   TYR A  20      16.757  26.990  25.600  1.00  0.00           O  \\nATOM    348  CB  TYR A  20      14.451  25.168  26.591  1.00  0.00           C  \\nATOM    349  CG  TYR A  20      13.409  26.144  26.623  1.00  0.00           C  \\nATOM    350  CD1 TYR A  20      13.308  27.065  25.625  1.00  0.00           C  \\nATOM    351  CD2 TYR A  20      12.541  26.143  27.671  1.00  0.00           C  \\nATOM    352  CE1 TYR A  20      12.323  27.991  25.680  1.00  0.00           C  \\nATOM    353  CE2 TYR A  20      11.560  27.065  27.728  1.00  0.00           C  \\nATOM    354  CZ  TYR A  20      11.445  27.988  26.742  1.00  0.00           C  \\nATOM    355  OH  TYR A  20      10.443  28.919  26.803  1.00  0.00           O  \\nATOM    356  H   TYR A  20      14.587  25.778  29.116  1.00  0.00           H  \\nATOM    357  HA  TYR A  20      16.487  24.901  27.111  1.00  0.00           H  \\nATOM    358 1HB  TYR A  20      14.666  24.922  25.547  1.00  0.00           H  \\nATOM    359 2HB  TYR A  20      14.087  24.267  27.071  1.00  0.00           H  \\nATOM    360  HD1 TYR A  20      14.011  27.058  24.791  1.00  0.00           H  \\nATOM    361  HD2 TYR A  20      12.634  25.402  28.463  1.00  0.00           H  \\nATOM    362  HE1 TYR A  20      12.230  28.735  24.890  1.00  0.00           H  \\nATOM    363  HE2 TYR A  20      10.862  27.069  28.564  1.00  0.00           H  \\nATOM    364  HH  TYR A  20      10.509  29.512  26.050  1.00  0.00           H  \\nATOM    365  N   LYS A  21      16.025  28.017  27.440  1.00  0.00           N  \\nATOM    366  CA  LYS A  21      16.473  29.313  26.999  1.00  0.00           C  \\nATOM    367  C   LYS A  21      17.978  29.494  27.232  1.00  0.00           C  \\nATOM    368  O   LYS A  21      18.600  30.420  26.698  1.00  0.00           O  \\nATOM    369  CB  LYS A  21      15.729  30.418  27.720  1.00  0.00           C  \\nATOM    370  CG  LYS A  21      14.253  30.374  27.491  1.00  0.00           C  \\nATOM    371  CD  LYS A  21      13.532  31.656  27.918  1.00  0.00           C  \\nATOM    372  CE  LYS A  21      13.680  32.055  29.405  1.00  0.00           C  \\nATOM    373  NZ  LYS A  21      13.137  31.073  30.353  1.00  0.00           N  \\nATOM    374  H   LYS A  21      15.536  27.905  28.337  1.00  0.00           H  \\nATOM    375  HA  LYS A  21      16.287  29.399  25.928  1.00  0.00           H  \\nATOM    376 1HB  LYS A  21      15.917  30.329  28.788  1.00  0.00           H  \\nATOM    377 2HB  LYS A  21      16.103  31.387  27.394  1.00  0.00           H  \\nATOM    378 1HG  LYS A  21      14.075  30.211  26.432  1.00  0.00           H  \\nATOM    379 2HG  LYS A  21      13.838  29.528  28.040  1.00  0.00           H  \\nATOM    380 1HD  LYS A  21      13.896  32.480  27.306  1.00  0.00           H  \\nATOM    381 2HD  LYS A  21      12.470  31.527  27.712  1.00  0.00           H  \\nATOM    382 1HE  LYS A  21      14.727  32.229  29.640  1.00  0.00           H  \\nATOM    383 2HE  LYS A  21      13.133  32.987  29.536  1.00  0.00           H  \\nATOM    384 1HZ  LYS A  21      13.251  31.421  31.290  1.00  0.00           H  \\nATOM    385 2HZ  LYS A  21      12.165  30.897  30.177  1.00  0.00           H  \\nATOM    386 3HZ  LYS A  21      13.665  30.208  30.291  1.00  0.00           H  \\nATOM    387  N   ASP A  22      18.598  28.642  28.039  1.00  0.00           N  \\nATOM    388  CA  ASP A  22      20.006  28.825  28.322  1.00  0.00           C  \\nATOM    389  C   ASP A  22      20.831  28.158  27.264  1.00  0.00           C  \\nATOM    390  O   ASP A  22      21.244  27.001  27.390  1.00  0.00           O  \\nATOM    391  CB  ASP A  22      20.371  28.252  29.677  1.00  0.00           C  \\nATOM    392  CG  ASP A  22      21.838  28.497  30.059  1.00  0.00           C  \\nATOM    393  OD1 ASP A  22      22.654  28.853  29.199  1.00  0.00           O  \\nATOM    394  OD2 ASP A  22      22.155  28.278  31.212  1.00  0.00           O  \\nATOM    395  H   ASP A  22      18.113  27.835  28.435  1.00  0.00           H  \\nATOM    396  HA  ASP A  22      20.231  29.891  28.318  1.00  0.00           H  \\nATOM    397 1HB  ASP A  22      19.725  28.690  30.438  1.00  0.00           H  \\nATOM    398 2HB  ASP A  22      20.178  27.174  29.673  1.00  0.00           H  \\nATOM    399  N   LEU A  23      21.099  28.898  26.219  1.00  0.00           N  \\nATOM    400  CA  LEU A  23      21.773  28.293  25.106  1.00  0.00           C  \\nATOM    401  C   LEU A  23      23.224  28.036  25.320  1.00  0.00           C  \\nATOM    402  O   LEU A  23      23.784  27.158  24.674  1.00  0.00           O  \\nATOM    403  CB  LEU A  23      21.572  29.108  23.860  1.00  0.00           C  \\nATOM    404  CG  LEU A  23      20.380  28.685  23.044  1.00  0.00           C  \\nATOM    405  CD1 LEU A  23      19.096  28.769  23.879  1.00  0.00           C  \\nATOM    406  CD2 LEU A  23      20.316  29.553  21.802  1.00  0.00           C  \\nATOM    407  H   LEU A  23      20.718  29.847  26.188  1.00  0.00           H  \\nATOM    408  HA  LEU A  23      21.309  27.325  24.932  1.00  0.00           H  \\nATOM    409 1HB  LEU A  23      21.440  30.151  24.143  1.00  0.00           H  \\nATOM    410 2HB  LEU A  23      22.462  29.026  23.240  1.00  0.00           H  \\nATOM    411  HG  LEU A  23      20.502  27.653  22.748  1.00  0.00           H  \\nATOM    412 1HD1 LEU A  23      18.281  28.446  23.297  1.00  0.00           H  \\nATOM    413 2HD1 LEU A  23      19.136  28.125  24.745  1.00  0.00           H  \\nATOM    414 3HD1 LEU A  23      18.927  29.794  24.201  1.00  0.00           H  \\nATOM    415 1HD2 LEU A  23      19.493  29.255  21.173  1.00  0.00           H  \\nATOM    416 2HD2 LEU A  23      20.187  30.596  22.091  1.00  0.00           H  \\nATOM    417 3HD2 LEU A  23      21.238  29.444  21.239  1.00  0.00           H  \\nATOM    418  N   ASN A  24      23.876  28.747  26.209  1.00  0.00           N  \\nATOM    419  CA  ASN A  24      25.271  28.413  26.319  1.00  0.00           C  \\nATOM    420  C   ASN A  24      25.369  27.045  26.943  1.00  0.00           C  \\nATOM    421  O   ASN A  24      26.143  26.183  26.495  1.00  0.00           O  \\nATOM    422  CB  ASN A  24      25.975  29.432  27.150  1.00  0.00           C  \\nATOM    423  CG  ASN A  24      26.098  30.692  26.434  1.00  0.00           C  \\nATOM    424  OD1 ASN A  24      26.017  30.747  25.204  1.00  0.00           O  \\nATOM    425  ND2 ASN A  24      26.289  31.743  27.168  1.00  0.00           N  \\nATOM    426  H   ASN A  24      23.436  29.477  26.761  1.00  0.00           H  \\nATOM    427  HA  ASN A  24      25.717  28.366  25.325  1.00  0.00           H  \\nATOM    428 1HB  ASN A  24      25.416  29.596  28.076  1.00  0.00           H  \\nATOM    429 2HB  ASN A  24      26.965  29.069  27.419  1.00  0.00           H  \\nATOM    430 1HD2 ASN A  24      26.379  32.643  26.738  1.00  0.00           H  \\nATOM    431 2HD2 ASN A  24      26.344  31.658  28.163  1.00  0.00           H  \\nATOM    432  N   THR A  25      24.513  26.811  27.924  1.00  0.00           N  \\nATOM    433  CA  THR A  25      24.503  25.539  28.578  1.00  0.00           C  \\nATOM    434  C   THR A  25      24.083  24.456  27.631  1.00  0.00           C  \\nATOM    435  O   THR A  25      24.687  23.396  27.606  1.00  0.00           O  \\nATOM    436  CB  THR A  25      23.594  25.568  29.800  1.00  0.00           C  \\nATOM    437  OG1 THR A  25      24.120  26.517  30.734  1.00  0.00           O  \\nATOM    438  CG2 THR A  25      23.500  24.202  30.454  1.00  0.00           C  \\nATOM    439  H   THR A  25      23.888  27.560  28.273  1.00  0.00           H  \\nATOM    440  HA  THR A  25      25.515  25.319  28.914  1.00  0.00           H  \\nATOM    441  HB  THR A  25      22.602  25.885  29.489  1.00  0.00           H  \\nATOM    442  HG1 THR A  25      23.387  27.022  31.160  1.00  0.00           H  \\nATOM    443 1HG2 THR A  25      22.848  24.272  31.321  1.00  0.00           H  \\nATOM    444 2HG2 THR A  25      23.091  23.472  29.757  1.00  0.00           H  \\nATOM    445 3HG2 THR A  25      24.492  23.887  30.771  1.00  0.00           H  \\nATOM    446  N   LEU A  26      23.057  24.689  26.830  1.00  0.00           N  \\nATOM    447  CA  LEU A  26      22.639  23.611  25.962  1.00  0.00           C  \\nATOM    448  C   LEU A  26      23.686  23.297  24.928  1.00  0.00           C  \\nATOM    449  O   LEU A  26      23.952  22.133  24.640  1.00  0.00           O  \\nATOM    450  CB  LEU A  26      21.357  23.960  25.221  1.00  0.00           C  \\nATOM    451  CG  LEU A  26      20.074  24.120  26.050  1.00  0.00           C  \\nATOM    452  CD1 LEU A  26      18.979  24.578  25.112  1.00  0.00           C  \\nATOM    453  CD2 LEU A  26      19.690  22.833  26.753  1.00  0.00           C  \\nATOM    454  H   LEU A  26      22.546  25.576  26.878  1.00  0.00           H  \\nATOM    455  HA  LEU A  26      22.495  22.720  26.562  1.00  0.00           H  \\nATOM    456 1HB  LEU A  26      21.522  24.899  24.696  1.00  0.00           H  \\nATOM    457 2HB  LEU A  26      21.173  23.186  24.476  1.00  0.00           H  \\nATOM    458  HG  LEU A  26      20.220  24.890  26.797  1.00  0.00           H  \\nATOM    459 1HD1 LEU A  26      18.081  24.727  25.657  1.00  0.00           H  \\nATOM    460 2HD1 LEU A  26      19.263  25.517  24.638  1.00  0.00           H  \\nATOM    461 3HD1 LEU A  26      18.806  23.824  24.353  1.00  0.00           H  \\nATOM    462 1HD2 LEU A  26      18.778  23.007  27.315  1.00  0.00           H  \\nATOM    463 2HD2 LEU A  26      19.525  22.067  26.028  1.00  0.00           H  \\nATOM    464 3HD2 LEU A  26      20.468  22.522  27.439  1.00  0.00           H  \\nATOM    465  N   LYS A  27      24.352  24.307  24.393  1.00  0.00           N  \\nATOM    466  CA  LYS A  27      25.334  24.037  23.366  1.00  0.00           C  \\nATOM    467  C   LYS A  27      26.420  23.128  23.870  1.00  0.00           C  \\nATOM    468  O   LYS A  27      26.917  22.270  23.144  1.00  0.00           O  \\nATOM    469  CB  LYS A  27      25.894  25.322  22.809  1.00  0.00           C  \\nATOM    470  CG  LYS A  27      24.906  26.042  21.931  1.00  0.00           C  \\nATOM    471  CD  LYS A  27      25.458  27.333  21.428  1.00  0.00           C  \\nATOM    472  CE  LYS A  27      24.459  28.037  20.539  1.00  0.00           C  \\nATOM    473  NZ  LYS A  27      24.986  29.339  20.044  1.00  0.00           N  \\nATOM    474  H   LYS A  27      24.139  25.277  24.643  1.00  0.00           H  \\nATOM    475  HA  LYS A  27      24.831  23.520  22.550  1.00  0.00           H  \\nATOM    476 1HB  LYS A  27      26.162  25.987  23.637  1.00  0.00           H  \\nATOM    477 2HB  LYS A  27      26.795  25.117  22.235  1.00  0.00           H  \\nATOM    478 1HG  LYS A  27      24.681  25.407  21.074  1.00  0.00           H  \\nATOM    479 2HG  LYS A  27      23.979  26.218  22.462  1.00  0.00           H  \\nATOM    480 1HD  LYS A  27      25.690  27.977  22.281  1.00  0.00           H  \\nATOM    481 2HD  LYS A  27      26.374  27.150  20.868  1.00  0.00           H  \\nATOM    482 1HE  LYS A  27      24.227  27.401  19.687  1.00  0.00           H  \\nATOM    483 2HE  LYS A  27      23.545  28.216  21.105  1.00  0.00           H  \\nATOM    484 1HZ  LYS A  27      24.295  29.784  19.457  1.00  0.00           H  \\nATOM    485 2HZ  LYS A  27      25.193  29.939  20.834  1.00  0.00           H  \\nATOM    486 3HZ  LYS A  27      25.830  29.184  19.510  1.00  0.00           H  \\nATOM    487  N   ALA A  28      26.732  23.228  25.139  1.00  0.00           N  \\nATOM    488  CA  ALA A  28      27.757  22.410  25.734  1.00  0.00           C  \\nATOM    489  C   ALA A  28      27.486  20.912  25.589  1.00  0.00           C  \\nATOM    490  O   ALA A  28      28.405  20.103  25.716  1.00  0.00           O  \\nATOM    491  CB  ALA A  28      27.877  22.743  27.201  1.00  0.00           C  \\nATOM    492  H   ALA A  28      26.300  23.974  25.701  1.00  0.00           H  \\nATOM    493  HA  ALA A  28      28.696  22.636  25.231  1.00  0.00           H  \\nATOM    494 1HB  ALA A  28      28.674  22.153  27.644  1.00  0.00           H  \\nATOM    495 2HB  ALA A  28      28.095  23.805  27.313  1.00  0.00           H  \\nATOM    496 3HB  ALA A  28      26.947  22.515  27.695  1.00  0.00           H  \\nATOM    497  N   TYR A  29      26.231  20.526  25.417  1.00  0.00           N  \\nATOM    498  CA  TYR A  29      25.871  19.130  25.343  1.00  0.00           C  \\nATOM    499  C   TYR A  29      25.411  18.684  23.974  1.00  0.00           C  \\nATOM    500  O   TYR A  29      24.792  17.618  23.859  1.00  0.00           O  \\nATOM    501  CB  TYR A  29      24.792  18.875  26.356  1.00  0.00           C  \\nATOM    502  CG  TYR A  29      25.258  19.262  27.669  1.00  0.00           C  \\nATOM    503  CD1 TYR A  29      24.800  20.406  28.213  1.00  0.00           C  \\nATOM    504  CD2 TYR A  29      26.173  18.511  28.316  1.00  0.00           C  \\nATOM    505  CE1 TYR A  29      25.256  20.806  29.421  1.00  0.00           C  \\nATOM    506  CE2 TYR A  29      26.632  18.897  29.531  1.00  0.00           C  \\nATOM    507  CZ  TYR A  29      26.174  20.047  30.087  1.00  0.00           C  \\nATOM    508  OH  TYR A  29      26.634  20.454  31.318  1.00  0.00           O  \\nATOM    509  H   TYR A  29      25.497  21.224  25.276  1.00  0.00           H  \\nATOM    510  HA  TYR A  29      26.748  18.536  25.595  1.00  0.00           H  \\nATOM    511 1HB  TYR A  29      23.901  19.459  26.108  1.00  0.00           H  \\nATOM    512 2HB  TYR A  29      24.522  17.818  26.371  1.00  0.00           H  \\nATOM    513  HD1 TYR A  29      24.071  21.010  27.676  1.00  0.00           H  \\nATOM    514  HD2 TYR A  29      26.540  17.609  27.862  1.00  0.00           H  \\nATOM    515  HE1 TYR A  29      24.891  21.728  29.856  1.00  0.00           H  \\nATOM    516  HE2 TYR A  29      27.370  18.296  30.057  1.00  0.00           H  \\nATOM    517  HH  TYR A  29      26.211  21.287  31.557  1.00  0.00           H  \\nATOM    518  N   VAL A  30      25.617  19.514  22.964  1.00  0.00           N  \\nATOM    519  CA  VAL A  30      25.157  19.173  21.633  1.00  0.00           C  \\nATOM    520  C   VAL A  30      26.287  19.215  20.636  1.00  0.00           C  \\nATOM    521  O   VAL A  30      27.088  20.146  20.621  1.00  0.00           O  \\nATOM    522  CB  VAL A  30      24.013  20.098  21.211  1.00  0.00           C  \\nATOM    523  CG1 VAL A  30      23.533  19.758  19.815  1.00  0.00           C  \\nATOM    524  CG2 VAL A  30      22.884  19.938  22.170  1.00  0.00           C  \\nATOM    525  H   VAL A  30      26.124  20.397  23.116  1.00  0.00           H  \\nATOM    526  HA  VAL A  30      24.766  18.157  21.645  1.00  0.00           H  \\nATOM    527  HB  VAL A  30      24.361  21.132  21.213  1.00  0.00           H  \\nATOM    528 1HG1 VAL A  30      22.715  20.420  19.540  1.00  0.00           H  \\nATOM    529 2HG1 VAL A  30      24.323  19.882  19.109  1.00  0.00           H  \\nATOM    530 3HG1 VAL A  30      23.181  18.726  19.789  1.00  0.00           H  \\nATOM    531 1HG2 VAL A  30      22.062  20.589  21.881  1.00  0.00           H  \\nATOM    532 2HG2 VAL A  30      22.560  18.901  22.147  1.00  0.00           H  \\nATOM    533 3HG2 VAL A  30      23.202  20.197  23.174  1.00  0.00           H  \\nATOM    534  N   SER A  31      26.346  18.194  19.809  1.00  0.00           N  \\nATOM    535  CA  SER A  31      27.343  18.063  18.777  1.00  0.00           C  \\nATOM    536  C   SER A  31      27.114  19.066  17.682  1.00  0.00           C  \\nATOM    537  O   SER A  31      26.016  19.578  17.485  1.00  0.00           O  \\nATOM    538  CB  SER A  31      27.338  16.673  18.206  1.00  0.00           C  \\nATOM    539  OG  SER A  31      27.759  15.739  19.155  1.00  0.00           O  \\nATOM    540  H   SER A  31      25.637  17.461  19.878  1.00  0.00           H  \\nATOM    541  HA  SER A  31      28.324  18.254  19.214  1.00  0.00           H  \\nATOM    542 1HB  SER A  31      26.334  16.440  17.882  1.00  0.00           H  \\nATOM    543 2HB  SER A  31      27.986  16.629  17.329  1.00  0.00           H  \\nATOM    544  HG  SER A  31      27.636  14.878  18.750  1.00  0.00           H  \\nATOM    545  N   GLU A  32      28.139  19.297  16.902  1.00  0.00           N  \\nATOM    546  CA  GLU A  32      28.127  20.231  15.784  1.00  0.00           C  \\nATOM    547  C   GLU A  32      27.169  19.800  14.683  1.00  0.00           C  \\nATOM    548  O   GLU A  32      26.847  20.569  13.782  1.00  0.00           O  \\nATOM    549  CB  GLU A  32      29.541  20.347  15.233  1.00  0.00           C  \\nATOM    550  CG  GLU A  32      30.038  19.085  14.549  1.00  0.00           C  \\nATOM    551  CD  GLU A  32      30.514  18.032  15.512  1.00  0.00           C  \\nATOM    552  OE1 GLU A  32      30.483  18.268  16.704  1.00  0.00           O  \\nATOM    553  OE2 GLU A  32      30.878  16.984  15.065  1.00  0.00           O  \\nATOM    554  H   GLU A  32      29.018  18.825  17.120  1.00  0.00           H  \\nATOM    555  HA  GLU A  32      27.809  21.206  16.156  1.00  0.00           H  \\nATOM    556 1HB  GLU A  32      29.583  21.158  14.508  1.00  0.00           H  \\nATOM    557 2HB  GLU A  32      30.231  20.593  16.040  1.00  0.00           H  \\nATOM    558 1HG  GLU A  32      29.289  18.674  13.893  1.00  0.00           H  \\nATOM    559 2HG  GLU A  32      30.880  19.371  13.922  1.00  0.00           H  \\nATOM    560  N   THR A  33      26.732  18.560  14.766  1.00  0.00           N  \\nATOM    561  CA  THR A  33      25.822  17.929  13.850  1.00  0.00           C  \\nATOM    562  C   THR A  33      24.382  18.085  14.289  1.00  0.00           C  \\nATOM    563  O   THR A  33      23.468  17.646  13.592  1.00  0.00           O  \\nATOM    564  CB  THR A  33      26.079  16.437  13.825  1.00  0.00           C  \\nATOM    565  OG1 THR A  33      25.763  15.905  15.128  1.00  0.00           O  \\nATOM    566  CG2 THR A  33      27.534  16.178  13.534  1.00  0.00           C  \\nATOM    567  H   THR A  33      27.075  18.008  15.535  1.00  0.00           H  \\nATOM    568  HA  THR A  33      25.949  18.368  12.863  1.00  0.00           H  \\nATOM    569  HB  THR A  33      25.450  15.967  13.070  1.00  0.00           H  \\nATOM    570  HG1 THR A  33      25.764  14.937  15.066  1.00  0.00           H  \\nATOM    571 1HG2 THR A  33      27.716  15.105  13.528  1.00  0.00           H  \\nATOM    572 2HG2 THR A  33      27.788  16.594  12.560  1.00  0.00           H  \\nATOM    573 3HG2 THR A  33      28.157  16.633  14.292  1.00  0.00           H  \\nATOM    574  N   GLY A  34      24.186  18.615  15.494  1.00  0.00           N  \\nATOM    575  CA  GLY A  34      22.874  18.760  16.096  1.00  0.00           C  \\nATOM    576  C   GLY A  34      22.539  17.598  17.025  1.00  0.00           C  \\nATOM    577  O   GLY A  34      21.537  17.635  17.746  1.00  0.00           O  \\nATOM    578  H   GLY A  34      24.981  18.974  16.023  1.00  0.00           H  \\nATOM    579 1HA  GLY A  34      22.846  19.694  16.656  1.00  0.00           H  \\nATOM    580 2HA  GLY A  34      22.118  18.835  15.313  1.00  0.00           H  \\nATOM    581  N   LYS A  35      23.369  16.569  17.026  1.00  0.00           N  \\nATOM    582  CA  LYS A  35      23.128  15.408  17.855  1.00  0.00           C  \\nATOM    583  C   LYS A  35      23.288  15.653  19.351  1.00  0.00           C  \\nATOM    584  O   LYS A  35      24.249  16.272  19.805  1.00  0.00           O  \\nATOM    585  CB  LYS A  35      24.047  14.276  17.412  1.00  0.00           C  \\nATOM    586  CG  LYS A  35      23.924  12.987  18.188  1.00  0.00           C  \\nATOM    587  CD  LYS A  35      22.638  12.252  17.884  1.00  0.00           C  \\nATOM    588  CE  LYS A  35      22.500  10.987  18.724  1.00  0.00           C  \\nATOM    589  NZ  LYS A  35      22.061  11.260  20.149  1.00  0.00           N  \\nATOM    590  H   LYS A  35      24.174  16.588  16.400  1.00  0.00           H  \\nATOM    591  HA  LYS A  35      22.097  15.102  17.685  1.00  0.00           H  \\nATOM    592 1HB  LYS A  35      23.856  14.052  16.363  1.00  0.00           H  \\nATOM    593 2HB  LYS A  35      25.075  14.594  17.488  1.00  0.00           H  \\nATOM    594 1HG  LYS A  35      24.749  12.342  17.887  1.00  0.00           H  \\nATOM    595 2HG  LYS A  35      24.023  13.159  19.249  1.00  0.00           H  \\nATOM    596 1HD  LYS A  35      21.781  12.880  18.090  1.00  0.00           H  \\nATOM    597 2HD  LYS A  35      22.618  11.977  16.830  1.00  0.00           H  \\nATOM    598 1HE  LYS A  35      21.770  10.335  18.252  1.00  0.00           H  \\nATOM    599 2HE  LYS A  35      23.463  10.478  18.750  1.00  0.00           H  \\nATOM    600 1HZ  LYS A  35      21.987  10.381  20.635  1.00  0.00           H  \\nATOM    601 2HZ  LYS A  35      22.725  11.863  20.676  1.00  0.00           H  \\nATOM    602 3HZ  LYS A  35      21.162  11.705  20.145  1.00  0.00           H  \\nATOM    603  N   ILE A  36      22.367  15.114  20.139  1.00  0.00           N  \\nATOM    604  CA  ILE A  36      22.487  15.217  21.582  1.00  0.00           C  \\nATOM    605  C   ILE A  36      23.550  14.251  22.082  1.00  0.00           C  \\nATOM    606  O   ILE A  36      23.516  13.054  21.770  1.00  0.00           O  \\nATOM    607  CB  ILE A  36      21.148  14.914  22.257  1.00  0.00           C  \\nATOM    608  CG1 ILE A  36      20.149  15.955  21.800  1.00  0.00           C  \\nATOM    609  CG2 ILE A  36      21.306  14.924  23.779  1.00  0.00           C  \\nATOM    610  CD1 ILE A  36      18.704  15.702  22.190  1.00  0.00           C  \\nATOM    611  H   ILE A  36      21.563  14.658  19.733  1.00  0.00           H  \\nATOM    612  HA  ILE A  36      22.797  16.231  21.843  1.00  0.00           H  \\nATOM    613  HB  ILE A  36      20.787  13.941  21.937  1.00  0.00           H  \\nATOM    614 1HG1 ILE A  36      20.456  16.894  22.185  1.00  0.00           H  \\nATOM    615 2HG1 ILE A  36      20.187  16.014  20.723  1.00  0.00           H  \\nATOM    616 1HG2 ILE A  36      20.361  14.714  24.263  1.00  0.00           H  \\nATOM    617 2HG2 ILE A  36      22.023  14.165  24.093  1.00  0.00           H  \\nATOM    618 3HG2 ILE A  36      21.663  15.905  24.102  1.00  0.00           H  \\nATOM    619 1HD1 ILE A  36      18.081  16.508  21.798  1.00  0.00           H  \\nATOM    620 2HD1 ILE A  36      18.371  14.755  21.771  1.00  0.00           H  \\nATOM    621 3HD1 ILE A  36      18.596  15.674  23.265  1.00  0.00           H  \\nATOM    622  N   VAL A  37      24.479  14.765  22.876  1.00  0.00           N  \\nATOM    623  CA  VAL A  37      25.580  13.989  23.411  1.00  0.00           C  \\nATOM    624  C   VAL A  37      25.106  13.131  24.602  1.00  0.00           C  \\nATOM    625  O   VAL A  37      24.448  13.672  25.496  1.00  0.00           O  \\nATOM    626  CB  VAL A  37      26.680  14.949  23.858  1.00  0.00           C  \\nATOM    627  CG1 VAL A  37      27.841  14.202  24.466  1.00  0.00           C  \\nATOM    628  CG2 VAL A  37      27.122  15.783  22.670  1.00  0.00           C  \\nATOM    629  H   VAL A  37      24.438  15.763  23.110  1.00  0.00           H  \\nATOM    630  HA  VAL A  37      25.958  13.387  22.595  1.00  0.00           H  \\nATOM    631  HB  VAL A  37      26.273  15.602  24.634  1.00  0.00           H  \\nATOM    632 1HG1 VAL A  37      28.593  14.915  24.800  1.00  0.00           H  \\nATOM    633 2HG1 VAL A  37      27.515  13.611  25.296  1.00  0.00           H  \\nATOM    634 3HG1 VAL A  37      28.284  13.551  23.725  1.00  0.00           H  \\nATOM    635 1HG2 VAL A  37      27.884  16.495  22.983  1.00  0.00           H  \\nATOM    636 2HG2 VAL A  37      27.529  15.132  21.899  1.00  0.00           H  \\nATOM    637 3HG2 VAL A  37      26.283  16.325  22.257  1.00  0.00           H  \\nATOM    638  N   PRO A  38      25.397  11.814  24.632  1.00  0.00           N  \\nATOM    639  CA  PRO A  38      25.025  10.860  25.664  1.00  0.00           C  \\nATOM    640  C   PRO A  38      25.757  11.065  26.977  1.00  0.00           C  \\nATOM    641  O   PRO A  38      26.898  11.543  26.992  1.00  0.00           O  \\nATOM    642  CB  PRO A  38      25.398   9.527  25.032  1.00  0.00           C  \\nATOM    643  CG  PRO A  38      26.490   9.851  24.078  1.00  0.00           C  \\nATOM    644  CD  PRO A  38      26.157  11.206  23.539  1.00  0.00           C  \\nATOM    645  HA  PRO A  38      23.936  10.920  25.823  1.00  0.00           H  \\nATOM    646 1HB  PRO A  38      25.710   8.817  25.809  1.00  0.00           H  \\nATOM    647 2HB  PRO A  38      24.518   9.090  24.537  1.00  0.00           H  \\nATOM    648 1HG  PRO A  38      27.455   9.837  24.593  1.00  0.00           H  \\nATOM    649 2HG  PRO A  38      26.542   9.087  23.288  1.00  0.00           H  \\nATOM    650 1HD  PRO A  38      27.099  11.707  23.356  1.00  0.00           H  \\nATOM    651 2HD  PRO A  38      25.534  11.124  22.631  1.00  0.00           H  \\nATOM    652  N   SER A  39      25.139  10.584  28.050  1.00  0.00           N  \\nATOM    653  CA  SER A  39      25.644  10.691  29.411  1.00  0.00           C  \\nATOM    654  C   SER A  39      26.967  10.013  29.673  1.00  0.00           C  \\nATOM    655  O   SER A  39      27.762  10.477  30.494  1.00  0.00           O  \\nATOM    656  CB  SER A  39      24.646  10.069  30.333  1.00  0.00           C  \\nATOM    657  OG  SER A  39      24.550   8.698  30.072  1.00  0.00           O  \\nATOM    658  H   SER A  39      24.225  10.167  27.942  1.00  0.00           H  \\nATOM    659  HA  SER A  39      25.735  11.749  29.648  1.00  0.00           H  \\nATOM    660 1HB  SER A  39      24.958  10.230  31.365  1.00  0.00           H  \\nATOM    661 2HB  SER A  39      23.678  10.539  30.211  1.00  0.00           H  \\nATOM    662  HG  SER A  39      23.956   8.346  30.744  1.00  0.00           H  \\nATOM    663  N   ARG A  40      27.320   9.006  28.888  1.00  0.00           N  \\nATOM    664  CA  ARG A  40      28.599   8.350  29.114  1.00  0.00           C  \\nATOM    665  C   ARG A  40      29.746   9.294  28.791  1.00  0.00           C  \\nATOM    666  O   ARG A  40      30.909   9.001  29.068  1.00  0.00           O  \\nATOM    667  CB  ARG A  40      28.759   7.094  28.296  1.00  0.00           C  \\nATOM    668  CG  ARG A  40      28.958   7.304  26.838  1.00  0.00           C  \\nATOM    669  CD  ARG A  40      29.241   6.051  26.159  1.00  0.00           C  \\nATOM    670  NE  ARG A  40      28.114   5.159  26.210  1.00  0.00           N  \\nATOM    671  CZ  ARG A  40      27.109   5.127  25.316  1.00  0.00           C  \\nATOM    672  NH1 ARG A  40      27.094   5.955  24.293  1.00  0.00           N  \\nATOM    673  NH2 ARG A  40      26.130   4.257  25.473  1.00  0.00           N  \\nATOM    674  H   ARG A  40      26.663   8.632  28.217  1.00  0.00           H  \\nATOM    675  HA  ARG A  40      28.662   8.077  30.166  1.00  0.00           H  \\nATOM    676 1HB  ARG A  40      29.612   6.530  28.668  1.00  0.00           H  \\nATOM    677 2HB  ARG A  40      27.874   6.474  28.426  1.00  0.00           H  \\nATOM    678 1HG  ARG A  40      28.085   7.779  26.397  1.00  0.00           H  \\nATOM    679 2HG  ARG A  40      29.823   7.915  26.683  1.00  0.00           H  \\nATOM    680 1HD  ARG A  40      29.506   6.237  25.123  1.00  0.00           H  \\nATOM    681 2HD  ARG A  40      30.080   5.564  26.657  1.00  0.00           H  \\nATOM    682  HE  ARG A  40      28.079   4.496  26.976  1.00  0.00           H  \\nATOM    683 1HH1 ARG A  40      27.842   6.617  24.163  1.00  0.00           H  \\nATOM    684 2HH1 ARG A  40      26.335   5.921  23.626  1.00  0.00           H  \\nATOM    685 1HH2 ARG A  40      26.139   3.619  26.258  1.00  0.00           H  \\nATOM    686 2HH2 ARG A  40      25.370   4.222  24.809  1.00  0.00           H  \\nATOM    687  N   ILE A  41      29.449  10.376  28.105  1.00  0.00           N  \\nATOM    688  CA  ILE A  41      30.443  11.347  27.793  1.00  0.00           C  \\nATOM    689  C   ILE A  41      30.290  12.547  28.699  1.00  0.00           C  \\nATOM    690  O   ILE A  41      31.271  13.046  29.262  1.00  0.00           O  \\nATOM    691  CB  ILE A  41      30.319  11.801  26.347  1.00  0.00           C  \\nATOM    692  CG1 ILE A  41      30.407  10.590  25.406  1.00  0.00           C  \\nATOM    693  CG2 ILE A  41      31.357  12.859  26.027  1.00  0.00           C  \\nATOM    694  CD1 ILE A  41      31.672   9.752  25.495  1.00  0.00           C  \\nATOM    695  H   ILE A  41      28.479  10.575  27.857  1.00  0.00           H  \\nATOM    696  HA  ILE A  41      31.431  10.932  27.971  1.00  0.00           H  \\nATOM    697  HB  ILE A  41      29.328  12.227  26.201  1.00  0.00           H  \\nATOM    698 1HG1 ILE A  41      29.561   9.956  25.608  1.00  0.00           H  \\nATOM    699 2HG1 ILE A  41      30.320  10.955  24.384  1.00  0.00           H  \\nATOM    700 1HG2 ILE A  41      31.232  13.181  24.994  1.00  0.00           H  \\nATOM    701 2HG2 ILE A  41      31.233  13.720  26.678  1.00  0.00           H  \\nATOM    702 3HG2 ILE A  41      32.358  12.459  26.163  1.00  0.00           H  \\nATOM    703 1HD1 ILE A  41      31.603   8.935  24.778  1.00  0.00           H  \\nATOM    704 2HD1 ILE A  41      32.543  10.354  25.259  1.00  0.00           H  \\nATOM    705 3HD1 ILE A  41      31.790   9.330  26.488  1.00  0.00           H  \\nATOM    706  N   THR A  42      29.055  13.026  28.832  1.00  0.00           N  \\nATOM    707  CA  THR A  42      28.869  14.282  29.527  1.00  0.00           C  \\nATOM    708  C   THR A  42      28.890  14.174  31.018  1.00  0.00           C  \\nATOM    709  O   THR A  42      29.101  15.184  31.681  1.00  0.00           O  \\nATOM    710  CB  THR A  42      27.507  14.914  29.248  1.00  0.00           C  \\nATOM    711  OG1 THR A  42      26.480  14.118  29.854  1.00  0.00           O  \\nATOM    712  CG2 THR A  42      27.255  14.944  27.777  1.00  0.00           C  \\nATOM    713  H   THR A  42      28.267  12.561  28.376  1.00  0.00           H  \\nATOM    714  HA  THR A  42      29.660  14.963  29.221  1.00  0.00           H  \\nATOM    715  HB  THR A  42      27.481  15.919  29.657  1.00  0.00           H  \\nATOM    716  HG1 THR A  42      25.637  14.627  29.826  1.00  0.00           H  \\nATOM    717 1HG2 THR A  42      26.274  15.374  27.574  1.00  0.00           H  \\nATOM    718 2HG2 THR A  42      28.024  15.535  27.281  1.00  0.00           H  \\nATOM    719 3HG2 THR A  42      27.272  13.944  27.413  1.00  0.00           H  \\nATOM    720  N   GLY A  43      28.656  12.999  31.583  1.00  0.00           N  \\nATOM    721  CA  GLY A  43      28.686  12.920  33.027  1.00  0.00           C  \\nATOM    722  C   GLY A  43      27.360  13.184  33.674  1.00  0.00           C  \\nATOM    723  O   GLY A  43      27.175  12.982  34.877  1.00  0.00           O  \\nATOM    724  H   GLY A  43      28.431  12.162  31.041  1.00  0.00           H  \\nATOM    725 1HA  GLY A  43      29.103  11.985  33.368  1.00  0.00           H  \\nATOM    726 2HA  GLY A  43      29.348  13.695  33.350  1.00  0.00           H  \\nATOM    727  N   THR A  44      26.410  13.548  32.869  1.00  0.00           N  \\nATOM    728  CA  THR A  44      25.117  13.909  33.342  1.00  0.00           C  \\nATOM    729  C   THR A  44      24.402  12.757  34.040  1.00  0.00           C  \\nATOM    730  O   THR A  44      24.333  11.639  33.524  1.00  0.00           O  \\nATOM    731  CB  THR A  44      24.322  14.397  32.144  1.00  0.00           C  \\nATOM    732  OG1 THR A  44      25.036  15.463  31.500  1.00  0.00           O  \\nATOM    733  CG2 THR A  44      23.061  14.920  32.580  1.00  0.00           C  \\nATOM    734  H   THR A  44      26.622  13.641  31.881  1.00  0.00           H  \\nATOM    735  HA  THR A  44      25.231  14.727  34.047  1.00  0.00           H  \\nATOM    736  HB  THR A  44      24.172  13.586  31.452  1.00  0.00           H  \\nATOM    737  HG1 THR A  44      25.758  15.093  30.987  1.00  0.00           H  \\nATOM    738 1HG2 THR A  44      22.518  15.280  31.727  1.00  0.00           H  \\nATOM    739 2HG2 THR A  44      22.511  14.156  33.052  1.00  0.00           H  \\nATOM    740 3HG2 THR A  44      23.234  15.726  33.265  1.00  0.00           H  \\nATOM    741  N   LYS A  45      23.849  13.025  35.211  1.00  0.00           N  \\nATOM    742  CA  LYS A  45      23.088  12.010  35.911  1.00  0.00           C  \\nATOM    743  C   LYS A  45      21.792  11.843  35.174  1.00  0.00           C  \\nATOM    744  O   LYS A  45      21.317  12.788  34.550  1.00  0.00           O  \\nATOM    745  CB  LYS A  45      22.898  12.357  37.362  1.00  0.00           C  \\nATOM    746  CG  LYS A  45      24.177  12.307  38.109  1.00  0.00           C  \\nATOM    747  CD  LYS A  45      23.994  12.670  39.551  1.00  0.00           C  \\nATOM    748  CE  LYS A  45      25.327  12.715  40.286  1.00  0.00           C  \\nATOM    749  NZ  LYS A  45      25.976  11.365  40.376  1.00  0.00           N  \\nATOM    750  H   LYS A  45      23.961  13.948  35.599  1.00  0.00           H  \\nATOM    751  HA  LYS A  45      23.627  11.063  35.858  1.00  0.00           H  \\nATOM    752 1HB  LYS A  45      22.486  13.350  37.457  1.00  0.00           H  \\nATOM    753 2HB  LYS A  45      22.198  11.661  37.821  1.00  0.00           H  \\nATOM    754 1HG  LYS A  45      24.562  11.293  38.044  1.00  0.00           H  \\nATOM    755 2HG  LYS A  45      24.889  12.955  37.655  1.00  0.00           H  \\nATOM    756 1HD  LYS A  45      23.520  13.650  39.623  1.00  0.00           H  \\nATOM    757 2HD  LYS A  45      23.349  11.938  40.036  1.00  0.00           H  \\nATOM    758 1HE  LYS A  45      25.996  13.395  39.764  1.00  0.00           H  \\nATOM    759 2HE  LYS A  45      25.157  13.095  41.294  1.00  0.00           H  \\nATOM    760 1HZ  LYS A  45      26.852  11.446  40.875  1.00  0.00           H  \\nATOM    761 2HZ  LYS A  45      25.366  10.730  40.873  1.00  0.00           H  \\nATOM    762 3HZ  LYS A  45      26.154  11.005  39.450  1.00  0.00           H  \\nATOM    763  N   ALA A  46      21.190  10.678  35.274  1.00  0.00           N  \\nATOM    764  CA  ALA A  46      20.020  10.391  34.471  1.00  0.00           C  \\nATOM    765  C   ALA A  46      18.904  11.386  34.602  1.00  0.00           C  \\nATOM    766  O   ALA A  46      18.229  11.674  33.614  1.00  0.00           O  \\nATOM    767  CB  ALA A  46      19.481   9.039  34.834  1.00  0.00           C  \\nATOM    768  H   ALA A  46      21.597   9.951  35.848  1.00  0.00           H  \\nATOM    769  HA  ALA A  46      20.337  10.378  33.428  1.00  0.00           H  \\nATOM    770 1HB  ALA A  46      18.636   8.805  34.192  1.00  0.00           H  \\nATOM    771 2HB  ALA A  46      20.258   8.289  34.697  1.00  0.00           H  \\nATOM    772 3HB  ALA A  46      19.158   9.041  35.873  1.00  0.00           H  \\nATOM    773  N   LYS A  47      18.679  11.954  35.768  1.00  0.00           N  \\nATOM    774  CA  LYS A  47      17.559  12.859  35.773  1.00  0.00           C  \\nATOM    775  C   LYS A  47      17.862  14.105  34.970  1.00  0.00           C  \\nATOM    776  O   LYS A  47      16.954  14.728  34.423  1.00  0.00           O  \\nATOM    777  CB  LYS A  47      17.176  13.254  37.177  1.00  0.00           C  \\nATOM    778  CG  LYS A  47      18.179  14.148  37.860  1.00  0.00           C  \\nATOM    779  CD  LYS A  47      17.855  14.336  39.320  1.00  0.00           C  \\nATOM    780  CE  LYS A  47      16.622  15.212  39.519  1.00  0.00           C  \\nATOM    781  NZ  LYS A  47      16.403  15.530  40.951  1.00  0.00           N  \\nATOM    782  H   LYS A  47      19.230  11.743  36.586  1.00  0.00           H  \\nATOM    783  HA  LYS A  47      16.711  12.367  35.304  1.00  0.00           H  \\nATOM    784 1HB  LYS A  47      16.222  13.770  37.136  1.00  0.00           H  \\nATOM    785 2HB  LYS A  47      17.044  12.358  37.781  1.00  0.00           H  \\nATOM    786 1HG  LYS A  47      19.182  13.733  37.768  1.00  0.00           H  \\nATOM    787 2HG  LYS A  47      18.167  15.134  37.392  1.00  0.00           H  \\nATOM    788 1HD  LYS A  47      17.685  13.366  39.788  1.00  0.00           H  \\nATOM    789 2HD  LYS A  47      18.705  14.813  39.811  1.00  0.00           H  \\nATOM    790 1HE  LYS A  47      16.750  16.143  38.962  1.00  0.00           H  \\nATOM    791 2HE  LYS A  47      15.741  14.696  39.151  1.00  0.00           H  \\nATOM    792 1HZ  LYS A  47      15.582  16.110  41.046  1.00  0.00           H  \\nATOM    793 2HZ  LYS A  47      16.271  14.675  41.473  1.00  0.00           H  \\nATOM    794 3HZ  LYS A  47      17.207  16.025  41.311  1.00  0.00           H  \\nATOM    795  N   TYR A  48      19.126  14.456  34.844  1.00  0.00           N  \\nATOM    796  CA  TYR A  48      19.447  15.651  34.136  1.00  0.00           C  \\nATOM    797  C   TYR A  48      19.550  15.361  32.687  1.00  0.00           C  \\nATOM    798  O   TYR A  48      19.281  16.228  31.867  1.00  0.00           O  \\nATOM    799  CB  TYR A  48      20.706  16.255  34.670  1.00  0.00           C  \\nATOM    800  CG  TYR A  48      20.524  16.842  35.971  1.00  0.00           C  \\nATOM    801  CD1 TYR A  48      21.037  16.231  37.061  1.00  0.00           C  \\nATOM    802  CD2 TYR A  48      19.835  18.016  36.093  1.00  0.00           C  \\nATOM    803  CE1 TYR A  48      20.877  16.798  38.289  1.00  0.00           C  \\nATOM    804  CE2 TYR A  48      19.668  18.594  37.306  1.00  0.00           C  \\nATOM    805  CZ  TYR A  48      20.189  17.993  38.410  1.00  0.00           C  \\nATOM    806  OH  TYR A  48      20.050  18.580  39.650  1.00  0.00           O  \\nATOM    807  H   TYR A  48      19.879  13.902  35.241  1.00  0.00           H  \\nATOM    808  HA  TYR A  48      18.641  16.366  34.281  1.00  0.00           H  \\nATOM    809 1HB  TYR A  48      21.456  15.485  34.767  1.00  0.00           H  \\nATOM    810 2HB  TYR A  48      21.071  17.013  33.986  1.00  0.00           H  \\nATOM    811  HD1 TYR A  48      21.576  15.303  36.958  1.00  0.00           H  \\nATOM    812  HD2 TYR A  48      19.422  18.498  35.224  1.00  0.00           H  \\nATOM    813  HE1 TYR A  48      21.294  16.316  39.171  1.00  0.00           H  \\nATOM    814  HE2 TYR A  48      19.123  19.537  37.398  1.00  0.00           H  \\nATOM    815  HH  TYR A  48      19.713  19.506  39.557  1.00  0.00           H  \\nATOM    816  N   GLN A  49      19.924  14.139  32.353  1.00  0.00           N  \\nATOM    817  CA  GLN A  49      20.054  13.801  30.960  1.00  0.00           C  \\nATOM    818  C   GLN A  49      18.678  13.879  30.374  1.00  0.00           C  \\nATOM    819  O   GLN A  49      18.480  14.357  29.257  1.00  0.00           O  \\nATOM    820  CB  GLN A  49      20.604  12.396  30.800  1.00  0.00           C  \\nATOM    821  CG  GLN A  49      20.946  11.939  29.363  1.00  0.00           C  \\nATOM    822  CD  GLN A  49      22.130  12.661  28.700  1.00  0.00           C  \\nATOM    823  OE1 GLN A  49      23.092  12.998  29.372  1.00  0.00           O  \\nATOM    824  NE2 GLN A  49      22.080  12.838  27.380  1.00  0.00           N  \\nATOM    825  H   GLN A  49      20.185  13.484  33.095  1.00  0.00           H  \\nATOM    826  HA  GLN A  49      20.701  14.516  30.464  1.00  0.00           H  \\nATOM    827 1HB  GLN A  49      21.507  12.299  31.409  1.00  0.00           H  \\nATOM    828 2HB  GLN A  49      19.879  11.690  31.203  1.00  0.00           H  \\nATOM    829 1HG  GLN A  49      21.178  10.877  29.393  1.00  0.00           H  \\nATOM    830 2HG  GLN A  49      20.068  12.104  28.736  1.00  0.00           H  \\nATOM    831 1HE2 GLN A  49      22.875  13.270  26.869  1.00  0.00           H  \\nATOM    832 2HE2 GLN A  49      21.281  12.532  26.860  1.00  0.00           H  \\nATOM    833  N   ARG A  50      17.695  13.444  31.147  1.00  0.00           N  \\nATOM    834  CA  ARG A  50      16.346  13.508  30.659  1.00  0.00           C  \\nATOM    835  C   ARG A  50      15.889  14.942  30.531  1.00  0.00           C  \\nATOM    836  O   ARG A  50      15.274  15.323  29.524  1.00  0.00           O  \\nATOM    837  CB  ARG A  50      15.410  12.758  31.573  1.00  0.00           C  \\nATOM    838  CG  ARG A  50      15.558  11.256  31.517  1.00  0.00           C  \\nATOM    839  CD  ARG A  50      14.425  10.559  32.173  1.00  0.00           C  \\nATOM    840  NE  ARG A  50      14.360  10.778  33.608  1.00  0.00           N  \\nATOM    841  CZ  ARG A  50      14.976  10.028  34.541  1.00  0.00           C  \\nATOM    842  NH1 ARG A  50      15.722   9.005  34.203  1.00  0.00           N  \\nATOM    843  NH2 ARG A  50      14.812  10.322  35.815  1.00  0.00           N  \\nATOM    844  H   ARG A  50      17.912  13.028  32.058  1.00  0.00           H  \\nATOM    845  HA  ARG A  50      16.315  13.044  29.675  1.00  0.00           H  \\nATOM    846 1HB  ARG A  50      15.599  13.065  32.604  1.00  0.00           H  \\nATOM    847 2HB  ARG A  50      14.380  13.013  31.336  1.00  0.00           H  \\nATOM    848 1HG  ARG A  50      15.595  10.941  30.476  1.00  0.00           H  \\nATOM    849 2HG  ARG A  50      16.477  10.963  32.010  1.00  0.00           H  \\nATOM    850 1HD  ARG A  50      13.495  10.928  31.739  1.00  0.00           H  \\nATOM    851 2HD  ARG A  50      14.494   9.491  31.983  1.00  0.00           H  \\nATOM    852  HE  ARG A  50      13.787  11.546  33.933  1.00  0.00           H  \\nATOM    853 1HH1 ARG A  50      15.854   8.767  33.234  1.00  0.00           H  \\nATOM    854 2HH1 ARG A  50      16.148   8.437  34.923  1.00  0.00           H  \\nATOM    855 1HH2 ARG A  50      14.230  11.105  36.082  1.00  0.00           H  \\nATOM    856 2HH2 ARG A  50      15.261   9.762  36.527  1.00  0.00           H  \\nATOM    857  N   GLN A  51      16.225  15.767  31.508  1.00  0.00           N  \\nATOM    858  CA  GLN A  51      15.796  17.133  31.423  1.00  0.00           C  \\nATOM    859  C   GLN A  51      16.436  17.872  30.281  1.00  0.00           C  \\nATOM    860  O   GLN A  51      15.758  18.650  29.602  1.00  0.00           O  \\nATOM    861  CB  GLN A  51      16.131  17.862  32.693  1.00  0.00           C  \\nATOM    862  CG  GLN A  51      15.340  17.476  33.864  1.00  0.00           C  \\nATOM    863  CD  GLN A  51      15.876  18.151  35.071  1.00  0.00           C  \\nATOM    864  OE1 GLN A  51      16.897  18.833  34.974  1.00  0.00           O  \\nATOM    865  NE2 GLN A  51      15.216  17.991  36.199  1.00  0.00           N  \\nATOM    866  H   GLN A  51      16.709  15.429  32.346  1.00  0.00           H  \\nATOM    867  HA  GLN A  51      14.717  17.144  31.275  1.00  0.00           H  \\nATOM    868 1HB  GLN A  51      17.160  17.658  32.937  1.00  0.00           H  \\nATOM    869 2HB  GLN A  51      16.033  18.935  32.539  1.00  0.00           H  \\nATOM    870 1HG  GLN A  51      14.315  17.810  33.716  1.00  0.00           H  \\nATOM    871 2HG  GLN A  51      15.357  16.412  34.003  1.00  0.00           H  \\nATOM    872 1HE2 GLN A  51      15.535  18.441  37.042  1.00  0.00           H  \\nATOM    873 2HE2 GLN A  51      14.386  17.431  36.220  1.00  0.00           H  \\nATOM    874  N   LEU A  52      17.714  17.632  30.022  1.00  0.00           N  \\nATOM    875  CA  LEU A  52      18.300  18.389  28.955  1.00  0.00           C  \\nATOM    876  C   LEU A  52      17.789  17.888  27.655  1.00  0.00           C  \\nATOM    877  O   LEU A  52      17.538  18.679  26.753  1.00  0.00           O  \\nATOM    878  CB  LEU A  52      19.831  18.380  29.024  1.00  0.00           C  \\nATOM    879  CG  LEU A  52      20.596  17.109  28.733  1.00  0.00           C  \\nATOM    880  CD1 LEU A  52      20.913  16.948  27.250  1.00  0.00           C  \\nATOM    881  CD2 LEU A  52      21.886  17.157  29.548  1.00  0.00           C  \\nATOM    882  H   LEU A  52      18.262  16.999  30.602  1.00  0.00           H  \\nATOM    883  HA  LEU A  52      17.990  19.424  29.066  1.00  0.00           H  \\nATOM    884 1HB  LEU A  52      20.203  19.149  28.352  1.00  0.00           H  \\nATOM    885 2HB  LEU A  52      20.106  18.650  30.009  1.00  0.00           H  \\nATOM    886  HG  LEU A  52      20.011  16.265  29.039  1.00  0.00           H  \\nATOM    887 1HD1 LEU A  52      21.474  16.023  27.107  1.00  0.00           H  \\nATOM    888 2HD1 LEU A  52      20.032  16.898  26.652  1.00  0.00           H  \\nATOM    889 3HD1 LEU A  52      21.518  17.787  26.920  1.00  0.00           H  \\nATOM    890 1HD2 LEU A  52      22.459  16.239  29.384  1.00  0.00           H  \\nATOM    891 2HD2 LEU A  52      22.487  18.015  29.244  1.00  0.00           H  \\nATOM    892 3HD2 LEU A  52      21.638  17.245  30.608  1.00  0.00           H  \\nATOM    893  N   ALA A  53      17.495  16.605  27.536  1.00  0.00           N  \\nATOM    894  CA  ALA A  53      16.998  16.192  26.256  1.00  0.00           C  \\nATOM    895  C   ALA A  53      15.719  16.932  25.955  1.00  0.00           C  \\nATOM    896  O   ALA A  53      15.508  17.394  24.831  1.00  0.00           O  \\nATOM    897  CB  ALA A  53      16.771  14.709  26.237  1.00  0.00           C  \\nATOM    898  H   ALA A  53      17.706  15.919  28.272  1.00  0.00           H  \\nATOM    899  HA  ALA A  53      17.734  16.457  25.498  1.00  0.00           H  \\nATOM    900 1HB  ALA A  53      16.405  14.406  25.260  1.00  0.00           H  \\nATOM    901 2HB  ALA A  53      17.712  14.200  26.453  1.00  0.00           H  \\nATOM    902 3HB  ALA A  53      16.037  14.449  27.003  1.00  0.00           H  \\nATOM    903  N   THR A  54      14.888  17.118  26.969  1.00  0.00           N  \\nATOM    904  CA  THR A  54      13.665  17.840  26.738  1.00  0.00           C  \\nATOM    905  C   THR A  54      13.941  19.264  26.352  1.00  0.00           C  \\nATOM    906  O   THR A  54      13.332  19.790  25.418  1.00  0.00           O  \\nATOM    907  CB  THR A  54      12.772  17.841  27.974  1.00  0.00           C  \\nATOM    908  OG1 THR A  54      12.396  16.502  28.291  1.00  0.00           O  \\nATOM    909  CG2 THR A  54      11.529  18.673  27.698  1.00  0.00           C  \\nATOM    910  H   THR A  54      15.086  16.687  27.878  1.00  0.00           H  \\nATOM    911  HA  THR A  54      13.131  17.359  25.921  1.00  0.00           H  \\nATOM    912  HB  THR A  54      13.312  18.264  28.820  1.00  0.00           H  \\nATOM    913  HG1 THR A  54      13.173  16.015  28.605  1.00  0.00           H  \\nATOM    914 1HG2 THR A  54      10.892  18.663  28.579  1.00  0.00           H  \\nATOM    915 2HG2 THR A  54      11.799  19.698  27.472  1.00  0.00           H  \\nATOM    916 3HG2 THR A  54      10.987  18.249  26.853  1.00  0.00           H  \\nATOM    917  N   ALA A  55      14.842  19.909  27.069  1.00  0.00           N  \\nATOM    918  CA  ALA A  55      15.130  21.294  26.799  1.00  0.00           C  \\nATOM    919  C   ALA A  55      15.641  21.482  25.386  1.00  0.00           C  \\nATOM    920  O   ALA A  55      15.262  22.433  24.697  1.00  0.00           O  \\nATOM    921  CB  ALA A  55      16.140  21.793  27.799  1.00  0.00           C  \\nATOM    922  H   ALA A  55      15.295  19.430  27.857  1.00  0.00           H  \\nATOM    923  HA  ALA A  55      14.205  21.858  26.906  1.00  0.00           H  \\nATOM    924 1HB  ALA A  55      16.348  22.816  27.634  1.00  0.00           H  \\nATOM    925 2HB  ALA A  55      15.752  21.665  28.813  1.00  0.00           H  \\nATOM    926 3HB  ALA A  55      17.055  21.220  27.690  1.00  0.00           H  \\nATOM    927  N   ILE A  56      16.438  20.546  24.916  1.00  0.00           N  \\nATOM    928  CA  ILE A  56      16.955  20.652  23.583  1.00  0.00           C  \\nATOM    929  C   ILE A  56      15.855  20.509  22.600  1.00  0.00           C  \\nATOM    930  O   ILE A  56      15.778  21.272  21.643  1.00  0.00           O  \\nATOM    931  CB  ILE A  56      18.019  19.619  23.304  1.00  0.00           C  \\nATOM    932  CG1 ILE A  56      19.187  19.953  24.170  1.00  0.00           C  \\nATOM    933  CG2 ILE A  56      18.376  19.622  21.789  1.00  0.00           C  \\nATOM    934  CD1 ILE A  56      20.198  18.918  24.258  1.00  0.00           C  \\nATOM    935  H   ILE A  56      16.730  19.786  25.538  1.00  0.00           H  \\nATOM    936  HA  ILE A  56      17.398  21.640  23.464  1.00  0.00           H  \\nATOM    937  HB  ILE A  56      17.659  18.629  23.603  1.00  0.00           H  \\nATOM    938 1HG1 ILE A  56      19.653  20.867  23.802  1.00  0.00           H  \\nATOM    939 2HG1 ILE A  56      18.827  20.126  25.170  1.00  0.00           H  \\nATOM    940 1HG2 ILE A  56      19.147  18.895  21.577  1.00  0.00           H  \\nATOM    941 2HG2 ILE A  56      17.505  19.371  21.193  1.00  0.00           H  \\nATOM    942 3HG2 ILE A  56      18.731  20.609  21.500  1.00  0.00           H  \\nATOM    943 1HD1 ILE A  56      20.994  19.246  24.925  1.00  0.00           H  \\nATOM    944 2HD1 ILE A  56      19.747  18.009  24.645  1.00  0.00           H  \\nATOM    945 3HD1 ILE A  56      20.604  18.734  23.304  1.00  0.00           H  \\nATOM    946  N   LYS A  57      15.002  19.533  22.802  1.00  0.00           N  \\nATOM    947  CA  LYS A  57      13.929  19.351  21.872  1.00  0.00           C  \\nATOM    948  C   LYS A  57      13.070  20.586  21.790  1.00  0.00           C  \\nATOM    949  O   LYS A  57      12.650  20.972  20.694  1.00  0.00           O  \\nATOM    950  CB  LYS A  57      13.113  18.148  22.269  1.00  0.00           C  \\nATOM    951  CG  LYS A  57      13.839  16.854  22.040  1.00  0.00           C  \\nATOM    952  CD  LYS A  57      13.031  15.681  22.511  1.00  0.00           C  \\nATOM    953  CE  LYS A  57      13.786  14.392  22.318  1.00  0.00           C  \\nATOM    954  NZ  LYS A  57      13.012  13.224  22.801  1.00  0.00           N  \\nATOM    955  H   LYS A  57      15.134  18.897  23.595  1.00  0.00           H  \\nATOM    956  HA  LYS A  57      14.352  19.171  20.890  1.00  0.00           H  \\nATOM    957 1HB  LYS A  57      12.864  18.214  23.329  1.00  0.00           H  \\nATOM    958 2HB  LYS A  57      12.181  18.132  21.707  1.00  0.00           H  \\nATOM    959 1HG  LYS A  57      14.034  16.745  20.974  1.00  0.00           H  \\nATOM    960 2HG  LYS A  57      14.793  16.869  22.553  1.00  0.00           H  \\nATOM    961 1HD  LYS A  57      12.808  15.804  23.574  1.00  0.00           H  \\nATOM    962 2HD  LYS A  57      12.093  15.634  21.961  1.00  0.00           H  \\nATOM    963 1HE  LYS A  57      14.003  14.260  21.259  1.00  0.00           H  \\nATOM    964 2HE  LYS A  57      14.727  14.446  22.869  1.00  0.00           H  \\nATOM    965 1HZ  LYS A  57      13.549  12.379  22.657  1.00  0.00           H  \\nATOM    966 2HZ  LYS A  57      12.817  13.334  23.787  1.00  0.00           H  \\nATOM    967 3HZ  LYS A  57      12.142  13.158  22.291  1.00  0.00           H  \\nATOM    968  N   ARG A  58      12.827  21.238  22.917  1.00  0.00           N  \\nATOM    969  CA  ARG A  58      12.026  22.436  22.870  1.00  0.00           C  \\nATOM    970  C   ARG A  58      12.747  23.521  22.092  1.00  0.00           C  \\nATOM    971  O   ARG A  58      12.156  24.206  21.256  1.00  0.00           O  \\nATOM    972  CB  ARG A  58      11.745  22.919  24.267  1.00  0.00           C  \\nATOM    973  CG  ARG A  58      10.805  22.048  25.033  1.00  0.00           C  \\nATOM    974  CD  ARG A  58      10.577  22.572  26.385  1.00  0.00           C  \\nATOM    975  NE  ARG A  58       9.740  21.689  27.182  1.00  0.00           N  \\nATOM    976  CZ  ARG A  58       8.397  21.632  27.123  1.00  0.00           C  \\nATOM    977  NH1 ARG A  58       7.737  22.397  26.287  1.00  0.00           N  \\nATOM    978  NH2 ARG A  58       7.730  20.805  27.909  1.00  0.00           N  \\nATOM    979  H   ARG A  58      13.160  20.850  23.807  1.00  0.00           H  \\nATOM    980  HA  ARG A  58      11.084  22.207  22.375  1.00  0.00           H  \\nATOM    981 1HB  ARG A  58      12.677  22.966  24.826  1.00  0.00           H  \\nATOM    982 2HB  ARG A  58      11.332  23.927  24.234  1.00  0.00           H  \\nATOM    983 1HG  ARG A  58       9.860  21.996  24.502  1.00  0.00           H  \\nATOM    984 2HG  ARG A  58      11.216  21.049  25.119  1.00  0.00           H  \\nATOM    985 1HD  ARG A  58      11.543  22.659  26.888  1.00  0.00           H  \\nATOM    986 2HD  ARG A  58      10.114  23.556  26.340  1.00  0.00           H  \\nATOM    987  HE  ARG A  58      10.204  21.081  27.845  1.00  0.00           H  \\nATOM    988 1HH1 ARG A  58       8.228  23.035  25.682  1.00  0.00           H  \\nATOM    989 2HH1 ARG A  58       6.728  22.351  26.248  1.00  0.00           H  \\nATOM    990 1HH2 ARG A  58       8.212  20.215  28.574  1.00  0.00           H  \\nATOM    991 2HH2 ARG A  58       6.722  20.768  27.860  1.00  0.00           H  \\nATOM    992  N   ALA A  59      14.035  23.664  22.324  1.00  0.00           N  \\nATOM    993  CA  ALA A  59      14.771  24.671  21.614  1.00  0.00           C  \\nATOM    994  C   ALA A  59      14.788  24.369  20.119  1.00  0.00           C  \\nATOM    995  O   ALA A  59      14.787  25.278  19.279  1.00  0.00           O  \\nATOM    996  CB  ALA A  59      16.150  24.764  22.176  1.00  0.00           C  \\nATOM    997  H   ALA A  59      14.496  23.104  23.050  1.00  0.00           H  \\nATOM    998  HA  ALA A  59      14.268  25.625  21.760  1.00  0.00           H  \\nATOM    999 1HB  ALA A  59      16.688  25.537  21.669  1.00  0.00           H  \\nATOM   1000 2HB  ALA A  59      16.095  24.998  23.243  1.00  0.00           H  \\nATOM   1001 3HB  ALA A  59      16.631  23.817  22.045  1.00  0.00           H  \\nATOM   1002  N   ARG A  60      14.826  23.104  19.749  1.00  0.00           N  \\nATOM   1003  CA  ARG A  60      14.804  22.809  18.338  1.00  0.00           C  \\nATOM   1004  C   ARG A  60      13.471  23.196  17.738  1.00  0.00           C  \\nATOM   1005  O   ARG A  60      13.397  23.811  16.677  1.00  0.00           O  \\nATOM   1006  CB  ARG A  60      15.035  21.360  18.100  1.00  0.00           C  \\nATOM   1007  CG  ARG A  60      16.389  20.870  18.329  1.00  0.00           C  \\nATOM   1008  CD  ARG A  60      16.356  19.438  18.220  1.00  0.00           C  \\nATOM   1009  NE  ARG A  60      17.624  18.821  18.246  1.00  0.00           N  \\nATOM   1010  CZ  ARG A  60      17.790  17.504  18.396  1.00  0.00           C  \\nATOM   1011  NH1 ARG A  60      16.741  16.727  18.574  1.00  0.00           N  \\nATOM   1012  NH2 ARG A  60      18.988  16.968  18.362  1.00  0.00           N  \\nATOM   1013  H   ARG A  60      14.909  22.369  20.456  1.00  0.00           H  \\nATOM   1014  HA  ARG A  60      15.592  23.369  17.852  1.00  0.00           H  \\nATOM   1015 1HB  ARG A  60      14.353  20.775  18.709  1.00  0.00           H  \\nATOM   1016 2HB  ARG A  60      14.819  21.156  17.084  1.00  0.00           H  \\nATOM   1017 1HG  ARG A  60      17.055  21.273  17.569  1.00  0.00           H  \\nATOM   1018 2HG  ARG A  60      16.741  21.155  19.315  1.00  0.00           H  \\nATOM   1019 1HD  ARG A  60      15.784  19.064  19.059  1.00  0.00           H  \\nATOM   1020 2HD  ARG A  60      15.875  19.163  17.313  1.00  0.00           H  \\nATOM   1021  HE  ARG A  60      18.450  19.398  18.102  1.00  0.00           H  \\nATOM   1022 1HH1 ARG A  60      15.813  17.120  18.601  1.00  0.00           H  \\nATOM   1023 2HH1 ARG A  60      16.864  15.731  18.681  1.00  0.00           H  \\nATOM   1024 1HH2 ARG A  60      19.829  17.538  18.201  1.00  0.00           H  \\nATOM   1025 2HH2 ARG A  60      19.099  15.979  18.465  1.00  0.00           H  \\nATOM   1026  N   TYR A  61      12.401  22.927  18.460  1.00  0.00           N  \\nATOM   1027  CA  TYR A  61      11.064  23.260  18.002  1.00  0.00           C  \\nATOM   1028  C   TYR A  61      10.932  24.711  17.660  1.00  0.00           C  \\nATOM   1029  O   TYR A  61      10.382  25.089  16.626  1.00  0.00           O  \\nATOM   1030  CB  TYR A  61      10.025  22.906  19.029  1.00  0.00           C  \\nATOM   1031  CG  TYR A  61       8.711  23.361  18.620  1.00  0.00           C  \\nATOM   1032  CD1 TYR A  61       8.021  22.675  17.672  1.00  0.00           C  \\nATOM   1033  CD2 TYR A  61       8.188  24.477  19.191  1.00  0.00           C  \\nATOM   1034  CE1 TYR A  61       6.797  23.107  17.289  1.00  0.00           C  \\nATOM   1035  CE2 TYR A  61       6.970  24.914  18.815  1.00  0.00           C  \\nATOM   1036  CZ  TYR A  61       6.271  24.232  17.866  1.00  0.00           C  \\nATOM   1037  OH  TYR A  61       5.034  24.671  17.486  1.00  0.00           O  \\nATOM   1038  H   TYR A  61      12.510  22.391  19.327  1.00  0.00           H  \\nATOM   1039  HA  TYR A  61      10.857  22.692  17.105  1.00  0.00           H  \\nATOM   1040 1HB  TYR A  61       9.998  21.825  19.174  1.00  0.00           H  \\nATOM   1041 2HB  TYR A  61      10.262  23.361  19.978  1.00  0.00           H  \\nATOM   1042  HD1 TYR A  61       8.450  21.781  17.220  1.00  0.00           H  \\nATOM   1043  HD2 TYR A  61       8.748  25.017  19.948  1.00  0.00           H  \\nATOM   1044  HE1 TYR A  61       6.238  22.563  16.530  1.00  0.00           H  \\nATOM   1045  HE2 TYR A  61       6.546  25.808  19.270  1.00  0.00           H  \\nATOM   1046  HH  TYR A  61       4.678  24.084  16.815  1.00  0.00           H  \\nATOM   1047  N   LEU A  62      11.471  25.525  18.527  1.00  0.00           N  \\nATOM   1048  CA  LEU A  62      11.403  26.956  18.430  1.00  0.00           C  \\nATOM   1049  C   LEU A  62      12.397  27.528  17.459  1.00  0.00           C  \\nATOM   1050  O   LEU A  62      12.493  28.745  17.324  1.00  0.00           O  \\nATOM   1051  CB  LEU A  62      11.722  27.538  19.784  1.00  0.00           C  \\nATOM   1052  CG  LEU A  62      10.767  27.214  20.890  1.00  0.00           C  \\nATOM   1053  CD1 LEU A  62      11.365  27.709  22.183  1.00  0.00           C  \\nATOM   1054  CD2 LEU A  62       9.421  27.858  20.634  1.00  0.00           C  \\nATOM   1055  H   LEU A  62      11.887  25.101  19.366  1.00  0.00           H  \\nATOM   1056  HA  LEU A  62      10.411  27.232  18.090  1.00  0.00           H  \\nATOM   1057 1HB  LEU A  62      12.701  27.157  20.081  1.00  0.00           H  \\nATOM   1058 2HB  LEU A  62      11.789  28.620  19.695  1.00  0.00           H  \\nATOM   1059  HG  LEU A  62      10.638  26.141  20.965  1.00  0.00           H  \\nATOM   1060 1HD1 LEU A  62      10.694  27.469  23.008  1.00  0.00           H  \\nATOM   1061 2HD1 LEU A  62      12.326  27.219  22.349  1.00  0.00           H  \\nATOM   1062 3HD1 LEU A  62      11.510  28.786  22.134  1.00  0.00           H  \\nATOM   1063 1HD2 LEU A  62       8.751  27.616  21.459  1.00  0.00           H  \\nATOM   1064 2HD2 LEU A  62       9.540  28.940  20.569  1.00  0.00           H  \\nATOM   1065 3HD2 LEU A  62       8.984  27.491  19.716  1.00  0.00           H  \\nATOM   1066  N   ALA A  63      13.189  26.674  16.825  1.00  0.00           N  \\nATOM   1067  CA  ALA A  63      14.228  27.081  15.908  1.00  0.00           C  \\nATOM   1068  C   ALA A  63      15.189  27.990  16.609  1.00  0.00           C  \\nATOM   1069  O   ALA A  63      15.682  28.969  16.052  1.00  0.00           O  \\nATOM   1070  CB  ALA A  63      13.644  27.761  14.688  1.00  0.00           C  \\nATOM   1071  H   ALA A  63      13.079  25.667  16.956  1.00  0.00           H  \\nATOM   1072  HA  ALA A  63      14.772  26.185  15.599  1.00  0.00           H  \\nATOM   1073 1HB  ALA A  63      14.452  28.032  14.012  1.00  0.00           H  \\nATOM   1074 2HB  ALA A  63      12.964  27.073  14.189  1.00  0.00           H  \\nATOM   1075 3HB  ALA A  63      13.104  28.657  14.973  1.00  0.00           H  \\nATOM   1076  N   LEU A  64      15.464  27.639  17.843  1.00  0.00           N  \\nATOM   1077  CA  LEU A  64      16.386  28.330  18.669  1.00  0.00           C  \\nATOM   1078  C   LEU A  64      17.700  27.603  18.429  1.00  0.00           C  \\nATOM   1079  O   LEU A  64      18.758  28.217  18.318  1.00  0.00           O  \\nATOM   1080  CB  LEU A  64      15.801  28.285  20.069  1.00  0.00           C  \\nATOM   1081  CG  LEU A  64      16.473  28.944  21.158  1.00  0.00           C  \\nATOM   1082  CD1 LEU A  64      16.625  30.416  20.886  1.00  0.00           C  \\nATOM   1083  CD2 LEU A  64      15.613  28.723  22.438  1.00  0.00           C  \\nATOM   1084  H   LEU A  64      15.028  26.807  18.240  1.00  0.00           H  \\nATOM   1085  HA  LEU A  64      16.471  29.356  18.323  1.00  0.00           H  \\nATOM   1086 1HB  LEU A  64      14.792  28.693  20.014  1.00  0.00           H  \\nATOM   1087 2HB  LEU A  64      15.717  27.260  20.348  1.00  0.00           H  \\nATOM   1088  HG  LEU A  64      17.439  28.511  21.286  1.00  0.00           H  \\nATOM   1089 1HD1 LEU A  64      17.123  30.883  21.738  1.00  0.00           H  \\nATOM   1090 2HD1 LEU A  64      17.228  30.581  19.999  1.00  0.00           H  \\nATOM   1091 3HD1 LEU A  64      15.643  30.867  20.748  1.00  0.00           H  \\nATOM   1092 1HD2 LEU A  64      16.086  29.201  23.296  1.00  0.00           H  \\nATOM   1093 2HD2 LEU A  64      14.623  29.156  22.292  1.00  0.00           H  \\nATOM   1094 3HD2 LEU A  64      15.512  27.662  22.639  1.00  0.00           H  \\nATOM   1095  N   LEU A  65      17.588  26.283  18.283  1.00  0.00           N  \\nATOM   1096  CA  LEU A  65      18.695  25.406  17.936  1.00  0.00           C  \\nATOM   1097  C   LEU A  65      18.315  24.659  16.659  1.00  0.00           C  \\nATOM   1098  O   LEU A  65      17.138  24.440  16.418  1.00  0.00           O  \\nATOM   1099  CB  LEU A  65      18.981  24.372  19.018  1.00  0.00           C  \\nATOM   1100  CG  LEU A  65      19.391  24.852  20.378  1.00  0.00           C  \\nATOM   1101  CD1 LEU A  65      19.495  23.624  21.279  1.00  0.00           C  \\nATOM   1102  CD2 LEU A  65      20.710  25.585  20.330  1.00  0.00           C  \\nATOM   1103  H   LEU A  65      16.667  25.876  18.437  1.00  0.00           H  \\nATOM   1104  HA  LEU A  65      19.568  26.021  17.757  1.00  0.00           H  \\nATOM   1105 1HB  LEU A  65      18.060  23.804  19.164  1.00  0.00           H  \\nATOM   1106 2HB  LEU A  65      19.729  23.670  18.671  1.00  0.00           H  \\nATOM   1107  HG  LEU A  65      18.649  25.518  20.767  1.00  0.00           H  \\nATOM   1108 1HD1 LEU A  65      19.778  23.934  22.274  1.00  0.00           H  \\nATOM   1109 2HD1 LEU A  65      18.550  23.101  21.316  1.00  0.00           H  \\nATOM   1110 3HD1 LEU A  65      20.253  22.948  20.885  1.00  0.00           H  \\nATOM   1111 1HD2 LEU A  65      20.984  25.897  21.332  1.00  0.00           H  \\nATOM   1112 2HD2 LEU A  65      21.484  24.926  19.938  1.00  0.00           H  \\nATOM   1113 3HD2 LEU A  65      20.629  26.467  19.696  1.00  0.00           H  \\nATOM   1114  N   PRO A  66      19.258  24.270  15.811  1.00  0.00           N  \\nATOM   1115  CA  PRO A  66      19.049  23.451  14.634  1.00  0.00           C  \\nATOM   1116  C   PRO A  66      18.765  22.026  15.031  1.00  0.00           C  \\nATOM   1117  O   PRO A  66      19.145  21.616  16.127  1.00  0.00           O  \\nATOM   1118  CB  PRO A  66      20.374  23.568  13.914  1.00  0.00           C  \\nATOM   1119  CG  PRO A  66      21.364  23.817  15.005  1.00  0.00           C  \\nATOM   1120  CD  PRO A  66      20.639  24.672  16.013  1.00  0.00           C  \\nATOM   1121  HA  PRO A  66      18.225  23.863  14.032  1.00  0.00           H  \\nATOM   1122 1HB  PRO A  66      20.575  22.638  13.368  1.00  0.00           H  \\nATOM   1123 2HB  PRO A  66      20.333  24.372  13.168  1.00  0.00           H  \\nATOM   1124 1HG  PRO A  66      21.695  22.853  15.431  1.00  0.00           H  \\nATOM   1125 2HG  PRO A  66      22.262  24.302  14.594  1.00  0.00           H  \\nATOM   1126 1HD  PRO A  66      21.011  24.412  17.004  1.00  0.00           H  \\nATOM   1127 2HD  PRO A  66      20.774  25.741  15.779  1.00  0.00           H  \\nATOM   1128  N   TYR A  67      18.149  21.257  14.142  1.00  0.00           N  \\nATOM   1129  CA  TYR A  67      17.923  19.844  14.411  1.00  0.00           C  \\nATOM   1130  C   TYR A  67      19.015  19.059  13.768  1.00  0.00           C  \\nATOM   1131  O   TYR A  67      19.439  18.018  14.262  1.00  0.00           O  \\nATOM   1132  CB  TYR A  67      16.648  19.340  13.765  1.00  0.00           C  \\nATOM   1133  CG  TYR A  67      15.397  19.855  14.243  1.00  0.00           C  \\nATOM   1134  CD1 TYR A  67      14.996  21.100  13.898  1.00  0.00           C  \\nATOM   1135  CD2 TYR A  67      14.583  19.051  14.962  1.00  0.00           C  \\nATOM   1136  CE1 TYR A  67      13.789  21.552  14.299  1.00  0.00           C  \\nATOM   1137  CE2 TYR A  67      13.367  19.499  15.359  1.00  0.00           C  \\nATOM   1138  CZ  TYR A  67      12.975  20.746  15.027  1.00  0.00           C  \\nATOM   1139  OH  TYR A  67      11.759  21.201  15.404  1.00  0.00           O  \\nATOM   1140  H   TYR A  67      17.884  21.625  13.227  1.00  0.00           H  \\nATOM   1141  HA  TYR A  67      17.933  19.660  15.482  1.00  0.00           H  \\nATOM   1142 1HB  TYR A  67      16.699  19.520  12.725  1.00  0.00           H  \\nATOM   1143 2HB  TYR A  67      16.620  18.259  13.880  1.00  0.00           H  \\nATOM   1144  HD1 TYR A  67      15.635  21.745  13.303  1.00  0.00           H  \\nATOM   1145  HD2 TYR A  67      14.900  18.040  15.219  1.00  0.00           H  \\nATOM   1146  HE1 TYR A  67      13.466  22.558  14.029  1.00  0.00           H  \\nATOM   1147  HE2 TYR A  67      12.706  18.854  15.938  1.00  0.00           H  \\nATOM   1148  HH  TYR A  67      11.661  22.117  15.105  1.00  0.00           H  \\nATOM   1149  N   THR A  68      19.444  19.560  12.635  1.00  0.00           N  \\nATOM   1150  CA  THR A  68      20.419  18.909  11.798  1.00  0.00           C  \\nATOM   1151  C   THR A  68      21.575  19.819  11.517  1.00  0.00           C  \\nATOM   1152  O   THR A  68      21.592  20.970  11.947  1.00  0.00           O  \\nATOM   1153  CB  THR A  68      19.756  18.385  10.514  1.00  0.00           C  \\nATOM   1154  OG1 THR A  68      19.206  19.462   9.755  1.00  0.00           O  \\nATOM   1155  CG2 THR A  68      18.639  17.454  10.881  1.00  0.00           C  \\nATOM   1156  H   THR A  68      19.022  20.421  12.282  1.00  0.00           H  \\nATOM   1157  HA  THR A  68      20.818  18.047  12.335  1.00  0.00           H  \\nATOM   1158  HB  THR A  68      20.490  17.853   9.909  1.00  0.00           H  \\nATOM   1159  HG1 THR A  68      19.843  19.834   9.112  1.00  0.00           H  \\nATOM   1160 1HG2 THR A  68      18.177  17.079   9.971  1.00  0.00           H  \\nATOM   1161 2HG2 THR A  68      19.037  16.622  11.460  1.00  0.00           H  \\nATOM   1162 3HG2 THR A  68      17.897  17.969  11.459  1.00  0.00           H  \\nATOM   1163  N   ASP A  69      22.580  19.296  10.842  1.00  0.00           N  \\nATOM   1164  CA  ASP A  69      23.768  20.060  10.536  1.00  0.00           C  \\nATOM   1165  C   ASP A  69      23.449  21.176   9.570  1.00  0.00           C  \\nATOM   1166  O   ASP A  69      24.002  22.273   9.651  1.00  0.00           O  \\nATOM   1167  CB  ASP A  69      24.773  19.110   9.931  1.00  0.00           C  \\nATOM   1168  CG  ASP A  69      24.155  18.406   8.745  1.00  0.00           C  \\nATOM   1169  OD1 ASP A  69      22.923  18.274   8.744  1.00  0.00           O  \\nATOM   1170  OD2 ASP A  69      24.864  17.993   7.872  1.00  0.00           O  \\nATOM   1171  H   ASP A  69      22.509  18.347  10.476  1.00  0.00           H  \\nATOM   1172  HA  ASP A  69      24.165  20.485  11.460  1.00  0.00           H  \\nATOM   1173 1HB  ASP A  69      25.658  19.659   9.611  1.00  0.00           H  \\nATOM   1174 2HB  ASP A  69      25.076  18.370  10.668  1.00  0.00           H  \\nATOM   1175  N   SER A  70      22.495  20.922   8.712  1.00  0.00           N  \\nATOM   1176  CA  SER A  70      22.041  21.932   7.789  1.00  0.00           C  \\nATOM   1177  C   SER A  70      20.577  21.751   7.531  1.00  0.00           C  \\nATOM   1178  O   SER A  70      20.046  20.643   7.620  1.00  0.00           O  \\nATOM   1179  CB  SER A  70      22.806  21.869   6.484  1.00  0.00           C  \\nATOM   1180  OG  SER A  70      22.521  20.699   5.775  1.00  0.00           O  \\nATOM   1181  H   SER A  70      22.164  19.955   8.679  1.00  0.00           H  \\nATOM   1182  HA  SER A  70      22.187  22.914   8.238  1.00  0.00           H  \\nATOM   1183 1HB  SER A  70      22.556  22.737   5.874  1.00  0.00           H  \\nATOM   1184 2HB  SER A  70      23.874  21.914   6.697  1.00  0.00           H  \\nATOM   1185  HG  SER A  70      23.152  20.664   5.057  1.00  0.00           H  \\nATOM   1186  N   HIS A  71      19.944  22.847   7.182  1.00  0.00           N  \\nATOM   1187  CA  HIS A  71      18.547  22.894   6.840  1.00  0.00           C  \\nATOM   1188  C   HIS A  71      18.386  23.660   5.555  1.00  0.00           C  \\nATOM   1189  O   HIS A  71      18.858  23.195   4.520  1.00  0.00           O  \\nATOM   1190  OXT HIS A  71      18.207  24.872   5.640  1.00  0.00           O  \\nATOM   1191  CB  HIS A  71      17.730  23.545   7.962  1.00  0.00           C  \\nATOM   1192  CG  HIS A  71      17.641  22.746   9.225  1.00  0.00           C  \\nATOM   1193  ND1 HIS A  71      16.666  21.821   9.394  1.00  0.00           N  \\nATOM   1194  CD2 HIS A  71      18.392  22.725  10.369  1.00  0.00           C  \\nATOM   1195  CE1 HIS A  71      16.780  21.256  10.570  1.00  0.00           C  \\nATOM   1196  NE2 HIS A  71      17.833  21.772  11.219  1.00  0.00           N  \\nATOM   1197  H   HIS A  71      20.472  23.706   7.143  1.00  0.00           H  \\nATOM   1198  HA  HIS A  71      18.166  21.886   6.682  1.00  0.00           H  \\nATOM   1199 1HB  HIS A  71      18.164  24.514   8.207  1.00  0.00           H  \\nATOM   1200 2HB  HIS A  71      16.717  23.727   7.608  1.00  0.00           H  \\nATOM   1201  HD1 HIS A  71      16.122  21.428   8.650  1.00  0.00           H  \\nATOM   1202  HD2 HIS A  71      19.275  23.284  10.684  1.00  0.00           H  \\nATOM   1203  HE1 HIS A  71      16.063  20.490  10.845  1.00  0.00           H  \\nTER                                                                             \\n# All scores below are weighted scores, not raw scores.\\n#BEGIN_POSE_ENERGIES_TABLE S_singletgt_0001.pdb\\nlabel fa_atr fa_rep fa_sol fa_intra_atr_xover4 fa_intra_rep_xover4 fa_intra_sol_xover4 lk_ball lk_ball_iso lk_ball_bridge lk_ball_bridge_uncpl fa_elec fa_intra_elec pro_close hbond_sr_bb hbond_lr_bb hbond_bb_sc hbond_sc dslf_fa13 omega fa_dun_dev fa_dun_rot fa_dun_semi p_aa_pp hxl_tors ref rama_prepro gen_bonded total\\nweights 1 0.55 1 1 0.55 1 0.92 -0.38 -0.33 -0.33 1 1 1.25 1 1 1 1 1.25 0.48 0.69 0.76 0.78 0.61 1 1 0.5 1 NA\\npose -398.994 47.0175 302.741 -29.3248 10.6717 19.0463 143 -165.267 -0.56933 -4.09949 -116.887 -16.3708 0.75349 -39.223 -5.86865 -17.5419 -1.55221 0 1.14498 7.13224 49.1497 49.7992 -16.5462 18.3473 -14.6482 0.6566 0 -177.433\\nPHE:NtermProteinFull_1 -4.12364 0.54155 2.23238 -1.02609 0.12261 0.3327 1.29513 -1.46545 -0.04676 -0.17384 -1.0891 0.77029 0 0 0 -0.6761 0 0 0.07676 0.29487 0 2.46903 0 0 1.0402 0 0 0.57457\\nPHE_2 -9.72143 2.37324 2.61648 -0.57044 0.03462 0.20989 1.01493 -2.43407 -0.0493 -0.25266 0.01505 0.12692 0 0 0 0 0 0 0.10902 0.34621 0 2.35612 -0.10191 0 1.0402 -0.24049 0 -3.12763\\nARG_3 -2.65506 0.3711 3.29297 -0.65084 0.16062 0.45683 1.07021 -1.42373 -0.01241 -0.09348 -0.09345 0.01208 0 0 0 -0.6761 0 0 0.06318 0.40159 2.36535 0 -0.22392 0 -1.2888 -0.00986 0 1.06629\\nARG_4 -5.60392 0.99785 4.77134 -0.77083 0.1107 0.53455 2.03231 -2.31983 -0.02254 -0.13645 -0.46458 0.52062 0 0 0 0 0 0 -0.02067 0.20307 2.86293 0 0.03642 0 -1.2888 0.41571 0 1.85788\\nARG_5 -7.70296 1.39294 7.20932 -0.92241 0.44917 0.71007 1.79532 -3.52129 -0.00421 -0.07222 -2.1594 -0.07533 0 0 0 -0.28369 0 0 0.30145 0.5818 3.18515 0 0.11839 0 -1.2888 1.13614 0 0.84942\\nARG_6 -6.49146 1.54418 5.25169 -0.62879 0.15095 0.35644 1.92148 -2.71968 -0.0171 -0.19472 -1.01317 0.56906 0 0 0 0 0 0 0.04968 0.17426 1.87756 0 0.60749 0 -1.2888 2.19289 0 2.34199\\nPHE_7 -6.17738 1.16675 2.86188 -0.6657 0.12036 0.36381 0.81282 -1.86933 -0.0001 -0.00161 -0.22717 0.00755 0 0 0 0 0 0 0.15905 0.34979 0 2.7162 0.11519 0 1.0402 1.00364 0 1.77592\\nCYS_8 -7.3912 0.71464 4.32711 -0.0723 0.0143 0.06171 2.39798 -2.05879 -0.00941 -0.05637 -1.32332 -0.52514 0 0 0 0 0 0 -0.01825 0.01267 0.34432 0 0.12611 0 3.6196 0.35927 0 0.52292\\nARG_9 -6.31555 0.83611 6.22808 -0.67489 0.17669 0.37638 2.44377 -2.91417 -0 -0 -2.19209 0.18932 0 0 0 0 0 0 -0.05866 0.10944 2.50906 0 -0.14984 0 -1.2888 0.48019 0 -0.24497\\nPHE_10 -10.607 1.15101 2.58685 -0.71879 0.08073 0.38058 1.77457 -2.62655 -0.009 -0.0954 -1.34326 -0.11129 0 0 0 0 0 0 -0.00843 0.34013 0 2.73112 0.0263 0 1.0402 -0.06722 0 -5.47543\\nTHR_11 -4.95557 0.41143 5.14473 -0.19993 0.13191 0.07191 2.15003 -2.34115 -0 -0 -1.08862 -0.17974 0 0 0 0 0 0 -0.01522 0.00706 0.08559 0 -0.02176 2.29793 -1.0874 0.40668 0 0.81788\\nALA_12 -2.83368 0.16007 2.68502 -0.02278 0 0 1.60923 -1.5984 -0 -0 -0.57754 -0.35965 0 0 0 0 0 0 -0.07367 0 0 0 -0.35068 0 1.8394 0.14257 0 0.6199\\nGLU_13 -4.60296 0.54481 5.02436 -0.24615 0.05187 0.41272 1.52761 -2.313 -0.0083 -0.08215 -1.74382 -0.66429 0 0 0 0 0 0 -0.04642 0.2215 0 2.97774 -0.10902 0 -2.7348 -0.435 0 -2.2253\\nGLY_14 -2.27346 0.07997 3.0077 -5e-05 0 0 1.22312 -1.43846 -0 -0 -1.19143 -0.3991 0 0 0 0 0 0 -0.1806 0 0 0 -1.26749 0 0.83697 -0.56617 0 -2.16901\\nVAL_15 -6.29203 0.77367 2.90962 -0.28587 0.21726 0.0577 1.64141 -2.16508 -0 -0 -1.99409 0.15052 0 0 0 -0.46349 0 0 -0.08932 0.02538 0.07341 0 -0.37863 0 1.9342 -0.62076 0 -4.50611\\nLYS_16 -2.51058 0.10583 2.32919 -0.57842 0.26288 0.45019 0.55342 -1.0764 -0.02084 -0.07543 0.23362 -0.04603 0 0 0 0 0 0 0.12602 0.22192 1.72239 0 -0.20016 0 -1.5107 -0.28356 0 -0.29665\\nGLU_17 -2.85429 0.29347 2.11423 -0.40827 0.1766 0.57788 0.03631 -1.14418 -0.02084 -0.07543 -0.09737 -0.63912 0 0 0 0 0 0 -0.00615 0.03159 0 3.31291 -0.00187 0 -2.7348 0.04069 0 -1.39862\\nILE_18 -6.77228 0.71462 0.38724 -0.49864 0.39316 0.11424 0.62879 -1.3173 -0.01251 -0.1167 0.19719 -0.19628 0 0 0 0 0 0 -0.05207 0.00713 0.2962 0 -0.57292 0 0.73287 -0.11368 0 -6.18092\\nASP_19 -4.88433 0.62026 7.37304 -0.19595 0.21674 0.61705 3.81574 -3.10874 -0.01251 -0.1167 -5.66602 -1.95399 0 0 0 -0.61397 -0.43846 0 -0.04788 0.11372 0 2.77139 -0.21514 0 -2.3716 -0.28 0 -4.37736\\nTYR_20 -7.14019 0.74836 3.47548 -1.08835 0.23664 0.46965 2.26847 -2.29962 -0.01247 -0.10817 -0.0843 -0.43442 0 0 0 -0.06486 0 0 -0.04519 0.00121 0 2.4174 0.15859 0.00144 1.2797 -0.02719 0 -0.24781\\nLYS_21 -4.83797 0.66542 5.66919 -0.60859 0.11219 0.50056 2.46232 -2.49506 -0.01247 -0.10817 -5.14864 0.40202 0 0 0 -0.54911 -0.43846 0 -0.04123 0.69352 2.08031 0 -0.1057 0 -1.5107 -0.12085 0 -3.39141\\nASP_22 -5.28115 0.45692 7.66567 -0.25981 0.12204 0.9452 3.40428 -3.28725 -0 -0 -5.45378 -0.76511 0 0 0 -0.55517 -0.33765 0 -0.01292 0.01126 0 1.87963 -0.80938 0 -2.3716 -0.29105 0 -4.93986\\nLEU_23 -6.90826 0.8741 4.01781 -0.59101 0.51425 0.15914 2.24277 -2.55844 -0 -0 -1.42281 0.02317 0 0 0 0 0 0 -0.01728 0.12274 2.93585 0 -0.24022 0 0.18072 -0.22799 0 -0.89548\\nASN_24 -3.16138 0.21664 4.17182 -0.1872 0.04573 0.27737 1.55414 -1.96133 -0 -0 -1.39547 -0.32225 0 0 0 0 0 0 0.04202 0.01382 0 1.46476 0.40751 0 -0.93687 0.04725 0 0.27657\\nTHR_25 -5.18943 0.68304 5.21886 -0.20385 0.13443 0.07717 2.30427 -2.66091 -0 -0 -2.78808 -0.34004 0 0 0 -0.55517 -0.33765 0 -0.03651 0.02662 0.129 0 -0.00593 2.58998 -1.0874 0.42527 0 -1.61632\\nLEU_26 -8.60526 0.88736 3.92771 -0.5034 0.21449 0.11687 2.84788 -3.04584 -0 -0 -1.75245 0.22668 0 0 0 0 0 0 -0.04994 0.06199 0.33598 0 -0.29077 0 0.18072 0.18328 0 -5.26469\\nLYS_27 -4.86361 0.54648 5.18323 -0.33708 0.04242 0.16266 2.46012 -2.41533 -0 -0 -1.82967 -0.01864 0 0 0 0 0 0 -0.0613 0.06807 1.74235 0 -0.07167 0 -1.5107 -0.20629 0 -1.10896\\nALA_28 -3.29035 0.43946 2.129 -0.02556 0.00064 0 1.48696 -1.63266 -0 -0 -1.05432 -0.41752 0 0 0 0 0 0 -0.07744 0 0 0 -0.20906 0 1.8394 -0.22219 0 -1.03366\\nTYR_29 -7.87771 0.97797 2.71098 -0.81289 0.14243 0.49736 2.5447 -2.52194 -0.02067 -0.13343 -2.84984 -0.13786 0 0 0 0 0 0 -0.02991 0.15149 0 1.9961 -0.28052 8e-05 1.2797 -0.25811 0 -4.62205\\nVAL_30 -5.84485 0.55192 2.63082 -0.26483 0.18306 0.05264 1.85197 -2.22594 -0 -0 -1.03603 -0.26229 0 0 0 0 0 0 -0.07717 0.02463 0.40751 0 -0.78466 0 1.9342 -0.40601 0 -3.26504\\nSER_31 -4.72469 0.63749 5.12878 -0.02441 0 0.02024 2.46349 -2.46915 -0.01183 -0.11299 -2.44357 -0.09908 0 0 0 0 0 0 0.02528 0.05532 1.14647 0 -0.37353 0.62202 -0.77834 -0.46592 0 -1.40442\\nGLU_32 -2.34542 0.20286 2.55655 -0.61957 0.47164 1.67904 0.54033 -1.18059 -0.01183 -0.11299 -0.49007 -3.264 0 0 0 0 0 0 -0.091 0.14724 0 3.41005 -0.20967 0 -2.7348 -0.20654 0 -2.25876\\nTHR_33 -4.25155 0.58615 4.24753 -0.1338 0.12988 0.08301 1.49113 -2.00075 -0.0006 -0.00289 0.01835 -1.37057 0 0 0 -0.78241 0 0 -0.02833 0.06028 0.08804 0 -0.31191 2.26305 -1.0874 -0.19676 0 -1.19952\\nGLY_34 -3.16761 0.13594 3.29232 -7e-05 0 0 1.73452 -1.78726 -0.01835 -0.17326 -2.26014 -0.3947 0 0 0 -0.28877 0 0 -0.16655 0 0 0 -1.5183 0 0.83697 -0.67703 0 -4.45229\\nLYS_35 -4.95623 0.30298 6.62878 -0.72214 0.20787 0.45685 3.24664 -2.89507 -0 -0 -3.09568 0.9719 0 0 0 -1.57303 0 0 0.01809 0.17587 2.11587 0 -0.03543 0 -1.5107 -0.68937 0 -1.3528\\nILE_36 -6.08796 0.37347 2.6213 -0.48921 0.41281 0.1012 1.70068 -1.89153 -0.02953 -0.09899 -1.66403 0.33978 0 0 0 -0.79062 0 0 -0.07422 0.01712 0.39661 0 -0.4572 0 0.73287 -0.53212 0 -5.41958\\nVAL_37 -5.56635 0.87898 2.35412 -0.28152 0.21912 0.05655 1.67894 -1.8989 -0.01986 -0.11316 -1.56552 0.21284 0.10583 0 0 -0.74757 0 0 -0.08872 0.07033 0.06886 0 -0.41707 0 1.9342 0.71663 0 -2.40225\\nPRO_38 -4.81429 0.66285 3.65803 -0.18905 0.0018 0.13237 1.9485 -1.64477 -0 -0 -2.08528 0.08523 0.11787 0 0 0 0 0 0.15957 0.00017 0.50579 0 -0.99435 0 -2.4119 0.71526 0 -4.15219\\nSER_39 -5.31222 0.54994 5.84831 -0.02885 1e-05 0.0434 2.22984 -2.69596 -0.00276 -0.01527 -1.61395 -1.11694 0 0 0 0 0 0 -0.04825 0.01416 0.18569 0 -0.06203 0.61406 -0.77834 -0.42198 0 -2.61114\\nARG_40 -4.25126 0.57157 3.42009 -1.02604 0.30452 0.77065 0.46759 -1.56053 -0 -0 -0.21272 0.35385 0 0 0 0 0 0 0.01312 0.05347 2.65898 0 -0.08623 0 -1.2888 -0.17067 0 0.01759\\nILE_41 -5.65185 0.78394 4.29005 -0.66738 0.55192 0.15408 1.85083 -2.20124 -0.00251 -0.03218 -1.41388 0.14504 0 0 0 0 0 0 0.2658 0.03689 0.86619 0 -0.53194 0 0.73287 0.11174 0 -0.71162\\nTHR_42 -6.54576 0.91788 5.02476 -0.1327 0.13483 0.07735 2.71595 -2.76529 -0.00479 -0.0456 -0.75582 -1.19417 0 0 0 -0.83457 0 0 0.0229 0.32264 0.18438 0 -0.07336 2.26401 -1.0874 -0.02695 0 -1.80169\\nGLY_43 -5.28785 1.00196 5.176 -6e-05 0 0 1.93162 -2.73195 -0.00941 -0.05637 -2.52517 -0.40615 0 0 0 -0.18679 0 0 -0.05444 0 0 0 -1.49614 0 0.83697 -0.62358 0 -4.43137\\nTHR_44 -7.42848 1.39198 4.98611 -0.17937 0.10998 0.06037 2.26219 -2.73113 -0.00021 -0.00863 -2.03787 0.38005 0 0 0 -0.93147 0 0 0.0104 0.10673 0.06245 0 0.0391 2.2576 -1.0874 -0.48496 0 -3.22256\\nLYS_45 -5.7515 0.75426 5.11898 -0.39588 0.0771 0.22145 2.89376 -2.21906 -0.00578 -0.05364 -1.65716 0.46938 0 0 0 0 0 0 0.69798 0.07108 2.37137 0 0.05493 0 -1.5107 -0.14429 0 0.99227\\nALA_46 -3.34826 0.37696 3.6167 -0.02392 0 0 1.66032 -1.82909 -0 -0 -0.89585 -0.36753 0 0 0 0 0 0 -0.09073 0 0 0 -0.42494 0 1.8394 -0.17637 0 0.33669\\nLYS_47 -5.24187 0.52057 4.62033 -0.62121 0.23887 0.3017 1.4337 -2.18897 -0.01329 -0.11165 -0.68032 0.23287 0 0 0 0 0 0 -0.05318 0.03494 3.21763 0 -0.05769 0 -1.5107 -0.30504 0 -0.18329\\nTYR_48 -12.2279 1.25078 5.84262 -0.70684 0.08777 0.35493 3.864 -3.72901 -0.02495 -0.25883 -2.80661 -0.21491 0 0 0 -0.46349 0 0 0.00496 0.03894 0 2.15095 -0.01538 0.07597 1.2797 -0.30676 0 -5.80405\\nGLN_49 -8.01847 0.66851 6.91768 -0.63566 0.04335 0.5961 3.18997 -3.60895 -0 -0 -2.83115 -0.75122 0 0 0 -0.74757 0 0 0.03084 0.10092 0 3.10315 -0.17514 0 -0.18838 -0.09089 0 -2.3969\\nARG_50 -5.5664 0.41309 6.12093 -0.76896 0.126 0.49911 2.35367 -3.03106 -0.00578 -0.05364 -2.26286 0.35163 0 0 0 0 0 0 -0.01651 0.04391 1.47342 0 -0.05748 0 -1.2888 -0.04318 0 -1.71288\\nGLN_51 -7.35826 0.56216 6.72995 -0.31483 0.0931 0.25883 3.3692 -3.38587 -0.01166 -0.14718 -2.41473 -0.54828 0 0 0 0 0 0 -0.0489 0.04703 0 2.80182 -0.13459 0 -0.18838 -0.01733 0 -0.70793\\nLEU_52 -9.3321 1.0658 4.43439 -0.65272 0.38256 0.18631 3.28769 -3.34804 -0.00214 -0.014 -2.43062 -0.01912 0 0 0 0 0 0 0.02574 0.06921 1.37603 0 -0.30144 0 0.18072 -0.12039 0 -5.21212\\nALA_53 -5.3074 0.50059 4.70451 -0.02159 0 0 2.70509 -2.80425 -0 -0 -2.33655 -0.40263 0 0 0 0 0 0 0.02139 0 0 0 -0.29683 0 1.8394 -0.23139 0 -1.62966\\nTHR_54 -5.28859 0.50692 5.79125 -0.21444 0.24936 0.07865 2.8528 -2.80209 -0 -0 -2.51391 -0.16951 0 0 0 0 0 0 -0.02894 0.0108 0.08651 0 -0.02147 2.29214 -1.0874 0.1714 0 -0.08653\\nALA_55 -6.55141 0.43366 3.98968 -0.02172 0 0 2.83532 -2.92011 -0 -0 -2.37717 -0.37528 0 0 0 0 0 0 -0.01915 0 0 0 -0.33272 0 1.8394 0.13196 0 -3.36756\\nILE_56 -9.55917 0.99133 4.24928 -0.54497 0.51858 0.11088 3.1557 -3.18796 -0 -0 -2.70289 -0.07013 0 0 0 0 0 0 -0.0681 0.01387 0.59629 0 -0.4653 0 0.73287 -0.00778 0 -6.23748\\nLYS_57 -5.67923 0.34307 5.94173 -0.33895 0.0487 0.16715 2.64275 -2.78568 -0.00214 -0.014 -2.19294 -0.00508 0 0 0 0 0 0 0.00962 0.02835 1.68931 0 -0.03891 0 -1.5107 0.03882 0 -1.65812\\nARG_58 -6.39484 0.56577 5.85014 -0.65713 0.16133 0.36823 2.91485 -2.83963 -0 -0 -2.18437 0.23472 0 0 0 0 0 0 0.00543 0.0328 2.53008 0 -0.04751 0 -1.2888 -0.09431 0 -0.84322\\nALA_59 -7.36531 0.66462 4.84643 -0.0231 0 0 3.48148 -3.28864 -0.00024 -0.00087 -3.43674 -0.4012 0 0 0 0 0 0 0.06088 0 0 0 -0.23344 0 1.8394 -0.23184 0 -4.08857\\nARG_60 -10.5695 1.0017 8.80891 -0.52239 0.14065 0.27701 3.73334 -4.36477 -0.03802 -0.15929 -3.71598 0.43754 0 0 0 -0.28877 0 0 0.01885 0.3012 2.06313 0 -0.0751 0 -1.2888 -0.291 0 -4.53133\\nTYR_61 -4.28679 0.51747 4.00758 -1.13279 0.14788 0.48679 1.85786 -2.0747 -0 -0 -0.85224 -0.28962 0 0 0 0 0 0 -0.01846 0.08462 0 2.0025 -0.23267 0 1.2797 0.19846 0 1.69558\\nLEU_62 -5.29294 0.57136 3.31661 -0.56963 0.32151 0.17321 1.2312 -1.94799 -0 -0 -0.65203 0.17213 0 0 0 0 0 0 -0.03492 0.06306 0.09274 0 -0.07493 0 0.18072 0.31975 0 -2.13015\\nALA_63 -2.49841 0.35792 2.94055 -0.02788 0.01281 0 1.33121 -1.5759 -0 -0 -1.19412 -0.63332 0 0 0 0 0 0 -0.09188 0 0 0 0.26982 0 1.8394 0.40258 0 1.1328\\nLEU_64 -5.49818 0.75451 1.72678 -0.62457 0.24771 0.18988 1.2538 -1.52943 -0.0023 -0.00652 -0.40663 0.12399 0 0 0 0 0 0 0.60387 0.01587 1.0176 0 -0.28163 0 0.18072 0.45643 0 -1.77809\\nLEU_65 -6.48769 0.90214 2.57461 -0.46305 0.18942 0.08425 1.40113 -1.86276 -0.00254 -0.00739 -0.0541 0.0717 0.26391 0 0 0 0 0 0.06179 0.04714 0.64627 0 -0.05508 0 0.18072 1.23334 0 -1.2762\\nPRO_66 -3.18213 0.47817 1.9802 -0.19919 0.00634 0.1454 0.79126 -0.93806 -0.01 -0.11367 -0.75546 0.05349 0.26587 0 0 0 0 0 -0.00819 0.00122 0.40852 0 -0.94292 0 -2.4119 0.87514 0 -3.55592\\nTYR_67 -6.26218 0.81377 3.62327 -0.61952 0.15485 0.30165 1.42734 -2.06548 -0.00989 -0.09489 -0.7509 -0.19226 0 0 0 -1.10557 0 0 -0.0412 0.00134 0 2.91541 -0.11469 0.00188 1.2797 -0.11745 0 -0.85483\\nTHR_68 -4.90125 0.45907 5.49489 -0.10347 0.08413 0.06112 2.21444 -2.58492 -0.0093 -0.092 -1.61417 -0.6076 0 0 0 -1.35624 0 0 0.0646 0.08406 0.16451 0 -0.73925 2.40977 -1.0874 0.05401 0 -2.005\\nASP_69 -2.49629 0.17727 3.61801 -0.18841 0.16509 0.62715 0.93559 -1.49526 -0.00048 -0.00204 -0.99886 -2.97248 0 0 0 -0.27277 0 0 0.23686 0.10374 0 4.34457 -0.01029 0 -2.3716 -0.15967 0 -0.75988\\nSER_70 -2.49633 0.26998 3.87222 -0.03197 0 0.07472 0.8263 -1.6612 -0.0141 -0.15335 -1.39899 -0.25737 0 0 0 -0.60068 0 0 -0.00225 0.02229 0.18401 0 -0.41823 0.65731 -0.77834 -0.24905 0 -2.15503\\nHIS_D:CtermProteinFull_71 -3.87101 0.25686 3.61603 -0.38619 0.0107 0.50343 1.92203 -1.7842 -0.01362 -0.15131 -1.99043 -0.03397 0 0 0 -2.13391 0 0 0 0.23817 0 1.97835 0 0 -0.45461 -0.14347 0 -2.43716\\nVRT_72 0 0 0 0 0 0 0 -0 -0 -0 0 0 0 0 0 0 0 0 0 0 0 0 0 0 0 0 0 0\\n#END_POSE_ENERGIES_TABLE S_singletgt_0001.pdb\\n\\n\",\"pdb\");\n\tviewer_1675466187249673.setStyle({\"cartoon\": {\"color\": \"spectrum\"}});\n\tviewer_1675466187249673.addStyle({\"and\": [{\"resn\": [\"GLY\", \"PRO\"], \"invert\": true}, {\"atom\": [\"C\", \"O\", \"N\"], \"invert\": true}]},{\"stick\": {\"colorscheme\": \"WhiteCarbon\", \"radius\": 0.3}});\n\tviewer_1675466187249673.addStyle({\"and\": [{\"resn\": \"GLY\"}, {\"atom\": \"CA\"}]},{\"sphere\": {\"colorscheme\": \"WhiteCarbon\", \"radius\": 0.3}});\n\tviewer_1675466187249673.addStyle({\"and\": [{\"resn\": \"PRO\"}, {\"atom\": [\"C\", \"O\"], \"invert\": true}]},{\"stick\": {\"colorscheme\": \"WhiteCarbon\", \"radius\": 0.3}});\n\tviewer_1675466187249673.addStyle({\"atom\": [\"C\", \"O\", \"N\", \"CA\"]},{\"stick\": {\"colorscheme\": \"WhiteCarbon\", \"radius\": 0.3}});\n\tviewer_1675466187249673.zoomTo();\nviewer_1675466187249673.render();\n});\n</script>",
            "text/html": [
              "<div id=\"3dmolviewer_1675466187249673\"  style=\"position: relative; width: 640px; height: 480px\">\n",
              "        <p id=\"3dmolwarning_1675466187249673\" style=\"background-color:#ffcccc;color:black\">You appear to be running in JupyterLab (or JavaScript failed to load for some other reason).  You need to install the 3dmol extension: <br>\n",
              "        <tt>jupyter labextension install jupyterlab_3dmol</tt></p>\n",
              "        </div>\n",
              "<script>\n",
              "\n",
              "var loadScriptAsync = function(uri){\n",
              "  return new Promise((resolve, reject) => {\n",
              "    //this is to ignore the existence of requirejs amd\n",
              "    var savedexports, savedmodule;\n",
              "    if (typeof exports !== 'undefined') savedexports = exports;\n",
              "    else exports = {}\n",
              "    if (typeof module !== 'undefined') savedmodule = module;\n",
              "    else module = {}\n",
              "\n",
              "    var tag = document.createElement('script');\n",
              "    tag.src = uri;\n",
              "    tag.async = true;\n",
              "    tag.onload = () => {\n",
              "        exports = savedexports;\n",
              "        module = savedmodule;\n",
              "        resolve();\n",
              "    };\n",
              "  var firstScriptTag = document.getElementsByTagName('script')[0];\n",
              "  firstScriptTag.parentNode.insertBefore(tag, firstScriptTag);\n",
              "});\n",
              "};\n",
              "\n",
              "if(typeof $3Dmolpromise === 'undefined') {\n",
              "$3Dmolpromise = null;\n",
              "  $3Dmolpromise = loadScriptAsync('https://3dmol.org/build/3Dmol.js');\n",
              "}\n",
              "\n",
              "var viewer_1675466187249673 = null;\n",
              "var warn = document.getElementById(\"3dmolwarning_1675466187249673\");\n",
              "if(warn) {\n",
              "    warn.parentNode.removeChild(warn);\n",
              "}\n",
              "$3Dmolpromise.then(function() {\n",
              "viewer_1675466187249673 = $3Dmol.createViewer(document.getElementById(\"3dmolviewer_1675466187249673\"),{backgroundColor:\"white\"});\n",
              "viewer_1675466187249673.zoomTo();\n",
              "\tviewer_1675466187249673.addModel(\"ATOM      1  N   PHE A   1      40.447  16.942  34.427  1.00  0.00           N  \\nATOM      2  CA  PHE A   1      40.288  15.850  35.383  1.00  0.00           C  \\nATOM      3  C   PHE A   1      39.486  14.667  34.870  1.00  0.00           C  \\nATOM      4  O   PHE A   1      39.982  13.534  34.805  1.00  0.00           O  \\nATOM      5  CB  PHE A   1      39.682  16.365  36.678  1.00  0.00           C  \\nATOM      6  CG  PHE A   1      39.323  15.280  37.581  1.00  0.00           C  \\nATOM      7  CD1 PHE A   1      40.271  14.435  38.096  1.00  0.00           C  \\nATOM      8  CD2 PHE A   1      38.026  15.113  37.948  1.00  0.00           C  \\nATOM      9  CE1 PHE A   1      39.907  13.427  38.941  1.00  0.00           C  \\nATOM     10  CE2 PHE A   1      37.655  14.115  38.792  1.00  0.00           C  \\nATOM     11  CZ  PHE A   1      38.596  13.266  39.288  1.00  0.00           C  \\nATOM     12 1H   PHE A   1      41.270  16.800  33.860  1.00  0.00           H  \\nATOM     13 2H   PHE A   1      39.638  17.004  33.824  1.00  0.00           H  \\nATOM     14 3H   PHE A   1      40.547  17.810  34.933  1.00  0.00           H  \\nATOM     15  HA  PHE A   1      41.286  15.485  35.619  1.00  0.00           H  \\nATOM     16 1HB  PHE A   1      40.394  17.013  37.188  1.00  0.00           H  \\nATOM     17 2HB  PHE A   1      38.792  16.949  36.468  1.00  0.00           H  \\nATOM     18  HD1 PHE A   1      41.317  14.558  37.827  1.00  0.00           H  \\nATOM     19  HD2 PHE A   1      37.289  15.793  37.568  1.00  0.00           H  \\nATOM     20  HE1 PHE A   1      40.664  12.753  39.346  1.00  0.00           H  \\nATOM     21  HE2 PHE A   1      36.611  13.997  39.079  1.00  0.00           H  \\nATOM     22  HZ  PHE A   1      38.312  12.470  39.972  1.00  0.00           H  \\nATOM     23  N   PHE A   2      38.258  14.903  34.475  1.00  0.00           N  \\nATOM     24  CA  PHE A   2      37.516  13.802  33.924  1.00  0.00           C  \\nATOM     25  C   PHE A   2      37.902  13.569  32.481  1.00  0.00           C  \\nATOM     26  O   PHE A   2      37.989  14.510  31.694  1.00  0.00           O  \\nATOM     27  CB  PHE A   2      36.039  14.077  33.965  1.00  0.00           C  \\nATOM     28  CG  PHE A   2      35.352  13.893  35.250  1.00  0.00           C  \\nATOM     29  CD1 PHE A   2      35.259  14.833  36.171  1.00  0.00           C  \\nATOM     30  CD2 PHE A   2      34.714  12.739  35.464  1.00  0.00           C  \\nATOM     31  CE1 PHE A   2      34.550  14.598  37.326  1.00  0.00           C  \\nATOM     32  CE2 PHE A   2      33.998  12.499  36.578  1.00  0.00           C  \\nATOM     33  CZ  PHE A   2      33.920  13.436  37.522  1.00  0.00           C  \\nATOM     34  H   PHE A   2      37.841  15.818  34.533  1.00  0.00           H  \\nATOM     35  HA  PHE A   2      37.733  12.903  34.503  1.00  0.00           H  \\nATOM     36 1HB  PHE A   2      35.877  15.101  33.655  1.00  0.00           H  \\nATOM     37 2HB  PHE A   2      35.564  13.438  33.231  1.00  0.00           H  \\nATOM     38  HD1 PHE A   2      35.750  15.773  36.009  1.00  0.00           H  \\nATOM     39  HD2 PHE A   2      34.756  11.996  34.696  1.00  0.00           H  \\nATOM     40  HE1 PHE A   2      34.491  15.341  38.084  1.00  0.00           H  \\nATOM     41  HE2 PHE A   2      33.480  11.545  36.691  1.00  0.00           H  \\nATOM     42  HZ  PHE A   2      33.350  13.258  38.429  1.00  0.00           H  \\nATOM     43  N   ARG A   3      38.134  12.302  32.140  1.00  0.00           N  \\nATOM     44  CA  ARG A   3      38.406  11.870  30.778  1.00  0.00           C  \\nATOM     45  C   ARG A   3      37.232  10.975  30.479  1.00  0.00           C  \\nATOM     46  O   ARG A   3      36.834  10.724  29.342  1.00  0.00           O  \\nATOM     47  CB  ARG A   3      39.679  11.053  30.698  1.00  0.00           C  \\nATOM     48  CG  ARG A   3      40.999  11.820  30.682  1.00  0.00           C  \\nATOM     49  CD  ARG A   3      41.376  12.333  32.045  1.00  0.00           C  \\nATOM     50  NE  ARG A   3      42.735  12.839  32.071  1.00  0.00           N  \\nATOM     51  CZ  ARG A   3      43.383  13.326  33.159  1.00  0.00           C  \\nATOM     52  NH1 ARG A   3      42.794  13.402  34.342  1.00  0.00           N  \\nATOM     53  NH2 ARG A   3      44.640  13.729  33.030  1.00  0.00           N  \\nATOM     54  H   ARG A   3      38.063  11.587  32.843  1.00  0.00           H  \\nATOM     55  HA  ARG A   3      38.425  12.719  30.095  1.00  0.00           H  \\nATOM     56 1HB  ARG A   3      39.715  10.365  31.539  1.00  0.00           H  \\nATOM     57 2HB  ARG A   3      39.650  10.448  29.792  1.00  0.00           H  \\nATOM     58 1HG  ARG A   3      41.796  11.168  30.328  1.00  0.00           H  \\nATOM     59 2HG  ARG A   3      40.907  12.678  30.016  1.00  0.00           H  \\nATOM     60 1HD  ARG A   3      40.723  13.154  32.307  1.00  0.00           H  \\nATOM     61 2HD  ARG A   3      41.283  11.540  32.785  1.00  0.00           H  \\nATOM     62  HE  ARG A   3      43.249  12.810  31.203  1.00  0.00           H  \\nATOM     63 1HH1 ARG A   3      41.813  13.114  34.470  1.00  0.00           H  \\nATOM     64 2HH1 ARG A   3      43.303  13.758  35.134  1.00  0.00           H  \\nATOM     65 1HH2 ARG A   3      45.100  13.673  32.131  1.00  0.00           H  \\nATOM     66 2HH2 ARG A   3      45.141  14.092  33.828  1.00  0.00           H  \\nATOM     67  N   ARG A   4      36.737  10.467  31.590  1.00  0.00           N  \\nATOM     68  CA  ARG A   4      35.628   9.554  31.736  1.00  0.00           C  \\nATOM     69  C   ARG A   4      34.401  10.429  31.807  1.00  0.00           C  \\nATOM     70  O   ARG A   4      34.567  11.633  31.980  1.00  0.00           O  \\nATOM     71  CB  ARG A   4      35.824   8.725  32.996  1.00  0.00           C  \\nATOM     72  CG  ARG A   4      35.727   9.504  34.303  1.00  0.00           C  \\nATOM     73  CD  ARG A   4      36.161   8.703  35.471  1.00  0.00           C  \\nATOM     74  NE  ARG A   4      35.871   9.368  36.751  1.00  0.00           N  \\nATOM     75  CZ  ARG A   4      36.618  10.309  37.382  1.00  0.00           C  \\nATOM     76  NH1 ARG A   4      37.740  10.766  36.867  1.00  0.00           N  \\nATOM     77  NH2 ARG A   4      36.192  10.764  38.545  1.00  0.00           N  \\nATOM     78  H   ARG A   4      37.193  10.781  32.428  1.00  0.00           H  \\nATOM     79  HA  ARG A   4      35.562   8.900  30.864  1.00  0.00           H  \\nATOM     80 1HB  ARG A   4      35.070   7.940  33.030  1.00  0.00           H  \\nATOM     81 2HB  ARG A   4      36.800   8.243  32.967  1.00  0.00           H  \\nATOM     82 1HG  ARG A   4      36.336  10.402  34.250  1.00  0.00           H  \\nATOM     83 2HG  ARG A   4      34.682   9.775  34.470  1.00  0.00           H  \\nATOM     84 1HD  ARG A   4      35.630   7.751  35.461  1.00  0.00           H  \\nATOM     85 2HD  ARG A   4      37.231   8.513  35.412  1.00  0.00           H  \\nATOM     86  HE  ARG A   4      35.022   9.075  37.219  1.00  0.00           H  \\nATOM     87 1HH1 ARG A   4      38.071  10.435  35.981  1.00  0.00           H  \\nATOM     88 2HH1 ARG A   4      38.273  11.477  37.363  1.00  0.00           H  \\nATOM     89 1HH2 ARG A   4      35.332  10.413  38.941  1.00  0.00           H  \\nATOM     90 2HH2 ARG A   4      36.723  11.457  39.043  1.00  0.00           H  \\nATOM     91  N   ARG A   5      33.196   9.869  31.680  1.00  0.00           N  \\nATOM     92  CA  ARG A   5      31.999  10.699  31.800  1.00  0.00           C  \\nATOM     93  C   ARG A   5      32.250  11.743  32.867  1.00  0.00           C  \\nATOM     94  O   ARG A   5      32.543  11.397  34.011  1.00  0.00           O  \\nATOM     95  CB  ARG A   5      30.783   9.850  32.131  1.00  0.00           C  \\nATOM     96  CG  ARG A   5      30.786   9.085  33.445  1.00  0.00           C  \\nATOM     97  CD  ARG A   5      29.496   8.405  33.632  1.00  0.00           C  \\nATOM     98  NE  ARG A   5      28.486   9.374  34.005  1.00  0.00           N  \\nATOM     99  CZ  ARG A   5      27.155   9.280  33.822  1.00  0.00           C  \\nATOM    100  NH1 ARG A   5      26.619   8.240  33.213  1.00  0.00           N  \\nATOM    101  NH2 ARG A   5      26.392  10.253  34.268  1.00  0.00           N  \\nATOM    102  H   ARG A   5      33.108   8.882  31.495  1.00  0.00           H  \\nATOM    103  HA  ARG A   5      31.820  11.197  30.850  1.00  0.00           H  \\nATOM    104 1HB  ARG A   5      29.884  10.419  32.031  1.00  0.00           H  \\nATOM    105 2HB  ARG A   5      30.723   9.069  31.414  1.00  0.00           H  \\nATOM    106 1HG  ARG A   5      31.590   8.353  33.458  1.00  0.00           H  \\nATOM    107 2HG  ARG A   5      30.887   9.756  34.286  1.00  0.00           H  \\nATOM    108 1HD  ARG A   5      29.202   7.931  32.698  1.00  0.00           H  \\nATOM    109 2HD  ARG A   5      29.577   7.661  34.423  1.00  0.00           H  \\nATOM    110  HE  ARG A   5      28.831  10.193  34.491  1.00  0.00           H  \\nATOM    111 1HH1 ARG A   5      27.201   7.494  32.876  1.00  0.00           H  \\nATOM    112 2HH1 ARG A   5      25.618   8.182  33.099  1.00  0.00           H  \\nATOM    113 1HH2 ARG A   5      26.804  11.072  34.742  1.00  0.00           H  \\nATOM    114 2HH2 ARG A   5      25.385  10.253  34.111  1.00  0.00           H  \\nATOM    115  N   ARG A   6      32.079  12.999  32.480  1.00  0.00           N  \\nATOM    116  CA  ARG A   6      32.393  14.165  33.301  1.00  0.00           C  \\nATOM    117  C   ARG A   6      31.614  14.423  34.589  1.00  0.00           C  \\nATOM    118  O   ARG A   6      30.797  13.637  35.066  1.00  0.00           O  \\nATOM    119  CB  ARG A   6      32.377  15.414  32.444  1.00  0.00           C  \\nATOM    120  CG  ARG A   6      33.461  15.455  31.419  1.00  0.00           C  \\nATOM    121  CD  ARG A   6      33.540  16.768  30.783  1.00  0.00           C  \\nATOM    122  NE  ARG A   6      34.657  16.840  29.875  1.00  0.00           N  \\nATOM    123  CZ  ARG A   6      34.630  16.493  28.575  1.00  0.00           C  \\nATOM    124  NH1 ARG A   6      33.519  16.054  28.017  1.00  0.00           N  \\nATOM    125  NH2 ARG A   6      35.734  16.598  27.856  1.00  0.00           N  \\nATOM    126  H   ARG A   6      31.801  13.132  31.500  1.00  0.00           H  \\nATOM    127  HA  ARG A   6      33.407  14.050  33.567  1.00  0.00           H  \\nATOM    128 1HB  ARG A   6      31.456  15.460  31.906  1.00  0.00           H  \\nATOM    129 2HB  ARG A   6      32.449  16.315  33.027  1.00  0.00           H  \\nATOM    130 1HG  ARG A   6      34.415  15.238  31.868  1.00  0.00           H  \\nATOM    131 2HG  ARG A   6      33.251  14.707  30.652  1.00  0.00           H  \\nATOM    132 1HD  ARG A   6      32.621  16.985  30.243  1.00  0.00           H  \\nATOM    133 2HD  ARG A   6      33.687  17.524  31.554  1.00  0.00           H  \\nATOM    134  HE  ARG A   6      35.542  17.158  30.257  1.00  0.00           H  \\nATOM    135 1HH1 ARG A   6      32.674  15.972  28.563  1.00  0.00           H  \\nATOM    136 2HH1 ARG A   6      33.514  15.803  27.038  1.00  0.00           H  \\nATOM    137 1HH2 ARG A   6      36.587  16.933  28.288  1.00  0.00           H  \\nATOM    138 2HH2 ARG A   6      35.732  16.344  26.879  1.00  0.00           H  \\nATOM    139  N   PHE A   7      31.909  15.554  35.183  1.00  0.00           N  \\nATOM    140  CA  PHE A   7      31.272  15.981  36.392  1.00  0.00           C  \\nATOM    141  C   PHE A   7      29.822  16.150  36.081  1.00  0.00           C  \\nATOM    142  O   PHE A   7      29.493  16.730  35.039  1.00  0.00           O  \\nATOM    143  CB  PHE A   7      31.652  17.429  36.691  1.00  0.00           C  \\nATOM    144  CG  PHE A   7      33.027  17.725  36.932  1.00  0.00           C  \\nATOM    145  CD1 PHE A   7      33.824  18.073  35.857  1.00  0.00           C  \\nATOM    146  CD2 PHE A   7      33.555  17.730  38.186  1.00  0.00           C  \\nATOM    147  CE1 PHE A   7      35.135  18.395  36.034  1.00  0.00           C  \\nATOM    148  CE2 PHE A   7      34.881  18.052  38.373  1.00  0.00           C  \\nATOM    149  CZ  PHE A   7      35.670  18.380  37.294  1.00  0.00           C  \\nATOM    150  H   PHE A   7      32.620  16.144  34.792  1.00  0.00           H  \\nATOM    151  HA  PHE A   7      31.432  15.269  37.203  1.00  0.00           H  \\nATOM    152 1HB  PHE A   7      31.334  18.042  35.862  1.00  0.00           H  \\nATOM    153 2HB  PHE A   7      31.082  17.764  37.557  1.00  0.00           H  \\nATOM    154  HD1 PHE A   7      33.394  18.093  34.859  1.00  0.00           H  \\nATOM    155  HD2 PHE A   7      32.924  17.475  39.040  1.00  0.00           H  \\nATOM    156  HE1 PHE A   7      35.753  18.663  35.180  1.00  0.00           H  \\nATOM    157  HE2 PHE A   7      35.307  18.050  39.377  1.00  0.00           H  \\nATOM    158  HZ  PHE A   7      36.718  18.637  37.447  1.00  0.00           H  \\nATOM    159  N   CYS A   8      28.923  15.744  36.955  1.00  0.00           N  \\nATOM    160  CA  CYS A   8      27.577  16.098  36.599  1.00  0.00           C  \\nATOM    161  C   CYS A   8      27.491  17.514  37.020  1.00  0.00           C  \\nATOM    162  O   CYS A   8      27.245  17.827  38.190  1.00  0.00           O  \\nATOM    163  CB  CYS A   8      26.506  15.296  37.283  1.00  0.00           C  \\nATOM    164  SG  CYS A   8      24.835  15.813  36.760  1.00  0.00           S  \\nATOM    165  H   CYS A   8      29.166  15.237  37.794  1.00  0.00           H  \\nATOM    166  HA  CYS A   8      27.438  16.017  35.519  1.00  0.00           H  \\nATOM    167 1HB  CYS A   8      26.643  14.250  37.012  1.00  0.00           H  \\nATOM    168 2HB  CYS A   8      26.583  15.380  38.362  1.00  0.00           H  \\nATOM    169  HG  CYS A   8      24.354  14.552  36.634  1.00  0.00           H  \\nATOM    170  N   ARG A   9      27.702  18.376  36.062  1.00  0.00           N  \\nATOM    171  CA  ARG A   9      27.785  19.768  36.359  1.00  0.00           C  \\nATOM    172  C   ARG A   9      26.483  20.272  36.874  1.00  0.00           C  \\nATOM    173  O   ARG A   9      26.451  20.992  37.851  1.00  0.00           O  \\nATOM    174  CB  ARG A   9      28.221  20.543  35.152  1.00  0.00           C  \\nATOM    175  CG  ARG A   9      29.644  20.265  34.793  1.00  0.00           C  \\nATOM    176  CD  ARG A   9      30.129  21.092  33.688  1.00  0.00           C  \\nATOM    177  NE  ARG A   9      31.478  20.702  33.288  1.00  0.00           N  \\nATOM    178  CZ  ARG A   9      32.615  21.058  33.919  1.00  0.00           C  \\nATOM    179  NH1 ARG A   9      32.576  21.800  35.004  1.00  0.00           N  \\nATOM    180  NH2 ARG A   9      33.779  20.657  33.443  1.00  0.00           N  \\nATOM    181  H   ARG A   9      27.918  17.998  35.135  1.00  0.00           H  \\nATOM    182  HA  ARG A   9      28.541  19.907  37.130  1.00  0.00           H  \\nATOM    183 1HB  ARG A   9      27.588  20.300  34.299  1.00  0.00           H  \\nATOM    184 2HB  ARG A   9      28.124  21.607  35.345  1.00  0.00           H  \\nATOM    185 1HG  ARG A   9      30.265  20.421  35.669  1.00  0.00           H  \\nATOM    186 2HG  ARG A   9      29.729  19.230  34.476  1.00  0.00           H  \\nATOM    187 1HD  ARG A   9      29.469  20.956  32.829  1.00  0.00           H  \\nATOM    188 2HD  ARG A   9      30.132  22.143  33.974  1.00  0.00           H  \\nATOM    189  HE  ARG A   9      31.561  20.132  32.455  1.00  0.00           H  \\nATOM    190 1HH1 ARG A   9      31.693  22.116  35.375  1.00  0.00           H  \\nATOM    191 2HH1 ARG A   9      33.435  22.059  35.472  1.00  0.00           H  \\nATOM    192 1HH2 ARG A   9      33.818  20.095  32.605  1.00  0.00           H  \\nATOM    193 2HH2 ARG A   9      34.635  20.924  33.910  1.00  0.00           H  \\nATOM    194  N   PHE A  10      25.389  19.760  36.356  1.00  0.00           N  \\nATOM    195  CA  PHE A  10      24.105  20.257  36.784  1.00  0.00           C  \\nATOM    196  C   PHE A  10      23.930  20.052  38.267  1.00  0.00           C  \\nATOM    197  O   PHE A  10      23.410  20.919  38.974  1.00  0.00           O  \\nATOM    198  CB  PHE A  10      23.022  19.487  36.092  1.00  0.00           C  \\nATOM    199  CG  PHE A  10      23.036  19.668  34.685  1.00  0.00           C  \\nATOM    200  CD1 PHE A  10      23.443  18.645  33.888  1.00  0.00           C  \\nATOM    201  CD2 PHE A  10      22.673  20.846  34.118  1.00  0.00           C  \\nATOM    202  CE1 PHE A  10      23.471  18.793  32.536  1.00  0.00           C  \\nATOM    203  CE2 PHE A  10      22.699  21.010  32.773  1.00  0.00           C  \\nATOM    204  CZ  PHE A  10      23.093  19.978  31.977  1.00  0.00           C  \\nATOM    205  H   PHE A  10      25.467  19.107  35.591  1.00  0.00           H  \\nATOM    206  HA  PHE A  10      24.043  21.321  36.555  1.00  0.00           H  \\nATOM    207 1HB  PHE A  10      23.119  18.432  36.310  1.00  0.00           H  \\nATOM    208 2HB  PHE A  10      22.070  19.808  36.461  1.00  0.00           H  \\nATOM    209  HD1 PHE A  10      23.741  17.701  34.337  1.00  0.00           H  \\nATOM    210  HD2 PHE A  10      22.361  21.657  34.742  1.00  0.00           H  \\nATOM    211  HE1 PHE A  10      23.794  17.963  31.899  1.00  0.00           H  \\nATOM    212  HE2 PHE A  10      22.398  21.960  32.332  1.00  0.00           H  \\nATOM    213  HZ  PHE A  10      23.104  20.097  30.901  1.00  0.00           H  \\nATOM    214  N   THR A  11      24.369  18.907  38.760  1.00  0.00           N  \\nATOM    215  CA  THR A  11      24.239  18.656  40.174  1.00  0.00           C  \\nATOM    216  C   THR A  11      25.142  19.603  40.936  1.00  0.00           C  \\nATOM    217  O   THR A  11      24.720  20.263  41.888  1.00  0.00           O  \\nATOM    218  CB  THR A  11      24.628  17.209  40.526  1.00  0.00           C  \\nATOM    219  OG1 THR A  11      23.752  16.301  39.864  1.00  0.00           O  \\nATOM    220  CG2 THR A  11      24.528  16.986  42.012  1.00  0.00           C  \\nATOM    221  H   THR A  11      24.821  18.232  38.158  1.00  0.00           H  \\nATOM    222  HA  THR A  11      23.205  18.835  40.470  1.00  0.00           H  \\nATOM    223  HB  THR A  11      25.651  17.017  40.198  1.00  0.00           H  \\nATOM    224  HG1 THR A  11      23.928  16.332  38.928  1.00  0.00           H  \\nATOM    225 1HG2 THR A  11      24.800  15.957  42.237  1.00  0.00           H  \\nATOM    226 2HG2 THR A  11      25.199  17.656  42.547  1.00  0.00           H  \\nATOM    227 3HG2 THR A  11      23.504  17.170  42.335  1.00  0.00           H  \\nATOM    228  N   ALA A  12      26.387  19.715  40.479  1.00  0.00           N  \\nATOM    229  CA  ALA A  12      27.399  20.527  41.142  1.00  0.00           C  \\nATOM    230  C   ALA A  12      27.007  21.993  41.218  1.00  0.00           C  \\nATOM    231  O   ALA A  12      27.269  22.680  42.205  1.00  0.00           O  \\nATOM    232  CB  ALA A  12      28.712  20.392  40.401  1.00  0.00           C  \\nATOM    233  H   ALA A  12      26.658  19.161  39.658  1.00  0.00           H  \\nATOM    234  HA  ALA A  12      27.514  20.153  42.160  1.00  0.00           H  \\nATOM    235 1HB  ALA A  12      29.479  20.970  40.911  1.00  0.00           H  \\nATOM    236 2HB  ALA A  12      29.003  19.342  40.366  1.00  0.00           H  \\nATOM    237 3HB  ALA A  12      28.588  20.767  39.391  1.00  0.00           H  \\nATOM    238  N   GLU A  13      26.334  22.443  40.181  1.00  0.00           N  \\nATOM    239  CA  GLU A  13      25.880  23.799  39.986  1.00  0.00           C  \\nATOM    240  C   GLU A  13      24.603  24.139  40.737  1.00  0.00           C  \\nATOM    241  O   GLU A  13      24.198  25.303  40.750  1.00  0.00           O  \\nATOM    242  CB  GLU A  13      25.647  24.017  38.490  1.00  0.00           C  \\nATOM    243  CG  GLU A  13      26.885  24.019  37.604  1.00  0.00           C  \\nATOM    244  CD  GLU A  13      26.526  24.002  36.142  1.00  0.00           C  \\nATOM    245  OE1 GLU A  13      25.358  23.938  35.847  1.00  0.00           O  \\nATOM    246  OE2 GLU A  13      27.417  24.023  35.323  1.00  0.00           O  \\nATOM    247  H   GLU A  13      26.196  21.802  39.403  1.00  0.00           H  \\nATOM    248  HA  GLU A  13      26.667  24.469  40.327  1.00  0.00           H  \\nATOM    249 1HB  GLU A  13      25.044  23.196  38.131  1.00  0.00           H  \\nATOM    250 2HB  GLU A  13      25.093  24.939  38.327  1.00  0.00           H  \\nATOM    251 1HG  GLU A  13      27.450  24.925  37.810  1.00  0.00           H  \\nATOM    252 2HG  GLU A  13      27.523  23.176  37.843  1.00  0.00           H  \\nATOM    253  N   GLY A  14      23.931  23.149  41.319  1.00  0.00           N  \\nATOM    254  CA  GLY A  14      22.677  23.426  41.988  1.00  0.00           C  \\nATOM    255  C   GLY A  14      21.513  23.625  41.018  1.00  0.00           C  \\nATOM    256  O   GLY A  14      20.579  24.372  41.316  1.00  0.00           O  \\nATOM    257  H   GLY A  14      24.309  22.198  41.341  1.00  0.00           H  \\nATOM    258 1HA  GLY A  14      22.451  22.597  42.658  1.00  0.00           H  \\nATOM    259 2HA  GLY A  14      22.792  24.313  42.609  1.00  0.00           H  \\nATOM    260  N   VAL A  15      21.581  23.005  39.845  1.00  0.00           N  \\nATOM    261  CA  VAL A  15      20.539  23.150  38.850  1.00  0.00           C  \\nATOM    262  C   VAL A  15      19.306  22.383  39.236  1.00  0.00           C  \\nATOM    263  O   VAL A  15      19.366  21.208  39.606  1.00  0.00           O  \\nATOM    264  CB  VAL A  15      21.061  22.669  37.492  1.00  0.00           C  \\nATOM    265  CG1 VAL A  15      19.981  22.655  36.433  1.00  0.00           C  \\nATOM    266  CG2 VAL A  15      22.165  23.598  37.093  1.00  0.00           C  \\nATOM    267  H   VAL A  15      22.364  22.376  39.639  1.00  0.00           H  \\nATOM    268  HA  VAL A  15      20.283  24.207  38.773  1.00  0.00           H  \\nATOM    269  HB  VAL A  15      21.433  21.669  37.594  1.00  0.00           H  \\nATOM    270 1HG1 VAL A  15      20.390  22.325  35.496  1.00  0.00           H  \\nATOM    271 2HG1 VAL A  15      19.174  21.982  36.712  1.00  0.00           H  \\nATOM    272 3HG1 VAL A  15      19.597  23.660  36.320  1.00  0.00           H  \\nATOM    273 1HG2 VAL A  15      22.607  23.308  36.152  1.00  0.00           H  \\nATOM    274 2HG2 VAL A  15      21.774  24.608  37.004  1.00  0.00           H  \\nATOM    275 3HG2 VAL A  15      22.917  23.580  37.852  1.00  0.00           H  \\nATOM    276  N   LYS A  16      18.170  23.053  39.167  1.00  0.00           N  \\nATOM    277  CA  LYS A  16      16.935  22.396  39.532  1.00  0.00           C  \\nATOM    278  C   LYS A  16      16.197  21.999  38.278  1.00  0.00           C  \\nATOM    279  O   LYS A  16      15.488  20.992  38.244  1.00  0.00           O  \\nATOM    280  CB  LYS A  16      16.106  23.332  40.382  1.00  0.00           C  \\nATOM    281  CG  LYS A  16      16.855  23.833  41.619  1.00  0.00           C  \\nATOM    282  CD  LYS A  16      17.329  22.711  42.536  1.00  0.00           C  \\nATOM    283  CE  LYS A  16      18.008  23.280  43.763  1.00  0.00           C  \\nATOM    284  NZ  LYS A  16      18.521  22.213  44.664  1.00  0.00           N  \\nATOM    285  H   LYS A  16      18.185  24.021  38.878  1.00  0.00           H  \\nATOM    286  HA  LYS A  16      17.151  21.483  40.081  1.00  0.00           H  \\nATOM    287 1HB  LYS A  16      15.805  24.196  39.790  1.00  0.00           H  \\nATOM    288 2HB  LYS A  16      15.200  22.823  40.710  1.00  0.00           H  \\nATOM    289 1HG  LYS A  16      17.730  24.409  41.306  1.00  0.00           H  \\nATOM    290 2HG  LYS A  16      16.202  24.494  42.186  1.00  0.00           H  \\nATOM    291 1HD  LYS A  16      16.488  22.087  42.833  1.00  0.00           H  \\nATOM    292 2HD  LYS A  16      18.066  22.093  42.029  1.00  0.00           H  \\nATOM    293 1HE  LYS A  16      18.845  23.903  43.444  1.00  0.00           H  \\nATOM    294 2HE  LYS A  16      17.298  23.895  44.312  1.00  0.00           H  \\nATOM    295 1HZ  LYS A  16      18.970  22.636  45.464  1.00  0.00           H  \\nATOM    296 2HZ  LYS A  16      17.755  21.633  44.975  1.00  0.00           H  \\nATOM    297 3HZ  LYS A  16      19.191  21.647  44.162  1.00  0.00           H  \\nATOM    298  N   GLU A  17      16.389  22.785  37.239  1.00  0.00           N  \\nATOM    299  CA  GLU A  17      15.772  22.537  35.961  1.00  0.00           C  \\nATOM    300  C   GLU A  17      16.713  23.021  34.910  1.00  0.00           C  \\nATOM    301  O   GLU A  17      17.510  23.928  35.152  1.00  0.00           O  \\nATOM    302  CB  GLU A  17      14.448  23.263  35.807  1.00  0.00           C  \\nATOM    303  CG  GLU A  17      14.561  24.772  35.769  1.00  0.00           C  \\nATOM    304  CD  GLU A  17      13.235  25.429  35.633  1.00  0.00           C  \\nATOM    305  OE1 GLU A  17      12.251  24.733  35.655  1.00  0.00           O  \\nATOM    306  OE2 GLU A  17      13.195  26.627  35.494  1.00  0.00           O  \\nATOM    307  H   GLU A  17      16.962  23.602  37.348  1.00  0.00           H  \\nATOM    308  HA  GLU A  17      15.624  21.463  35.827  1.00  0.00           H  \\nATOM    309 1HB  GLU A  17      13.964  22.943  34.885  1.00  0.00           H  \\nATOM    310 2HB  GLU A  17      13.790  22.994  36.634  1.00  0.00           H  \\nATOM    311 1HG  GLU A  17      15.041  25.118  36.684  1.00  0.00           H  \\nATOM    312 2HG  GLU A  17      15.179  25.076  34.925  1.00  0.00           H  \\nATOM    313  N   ILE A  18      16.595  22.481  33.728  1.00  0.00           N  \\nATOM    314  CA  ILE A  18      17.428  22.960  32.675  1.00  0.00           C  \\nATOM    315  C   ILE A  18      16.596  23.799  31.767  1.00  0.00           C  \\nATOM    316  O   ILE A  18      15.706  23.316  31.077  1.00  0.00           O  \\nATOM    317  CB  ILE A  18      18.087  21.794  31.953  1.00  0.00           C  \\nATOM    318  CG1 ILE A  18      18.924  21.022  33.001  1.00  0.00           C  \\nATOM    319  CG2 ILE A  18      18.930  22.302  30.784  1.00  0.00           C  \\nATOM    320  CD1 ILE A  18      19.510  19.745  32.534  1.00  0.00           C  \\nATOM    321  H   ILE A  18      15.905  21.762  33.563  1.00  0.00           H  \\nATOM    322  HA  ILE A  18      18.215  23.587  33.091  1.00  0.00           H  \\nATOM    323  HB  ILE A  18      17.320  21.115  31.576  1.00  0.00           H  \\nATOM    324 1HG1 ILE A  18      19.727  21.663  33.336  1.00  0.00           H  \\nATOM    325 2HG1 ILE A  18      18.295  20.782  33.852  1.00  0.00           H  \\nATOM    326 1HG2 ILE A  18      19.399  21.476  30.265  1.00  0.00           H  \\nATOM    327 2HG2 ILE A  18      18.294  22.838  30.074  1.00  0.00           H  \\nATOM    328 3HG2 ILE A  18      19.701  22.977  31.156  1.00  0.00           H  \\nATOM    329 1HD1 ILE A  18      20.075  19.287  33.330  1.00  0.00           H  \\nATOM    330 2HD1 ILE A  18      18.740  19.074  32.218  1.00  0.00           H  \\nATOM    331 3HD1 ILE A  18      20.170  19.941  31.727  1.00  0.00           H  \\nATOM    332  N   ASP A  19      16.884  25.073  31.777  1.00  0.00           N  \\nATOM    333  CA  ASP A  19      16.111  26.016  31.016  1.00  0.00           C  \\nATOM    334  C   ASP A  19      16.497  25.959  29.563  1.00  0.00           C  \\nATOM    335  O   ASP A  19      17.673  26.050  29.215  1.00  0.00           O  \\nATOM    336  CB  ASP A  19      16.226  27.433  31.518  1.00  0.00           C  \\nATOM    337  CG  ASP A  19      15.213  28.270  30.805  1.00  0.00           C  \\nATOM    338  OD1 ASP A  19      14.602  27.745  29.895  1.00  0.00           O  \\nATOM    339  OD2 ASP A  19      15.013  29.405  31.139  1.00  0.00           O  \\nATOM    340  H   ASP A  19      17.641  25.396  32.365  1.00  0.00           H  \\nATOM    341  HA  ASP A  19      15.061  25.731  31.094  1.00  0.00           H  \\nATOM    342 1HB  ASP A  19      16.037  27.465  32.595  1.00  0.00           H  \\nATOM    343 2HB  ASP A  19      17.228  27.823  31.332  1.00  0.00           H  \\nATOM    344  N   TYR A  20      15.518  25.761  28.716  1.00  0.00           N  \\nATOM    345  CA  TYR A  20      15.716  25.636  27.280  1.00  0.00           C  \\nATOM    346  C   TYR A  20      16.215  26.943  26.700  1.00  0.00           C  \\nATOM    347  O   TYR A  20      16.757  26.990  25.600  1.00  0.00           O  \\nATOM    348  CB  TYR A  20      14.451  25.168  26.591  1.00  0.00           C  \\nATOM    349  CG  TYR A  20      13.409  26.144  26.623  1.00  0.00           C  \\nATOM    350  CD1 TYR A  20      13.308  27.065  25.625  1.00  0.00           C  \\nATOM    351  CD2 TYR A  20      12.541  26.143  27.671  1.00  0.00           C  \\nATOM    352  CE1 TYR A  20      12.323  27.991  25.680  1.00  0.00           C  \\nATOM    353  CE2 TYR A  20      11.560  27.065  27.728  1.00  0.00           C  \\nATOM    354  CZ  TYR A  20      11.445  27.988  26.742  1.00  0.00           C  \\nATOM    355  OH  TYR A  20      10.443  28.919  26.803  1.00  0.00           O  \\nATOM    356  H   TYR A  20      14.587  25.778  29.116  1.00  0.00           H  \\nATOM    357  HA  TYR A  20      16.487  24.901  27.111  1.00  0.00           H  \\nATOM    358 1HB  TYR A  20      14.666  24.922  25.547  1.00  0.00           H  \\nATOM    359 2HB  TYR A  20      14.087  24.267  27.071  1.00  0.00           H  \\nATOM    360  HD1 TYR A  20      14.011  27.058  24.791  1.00  0.00           H  \\nATOM    361  HD2 TYR A  20      12.634  25.402  28.463  1.00  0.00           H  \\nATOM    362  HE1 TYR A  20      12.230  28.735  24.890  1.00  0.00           H  \\nATOM    363  HE2 TYR A  20      10.862  27.069  28.564  1.00  0.00           H  \\nATOM    364  HH  TYR A  20      10.509  29.512  26.050  1.00  0.00           H  \\nATOM    365  N   LYS A  21      16.025  28.017  27.440  1.00  0.00           N  \\nATOM    366  CA  LYS A  21      16.473  29.313  26.999  1.00  0.00           C  \\nATOM    367  C   LYS A  21      17.978  29.494  27.232  1.00  0.00           C  \\nATOM    368  O   LYS A  21      18.600  30.420  26.698  1.00  0.00           O  \\nATOM    369  CB  LYS A  21      15.729  30.418  27.720  1.00  0.00           C  \\nATOM    370  CG  LYS A  21      14.253  30.374  27.491  1.00  0.00           C  \\nATOM    371  CD  LYS A  21      13.532  31.656  27.918  1.00  0.00           C  \\nATOM    372  CE  LYS A  21      13.680  32.055  29.405  1.00  0.00           C  \\nATOM    373  NZ  LYS A  21      13.137  31.073  30.353  1.00  0.00           N  \\nATOM    374  H   LYS A  21      15.536  27.905  28.337  1.00  0.00           H  \\nATOM    375  HA  LYS A  21      16.287  29.399  25.928  1.00  0.00           H  \\nATOM    376 1HB  LYS A  21      15.917  30.329  28.788  1.00  0.00           H  \\nATOM    377 2HB  LYS A  21      16.103  31.387  27.394  1.00  0.00           H  \\nATOM    378 1HG  LYS A  21      14.075  30.211  26.432  1.00  0.00           H  \\nATOM    379 2HG  LYS A  21      13.838  29.528  28.040  1.00  0.00           H  \\nATOM    380 1HD  LYS A  21      13.896  32.480  27.306  1.00  0.00           H  \\nATOM    381 2HD  LYS A  21      12.470  31.527  27.712  1.00  0.00           H  \\nATOM    382 1HE  LYS A  21      14.727  32.229  29.640  1.00  0.00           H  \\nATOM    383 2HE  LYS A  21      13.133  32.987  29.536  1.00  0.00           H  \\nATOM    384 1HZ  LYS A  21      13.251  31.421  31.290  1.00  0.00           H  \\nATOM    385 2HZ  LYS A  21      12.165  30.897  30.177  1.00  0.00           H  \\nATOM    386 3HZ  LYS A  21      13.665  30.208  30.291  1.00  0.00           H  \\nATOM    387  N   ASP A  22      18.598  28.642  28.039  1.00  0.00           N  \\nATOM    388  CA  ASP A  22      20.006  28.825  28.322  1.00  0.00           C  \\nATOM    389  C   ASP A  22      20.831  28.158  27.264  1.00  0.00           C  \\nATOM    390  O   ASP A  22      21.244  27.001  27.390  1.00  0.00           O  \\nATOM    391  CB  ASP A  22      20.371  28.252  29.677  1.00  0.00           C  \\nATOM    392  CG  ASP A  22      21.838  28.497  30.059  1.00  0.00           C  \\nATOM    393  OD1 ASP A  22      22.654  28.853  29.199  1.00  0.00           O  \\nATOM    394  OD2 ASP A  22      22.155  28.278  31.212  1.00  0.00           O  \\nATOM    395  H   ASP A  22      18.113  27.835  28.435  1.00  0.00           H  \\nATOM    396  HA  ASP A  22      20.231  29.891  28.318  1.00  0.00           H  \\nATOM    397 1HB  ASP A  22      19.725  28.690  30.438  1.00  0.00           H  \\nATOM    398 2HB  ASP A  22      20.178  27.174  29.673  1.00  0.00           H  \\nATOM    399  N   LEU A  23      21.099  28.898  26.219  1.00  0.00           N  \\nATOM    400  CA  LEU A  23      21.773  28.293  25.106  1.00  0.00           C  \\nATOM    401  C   LEU A  23      23.224  28.036  25.320  1.00  0.00           C  \\nATOM    402  O   LEU A  23      23.784  27.158  24.674  1.00  0.00           O  \\nATOM    403  CB  LEU A  23      21.572  29.108  23.860  1.00  0.00           C  \\nATOM    404  CG  LEU A  23      20.380  28.685  23.044  1.00  0.00           C  \\nATOM    405  CD1 LEU A  23      19.096  28.769  23.879  1.00  0.00           C  \\nATOM    406  CD2 LEU A  23      20.316  29.553  21.802  1.00  0.00           C  \\nATOM    407  H   LEU A  23      20.718  29.847  26.188  1.00  0.00           H  \\nATOM    408  HA  LEU A  23      21.309  27.325  24.932  1.00  0.00           H  \\nATOM    409 1HB  LEU A  23      21.440  30.151  24.143  1.00  0.00           H  \\nATOM    410 2HB  LEU A  23      22.462  29.026  23.240  1.00  0.00           H  \\nATOM    411  HG  LEU A  23      20.502  27.653  22.748  1.00  0.00           H  \\nATOM    412 1HD1 LEU A  23      18.281  28.446  23.297  1.00  0.00           H  \\nATOM    413 2HD1 LEU A  23      19.136  28.125  24.745  1.00  0.00           H  \\nATOM    414 3HD1 LEU A  23      18.927  29.794  24.201  1.00  0.00           H  \\nATOM    415 1HD2 LEU A  23      19.493  29.255  21.173  1.00  0.00           H  \\nATOM    416 2HD2 LEU A  23      20.187  30.596  22.091  1.00  0.00           H  \\nATOM    417 3HD2 LEU A  23      21.238  29.444  21.239  1.00  0.00           H  \\nATOM    418  N   ASN A  24      23.876  28.747  26.209  1.00  0.00           N  \\nATOM    419  CA  ASN A  24      25.271  28.413  26.319  1.00  0.00           C  \\nATOM    420  C   ASN A  24      25.369  27.045  26.943  1.00  0.00           C  \\nATOM    421  O   ASN A  24      26.143  26.183  26.495  1.00  0.00           O  \\nATOM    422  CB  ASN A  24      25.975  29.432  27.150  1.00  0.00           C  \\nATOM    423  CG  ASN A  24      26.098  30.692  26.434  1.00  0.00           C  \\nATOM    424  OD1 ASN A  24      26.017  30.747  25.204  1.00  0.00           O  \\nATOM    425  ND2 ASN A  24      26.289  31.743  27.168  1.00  0.00           N  \\nATOM    426  H   ASN A  24      23.436  29.477  26.761  1.00  0.00           H  \\nATOM    427  HA  ASN A  24      25.717  28.366  25.325  1.00  0.00           H  \\nATOM    428 1HB  ASN A  24      25.416  29.596  28.076  1.00  0.00           H  \\nATOM    429 2HB  ASN A  24      26.965  29.069  27.419  1.00  0.00           H  \\nATOM    430 1HD2 ASN A  24      26.379  32.643  26.738  1.00  0.00           H  \\nATOM    431 2HD2 ASN A  24      26.344  31.658  28.163  1.00  0.00           H  \\nATOM    432  N   THR A  25      24.513  26.811  27.924  1.00  0.00           N  \\nATOM    433  CA  THR A  25      24.503  25.539  28.578  1.00  0.00           C  \\nATOM    434  C   THR A  25      24.083  24.456  27.631  1.00  0.00           C  \\nATOM    435  O   THR A  25      24.687  23.396  27.606  1.00  0.00           O  \\nATOM    436  CB  THR A  25      23.594  25.568  29.800  1.00  0.00           C  \\nATOM    437  OG1 THR A  25      24.120  26.517  30.734  1.00  0.00           O  \\nATOM    438  CG2 THR A  25      23.500  24.202  30.454  1.00  0.00           C  \\nATOM    439  H   THR A  25      23.888  27.560  28.273  1.00  0.00           H  \\nATOM    440  HA  THR A  25      25.515  25.319  28.914  1.00  0.00           H  \\nATOM    441  HB  THR A  25      22.602  25.885  29.489  1.00  0.00           H  \\nATOM    442  HG1 THR A  25      23.387  27.022  31.160  1.00  0.00           H  \\nATOM    443 1HG2 THR A  25      22.848  24.272  31.321  1.00  0.00           H  \\nATOM    444 2HG2 THR A  25      23.091  23.472  29.757  1.00  0.00           H  \\nATOM    445 3HG2 THR A  25      24.492  23.887  30.771  1.00  0.00           H  \\nATOM    446  N   LEU A  26      23.057  24.689  26.830  1.00  0.00           N  \\nATOM    447  CA  LEU A  26      22.639  23.611  25.962  1.00  0.00           C  \\nATOM    448  C   LEU A  26      23.686  23.297  24.928  1.00  0.00           C  \\nATOM    449  O   LEU A  26      23.952  22.133  24.640  1.00  0.00           O  \\nATOM    450  CB  LEU A  26      21.357  23.960  25.221  1.00  0.00           C  \\nATOM    451  CG  LEU A  26      20.074  24.120  26.050  1.00  0.00           C  \\nATOM    452  CD1 LEU A  26      18.979  24.578  25.112  1.00  0.00           C  \\nATOM    453  CD2 LEU A  26      19.690  22.833  26.753  1.00  0.00           C  \\nATOM    454  H   LEU A  26      22.546  25.576  26.878  1.00  0.00           H  \\nATOM    455  HA  LEU A  26      22.495  22.720  26.562  1.00  0.00           H  \\nATOM    456 1HB  LEU A  26      21.522  24.899  24.696  1.00  0.00           H  \\nATOM    457 2HB  LEU A  26      21.173  23.186  24.476  1.00  0.00           H  \\nATOM    458  HG  LEU A  26      20.220  24.890  26.797  1.00  0.00           H  \\nATOM    459 1HD1 LEU A  26      18.081  24.727  25.657  1.00  0.00           H  \\nATOM    460 2HD1 LEU A  26      19.263  25.517  24.638  1.00  0.00           H  \\nATOM    461 3HD1 LEU A  26      18.806  23.824  24.353  1.00  0.00           H  \\nATOM    462 1HD2 LEU A  26      18.778  23.007  27.315  1.00  0.00           H  \\nATOM    463 2HD2 LEU A  26      19.525  22.067  26.028  1.00  0.00           H  \\nATOM    464 3HD2 LEU A  26      20.468  22.522  27.439  1.00  0.00           H  \\nATOM    465  N   LYS A  27      24.352  24.307  24.393  1.00  0.00           N  \\nATOM    466  CA  LYS A  27      25.334  24.037  23.366  1.00  0.00           C  \\nATOM    467  C   LYS A  27      26.420  23.128  23.870  1.00  0.00           C  \\nATOM    468  O   LYS A  27      26.917  22.270  23.144  1.00  0.00           O  \\nATOM    469  CB  LYS A  27      25.894  25.322  22.809  1.00  0.00           C  \\nATOM    470  CG  LYS A  27      24.906  26.042  21.931  1.00  0.00           C  \\nATOM    471  CD  LYS A  27      25.458  27.333  21.428  1.00  0.00           C  \\nATOM    472  CE  LYS A  27      24.459  28.037  20.539  1.00  0.00           C  \\nATOM    473  NZ  LYS A  27      24.986  29.339  20.044  1.00  0.00           N  \\nATOM    474  H   LYS A  27      24.139  25.277  24.643  1.00  0.00           H  \\nATOM    475  HA  LYS A  27      24.831  23.520  22.550  1.00  0.00           H  \\nATOM    476 1HB  LYS A  27      26.162  25.987  23.637  1.00  0.00           H  \\nATOM    477 2HB  LYS A  27      26.795  25.117  22.235  1.00  0.00           H  \\nATOM    478 1HG  LYS A  27      24.681  25.407  21.074  1.00  0.00           H  \\nATOM    479 2HG  LYS A  27      23.979  26.218  22.462  1.00  0.00           H  \\nATOM    480 1HD  LYS A  27      25.690  27.977  22.281  1.00  0.00           H  \\nATOM    481 2HD  LYS A  27      26.374  27.150  20.868  1.00  0.00           H  \\nATOM    482 1HE  LYS A  27      24.227  27.401  19.687  1.00  0.00           H  \\nATOM    483 2HE  LYS A  27      23.545  28.216  21.105  1.00  0.00           H  \\nATOM    484 1HZ  LYS A  27      24.295  29.784  19.457  1.00  0.00           H  \\nATOM    485 2HZ  LYS A  27      25.193  29.939  20.834  1.00  0.00           H  \\nATOM    486 3HZ  LYS A  27      25.830  29.184  19.510  1.00  0.00           H  \\nATOM    487  N   ALA A  28      26.732  23.228  25.139  1.00  0.00           N  \\nATOM    488  CA  ALA A  28      27.757  22.410  25.734  1.00  0.00           C  \\nATOM    489  C   ALA A  28      27.486  20.912  25.589  1.00  0.00           C  \\nATOM    490  O   ALA A  28      28.405  20.103  25.716  1.00  0.00           O  \\nATOM    491  CB  ALA A  28      27.877  22.743  27.201  1.00  0.00           C  \\nATOM    492  H   ALA A  28      26.300  23.974  25.701  1.00  0.00           H  \\nATOM    493  HA  ALA A  28      28.696  22.636  25.231  1.00  0.00           H  \\nATOM    494 1HB  ALA A  28      28.674  22.153  27.644  1.00  0.00           H  \\nATOM    495 2HB  ALA A  28      28.095  23.805  27.313  1.00  0.00           H  \\nATOM    496 3HB  ALA A  28      26.947  22.515  27.695  1.00  0.00           H  \\nATOM    497  N   TYR A  29      26.231  20.526  25.417  1.00  0.00           N  \\nATOM    498  CA  TYR A  29      25.871  19.130  25.343  1.00  0.00           C  \\nATOM    499  C   TYR A  29      25.411  18.684  23.974  1.00  0.00           C  \\nATOM    500  O   TYR A  29      24.792  17.618  23.859  1.00  0.00           O  \\nATOM    501  CB  TYR A  29      24.792  18.875  26.356  1.00  0.00           C  \\nATOM    502  CG  TYR A  29      25.258  19.262  27.669  1.00  0.00           C  \\nATOM    503  CD1 TYR A  29      24.800  20.406  28.213  1.00  0.00           C  \\nATOM    504  CD2 TYR A  29      26.173  18.511  28.316  1.00  0.00           C  \\nATOM    505  CE1 TYR A  29      25.256  20.806  29.421  1.00  0.00           C  \\nATOM    506  CE2 TYR A  29      26.632  18.897  29.531  1.00  0.00           C  \\nATOM    507  CZ  TYR A  29      26.174  20.047  30.087  1.00  0.00           C  \\nATOM    508  OH  TYR A  29      26.634  20.454  31.318  1.00  0.00           O  \\nATOM    509  H   TYR A  29      25.497  21.224  25.276  1.00  0.00           H  \\nATOM    510  HA  TYR A  29      26.748  18.536  25.595  1.00  0.00           H  \\nATOM    511 1HB  TYR A  29      23.901  19.459  26.108  1.00  0.00           H  \\nATOM    512 2HB  TYR A  29      24.522  17.818  26.371  1.00  0.00           H  \\nATOM    513  HD1 TYR A  29      24.071  21.010  27.676  1.00  0.00           H  \\nATOM    514  HD2 TYR A  29      26.540  17.609  27.862  1.00  0.00           H  \\nATOM    515  HE1 TYR A  29      24.891  21.728  29.856  1.00  0.00           H  \\nATOM    516  HE2 TYR A  29      27.370  18.296  30.057  1.00  0.00           H  \\nATOM    517  HH  TYR A  29      26.211  21.287  31.557  1.00  0.00           H  \\nATOM    518  N   VAL A  30      25.617  19.514  22.964  1.00  0.00           N  \\nATOM    519  CA  VAL A  30      25.157  19.173  21.633  1.00  0.00           C  \\nATOM    520  C   VAL A  30      26.287  19.215  20.636  1.00  0.00           C  \\nATOM    521  O   VAL A  30      27.088  20.146  20.621  1.00  0.00           O  \\nATOM    522  CB  VAL A  30      24.013  20.098  21.211  1.00  0.00           C  \\nATOM    523  CG1 VAL A  30      23.533  19.758  19.815  1.00  0.00           C  \\nATOM    524  CG2 VAL A  30      22.884  19.938  22.170  1.00  0.00           C  \\nATOM    525  H   VAL A  30      26.124  20.397  23.116  1.00  0.00           H  \\nATOM    526  HA  VAL A  30      24.766  18.157  21.645  1.00  0.00           H  \\nATOM    527  HB  VAL A  30      24.361  21.132  21.213  1.00  0.00           H  \\nATOM    528 1HG1 VAL A  30      22.715  20.420  19.540  1.00  0.00           H  \\nATOM    529 2HG1 VAL A  30      24.323  19.882  19.109  1.00  0.00           H  \\nATOM    530 3HG1 VAL A  30      23.181  18.726  19.789  1.00  0.00           H  \\nATOM    531 1HG2 VAL A  30      22.062  20.589  21.881  1.00  0.00           H  \\nATOM    532 2HG2 VAL A  30      22.560  18.901  22.147  1.00  0.00           H  \\nATOM    533 3HG2 VAL A  30      23.202  20.197  23.174  1.00  0.00           H  \\nATOM    534  N   SER A  31      26.346  18.194  19.809  1.00  0.00           N  \\nATOM    535  CA  SER A  31      27.343  18.063  18.777  1.00  0.00           C  \\nATOM    536  C   SER A  31      27.114  19.066  17.682  1.00  0.00           C  \\nATOM    537  O   SER A  31      26.016  19.578  17.485  1.00  0.00           O  \\nATOM    538  CB  SER A  31      27.338  16.673  18.206  1.00  0.00           C  \\nATOM    539  OG  SER A  31      27.759  15.739  19.155  1.00  0.00           O  \\nATOM    540  H   SER A  31      25.637  17.461  19.878  1.00  0.00           H  \\nATOM    541  HA  SER A  31      28.324  18.254  19.214  1.00  0.00           H  \\nATOM    542 1HB  SER A  31      26.334  16.440  17.882  1.00  0.00           H  \\nATOM    543 2HB  SER A  31      27.986  16.629  17.329  1.00  0.00           H  \\nATOM    544  HG  SER A  31      27.636  14.878  18.750  1.00  0.00           H  \\nATOM    545  N   GLU A  32      28.139  19.297  16.902  1.00  0.00           N  \\nATOM    546  CA  GLU A  32      28.127  20.231  15.784  1.00  0.00           C  \\nATOM    547  C   GLU A  32      27.169  19.800  14.683  1.00  0.00           C  \\nATOM    548  O   GLU A  32      26.847  20.569  13.782  1.00  0.00           O  \\nATOM    549  CB  GLU A  32      29.541  20.347  15.233  1.00  0.00           C  \\nATOM    550  CG  GLU A  32      30.038  19.085  14.549  1.00  0.00           C  \\nATOM    551  CD  GLU A  32      30.514  18.032  15.512  1.00  0.00           C  \\nATOM    552  OE1 GLU A  32      30.483  18.268  16.704  1.00  0.00           O  \\nATOM    553  OE2 GLU A  32      30.878  16.984  15.065  1.00  0.00           O  \\nATOM    554  H   GLU A  32      29.018  18.825  17.120  1.00  0.00           H  \\nATOM    555  HA  GLU A  32      27.809  21.206  16.156  1.00  0.00           H  \\nATOM    556 1HB  GLU A  32      29.583  21.158  14.508  1.00  0.00           H  \\nATOM    557 2HB  GLU A  32      30.231  20.593  16.040  1.00  0.00           H  \\nATOM    558 1HG  GLU A  32      29.289  18.674  13.893  1.00  0.00           H  \\nATOM    559 2HG  GLU A  32      30.880  19.371  13.922  1.00  0.00           H  \\nATOM    560  N   THR A  33      26.732  18.560  14.766  1.00  0.00           N  \\nATOM    561  CA  THR A  33      25.822  17.929  13.850  1.00  0.00           C  \\nATOM    562  C   THR A  33      24.382  18.085  14.289  1.00  0.00           C  \\nATOM    563  O   THR A  33      23.468  17.646  13.592  1.00  0.00           O  \\nATOM    564  CB  THR A  33      26.079  16.437  13.825  1.00  0.00           C  \\nATOM    565  OG1 THR A  33      25.763  15.905  15.128  1.00  0.00           O  \\nATOM    566  CG2 THR A  33      27.534  16.178  13.534  1.00  0.00           C  \\nATOM    567  H   THR A  33      27.075  18.008  15.535  1.00  0.00           H  \\nATOM    568  HA  THR A  33      25.949  18.368  12.863  1.00  0.00           H  \\nATOM    569  HB  THR A  33      25.450  15.967  13.070  1.00  0.00           H  \\nATOM    570  HG1 THR A  33      25.764  14.937  15.066  1.00  0.00           H  \\nATOM    571 1HG2 THR A  33      27.716  15.105  13.528  1.00  0.00           H  \\nATOM    572 2HG2 THR A  33      27.788  16.594  12.560  1.00  0.00           H  \\nATOM    573 3HG2 THR A  33      28.157  16.633  14.292  1.00  0.00           H  \\nATOM    574  N   GLY A  34      24.186  18.615  15.494  1.00  0.00           N  \\nATOM    575  CA  GLY A  34      22.874  18.760  16.096  1.00  0.00           C  \\nATOM    576  C   GLY A  34      22.539  17.598  17.025  1.00  0.00           C  \\nATOM    577  O   GLY A  34      21.537  17.635  17.746  1.00  0.00           O  \\nATOM    578  H   GLY A  34      24.981  18.974  16.023  1.00  0.00           H  \\nATOM    579 1HA  GLY A  34      22.846  19.694  16.656  1.00  0.00           H  \\nATOM    580 2HA  GLY A  34      22.118  18.835  15.313  1.00  0.00           H  \\nATOM    581  N   LYS A  35      23.369  16.569  17.026  1.00  0.00           N  \\nATOM    582  CA  LYS A  35      23.128  15.408  17.855  1.00  0.00           C  \\nATOM    583  C   LYS A  35      23.288  15.653  19.351  1.00  0.00           C  \\nATOM    584  O   LYS A  35      24.249  16.272  19.805  1.00  0.00           O  \\nATOM    585  CB  LYS A  35      24.047  14.276  17.412  1.00  0.00           C  \\nATOM    586  CG  LYS A  35      23.924  12.987  18.188  1.00  0.00           C  \\nATOM    587  CD  LYS A  35      22.638  12.252  17.884  1.00  0.00           C  \\nATOM    588  CE  LYS A  35      22.500  10.987  18.724  1.00  0.00           C  \\nATOM    589  NZ  LYS A  35      22.061  11.260  20.149  1.00  0.00           N  \\nATOM    590  H   LYS A  35      24.174  16.588  16.400  1.00  0.00           H  \\nATOM    591  HA  LYS A  35      22.097  15.102  17.685  1.00  0.00           H  \\nATOM    592 1HB  LYS A  35      23.856  14.052  16.363  1.00  0.00           H  \\nATOM    593 2HB  LYS A  35      25.075  14.594  17.488  1.00  0.00           H  \\nATOM    594 1HG  LYS A  35      24.749  12.342  17.887  1.00  0.00           H  \\nATOM    595 2HG  LYS A  35      24.023  13.159  19.249  1.00  0.00           H  \\nATOM    596 1HD  LYS A  35      21.781  12.880  18.090  1.00  0.00           H  \\nATOM    597 2HD  LYS A  35      22.618  11.977  16.830  1.00  0.00           H  \\nATOM    598 1HE  LYS A  35      21.770  10.335  18.252  1.00  0.00           H  \\nATOM    599 2HE  LYS A  35      23.463  10.478  18.750  1.00  0.00           H  \\nATOM    600 1HZ  LYS A  35      21.987  10.381  20.635  1.00  0.00           H  \\nATOM    601 2HZ  LYS A  35      22.725  11.863  20.676  1.00  0.00           H  \\nATOM    602 3HZ  LYS A  35      21.162  11.705  20.145  1.00  0.00           H  \\nATOM    603  N   ILE A  36      22.367  15.114  20.139  1.00  0.00           N  \\nATOM    604  CA  ILE A  36      22.487  15.217  21.582  1.00  0.00           C  \\nATOM    605  C   ILE A  36      23.550  14.251  22.082  1.00  0.00           C  \\nATOM    606  O   ILE A  36      23.516  13.054  21.770  1.00  0.00           O  \\nATOM    607  CB  ILE A  36      21.148  14.914  22.257  1.00  0.00           C  \\nATOM    608  CG1 ILE A  36      20.149  15.955  21.800  1.00  0.00           C  \\nATOM    609  CG2 ILE A  36      21.306  14.924  23.779  1.00  0.00           C  \\nATOM    610  CD1 ILE A  36      18.704  15.702  22.190  1.00  0.00           C  \\nATOM    611  H   ILE A  36      21.563  14.658  19.733  1.00  0.00           H  \\nATOM    612  HA  ILE A  36      22.797  16.231  21.843  1.00  0.00           H  \\nATOM    613  HB  ILE A  36      20.787  13.941  21.937  1.00  0.00           H  \\nATOM    614 1HG1 ILE A  36      20.456  16.894  22.185  1.00  0.00           H  \\nATOM    615 2HG1 ILE A  36      20.187  16.014  20.723  1.00  0.00           H  \\nATOM    616 1HG2 ILE A  36      20.361  14.714  24.263  1.00  0.00           H  \\nATOM    617 2HG2 ILE A  36      22.023  14.165  24.093  1.00  0.00           H  \\nATOM    618 3HG2 ILE A  36      21.663  15.905  24.102  1.00  0.00           H  \\nATOM    619 1HD1 ILE A  36      18.081  16.508  21.798  1.00  0.00           H  \\nATOM    620 2HD1 ILE A  36      18.371  14.755  21.771  1.00  0.00           H  \\nATOM    621 3HD1 ILE A  36      18.596  15.674  23.265  1.00  0.00           H  \\nATOM    622  N   VAL A  37      24.479  14.765  22.876  1.00  0.00           N  \\nATOM    623  CA  VAL A  37      25.580  13.989  23.411  1.00  0.00           C  \\nATOM    624  C   VAL A  37      25.106  13.131  24.602  1.00  0.00           C  \\nATOM    625  O   VAL A  37      24.448  13.672  25.496  1.00  0.00           O  \\nATOM    626  CB  VAL A  37      26.680  14.949  23.858  1.00  0.00           C  \\nATOM    627  CG1 VAL A  37      27.841  14.202  24.466  1.00  0.00           C  \\nATOM    628  CG2 VAL A  37      27.122  15.783  22.670  1.00  0.00           C  \\nATOM    629  H   VAL A  37      24.438  15.763  23.110  1.00  0.00           H  \\nATOM    630  HA  VAL A  37      25.958  13.387  22.595  1.00  0.00           H  \\nATOM    631  HB  VAL A  37      26.273  15.602  24.634  1.00  0.00           H  \\nATOM    632 1HG1 VAL A  37      28.593  14.915  24.800  1.00  0.00           H  \\nATOM    633 2HG1 VAL A  37      27.515  13.611  25.296  1.00  0.00           H  \\nATOM    634 3HG1 VAL A  37      28.284  13.551  23.725  1.00  0.00           H  \\nATOM    635 1HG2 VAL A  37      27.884  16.495  22.983  1.00  0.00           H  \\nATOM    636 2HG2 VAL A  37      27.529  15.132  21.899  1.00  0.00           H  \\nATOM    637 3HG2 VAL A  37      26.283  16.325  22.257  1.00  0.00           H  \\nATOM    638  N   PRO A  38      25.397  11.814  24.632  1.00  0.00           N  \\nATOM    639  CA  PRO A  38      25.025  10.860  25.664  1.00  0.00           C  \\nATOM    640  C   PRO A  38      25.757  11.065  26.977  1.00  0.00           C  \\nATOM    641  O   PRO A  38      26.898  11.543  26.992  1.00  0.00           O  \\nATOM    642  CB  PRO A  38      25.398   9.527  25.032  1.00  0.00           C  \\nATOM    643  CG  PRO A  38      26.490   9.851  24.078  1.00  0.00           C  \\nATOM    644  CD  PRO A  38      26.157  11.206  23.539  1.00  0.00           C  \\nATOM    645  HA  PRO A  38      23.936  10.920  25.823  1.00  0.00           H  \\nATOM    646 1HB  PRO A  38      25.710   8.817  25.809  1.00  0.00           H  \\nATOM    647 2HB  PRO A  38      24.518   9.090  24.537  1.00  0.00           H  \\nATOM    648 1HG  PRO A  38      27.455   9.837  24.593  1.00  0.00           H  \\nATOM    649 2HG  PRO A  38      26.542   9.087  23.288  1.00  0.00           H  \\nATOM    650 1HD  PRO A  38      27.099  11.707  23.356  1.00  0.00           H  \\nATOM    651 2HD  PRO A  38      25.534  11.124  22.631  1.00  0.00           H  \\nATOM    652  N   SER A  39      25.139  10.584  28.050  1.00  0.00           N  \\nATOM    653  CA  SER A  39      25.644  10.691  29.411  1.00  0.00           C  \\nATOM    654  C   SER A  39      26.967  10.013  29.673  1.00  0.00           C  \\nATOM    655  O   SER A  39      27.762  10.477  30.494  1.00  0.00           O  \\nATOM    656  CB  SER A  39      24.646  10.069  30.333  1.00  0.00           C  \\nATOM    657  OG  SER A  39      24.550   8.698  30.072  1.00  0.00           O  \\nATOM    658  H   SER A  39      24.225  10.167  27.942  1.00  0.00           H  \\nATOM    659  HA  SER A  39      25.735  11.749  29.648  1.00  0.00           H  \\nATOM    660 1HB  SER A  39      24.958  10.230  31.365  1.00  0.00           H  \\nATOM    661 2HB  SER A  39      23.678  10.539  30.211  1.00  0.00           H  \\nATOM    662  HG  SER A  39      23.956   8.346  30.744  1.00  0.00           H  \\nATOM    663  N   ARG A  40      27.320   9.006  28.888  1.00  0.00           N  \\nATOM    664  CA  ARG A  40      28.599   8.350  29.114  1.00  0.00           C  \\nATOM    665  C   ARG A  40      29.746   9.294  28.791  1.00  0.00           C  \\nATOM    666  O   ARG A  40      30.909   9.001  29.068  1.00  0.00           O  \\nATOM    667  CB  ARG A  40      28.759   7.094  28.296  1.00  0.00           C  \\nATOM    668  CG  ARG A  40      28.958   7.304  26.838  1.00  0.00           C  \\nATOM    669  CD  ARG A  40      29.241   6.051  26.159  1.00  0.00           C  \\nATOM    670  NE  ARG A  40      28.114   5.159  26.210  1.00  0.00           N  \\nATOM    671  CZ  ARG A  40      27.109   5.127  25.316  1.00  0.00           C  \\nATOM    672  NH1 ARG A  40      27.094   5.955  24.293  1.00  0.00           N  \\nATOM    673  NH2 ARG A  40      26.130   4.257  25.473  1.00  0.00           N  \\nATOM    674  H   ARG A  40      26.663   8.632  28.217  1.00  0.00           H  \\nATOM    675  HA  ARG A  40      28.662   8.077  30.166  1.00  0.00           H  \\nATOM    676 1HB  ARG A  40      29.612   6.530  28.668  1.00  0.00           H  \\nATOM    677 2HB  ARG A  40      27.874   6.474  28.426  1.00  0.00           H  \\nATOM    678 1HG  ARG A  40      28.085   7.779  26.397  1.00  0.00           H  \\nATOM    679 2HG  ARG A  40      29.823   7.915  26.683  1.00  0.00           H  \\nATOM    680 1HD  ARG A  40      29.506   6.237  25.123  1.00  0.00           H  \\nATOM    681 2HD  ARG A  40      30.080   5.564  26.657  1.00  0.00           H  \\nATOM    682  HE  ARG A  40      28.079   4.496  26.976  1.00  0.00           H  \\nATOM    683 1HH1 ARG A  40      27.842   6.617  24.163  1.00  0.00           H  \\nATOM    684 2HH1 ARG A  40      26.335   5.921  23.626  1.00  0.00           H  \\nATOM    685 1HH2 ARG A  40      26.139   3.619  26.258  1.00  0.00           H  \\nATOM    686 2HH2 ARG A  40      25.370   4.222  24.809  1.00  0.00           H  \\nATOM    687  N   ILE A  41      29.449  10.376  28.105  1.00  0.00           N  \\nATOM    688  CA  ILE A  41      30.443  11.347  27.793  1.00  0.00           C  \\nATOM    689  C   ILE A  41      30.290  12.547  28.699  1.00  0.00           C  \\nATOM    690  O   ILE A  41      31.271  13.046  29.262  1.00  0.00           O  \\nATOM    691  CB  ILE A  41      30.319  11.801  26.347  1.00  0.00           C  \\nATOM    692  CG1 ILE A  41      30.407  10.590  25.406  1.00  0.00           C  \\nATOM    693  CG2 ILE A  41      31.357  12.859  26.027  1.00  0.00           C  \\nATOM    694  CD1 ILE A  41      31.672   9.752  25.495  1.00  0.00           C  \\nATOM    695  H   ILE A  41      28.479  10.575  27.857  1.00  0.00           H  \\nATOM    696  HA  ILE A  41      31.431  10.932  27.971  1.00  0.00           H  \\nATOM    697  HB  ILE A  41      29.328  12.227  26.201  1.00  0.00           H  \\nATOM    698 1HG1 ILE A  41      29.561   9.956  25.608  1.00  0.00           H  \\nATOM    699 2HG1 ILE A  41      30.320  10.955  24.384  1.00  0.00           H  \\nATOM    700 1HG2 ILE A  41      31.232  13.181  24.994  1.00  0.00           H  \\nATOM    701 2HG2 ILE A  41      31.233  13.720  26.678  1.00  0.00           H  \\nATOM    702 3HG2 ILE A  41      32.358  12.459  26.163  1.00  0.00           H  \\nATOM    703 1HD1 ILE A  41      31.603   8.935  24.778  1.00  0.00           H  \\nATOM    704 2HD1 ILE A  41      32.543  10.354  25.259  1.00  0.00           H  \\nATOM    705 3HD1 ILE A  41      31.790   9.330  26.488  1.00  0.00           H  \\nATOM    706  N   THR A  42      29.055  13.026  28.832  1.00  0.00           N  \\nATOM    707  CA  THR A  42      28.869  14.282  29.527  1.00  0.00           C  \\nATOM    708  C   THR A  42      28.890  14.174  31.018  1.00  0.00           C  \\nATOM    709  O   THR A  42      29.101  15.184  31.681  1.00  0.00           O  \\nATOM    710  CB  THR A  42      27.507  14.914  29.248  1.00  0.00           C  \\nATOM    711  OG1 THR A  42      26.480  14.118  29.854  1.00  0.00           O  \\nATOM    712  CG2 THR A  42      27.255  14.944  27.777  1.00  0.00           C  \\nATOM    713  H   THR A  42      28.267  12.561  28.376  1.00  0.00           H  \\nATOM    714  HA  THR A  42      29.660  14.963  29.221  1.00  0.00           H  \\nATOM    715  HB  THR A  42      27.481  15.919  29.657  1.00  0.00           H  \\nATOM    716  HG1 THR A  42      25.637  14.627  29.826  1.00  0.00           H  \\nATOM    717 1HG2 THR A  42      26.274  15.374  27.574  1.00  0.00           H  \\nATOM    718 2HG2 THR A  42      28.024  15.535  27.281  1.00  0.00           H  \\nATOM    719 3HG2 THR A  42      27.272  13.944  27.413  1.00  0.00           H  \\nATOM    720  N   GLY A  43      28.656  12.999  31.583  1.00  0.00           N  \\nATOM    721  CA  GLY A  43      28.686  12.920  33.027  1.00  0.00           C  \\nATOM    722  C   GLY A  43      27.360  13.184  33.674  1.00  0.00           C  \\nATOM    723  O   GLY A  43      27.175  12.982  34.877  1.00  0.00           O  \\nATOM    724  H   GLY A  43      28.431  12.162  31.041  1.00  0.00           H  \\nATOM    725 1HA  GLY A  43      29.103  11.985  33.368  1.00  0.00           H  \\nATOM    726 2HA  GLY A  43      29.348  13.695  33.350  1.00  0.00           H  \\nATOM    727  N   THR A  44      26.410  13.548  32.869  1.00  0.00           N  \\nATOM    728  CA  THR A  44      25.117  13.909  33.342  1.00  0.00           C  \\nATOM    729  C   THR A  44      24.402  12.757  34.040  1.00  0.00           C  \\nATOM    730  O   THR A  44      24.333  11.639  33.524  1.00  0.00           O  \\nATOM    731  CB  THR A  44      24.322  14.397  32.144  1.00  0.00           C  \\nATOM    732  OG1 THR A  44      25.036  15.463  31.500  1.00  0.00           O  \\nATOM    733  CG2 THR A  44      23.061  14.920  32.580  1.00  0.00           C  \\nATOM    734  H   THR A  44      26.622  13.641  31.881  1.00  0.00           H  \\nATOM    735  HA  THR A  44      25.231  14.727  34.047  1.00  0.00           H  \\nATOM    736  HB  THR A  44      24.172  13.586  31.452  1.00  0.00           H  \\nATOM    737  HG1 THR A  44      25.758  15.093  30.987  1.00  0.00           H  \\nATOM    738 1HG2 THR A  44      22.518  15.280  31.727  1.00  0.00           H  \\nATOM    739 2HG2 THR A  44      22.511  14.156  33.052  1.00  0.00           H  \\nATOM    740 3HG2 THR A  44      23.234  15.726  33.265  1.00  0.00           H  \\nATOM    741  N   LYS A  45      23.849  13.025  35.211  1.00  0.00           N  \\nATOM    742  CA  LYS A  45      23.088  12.010  35.911  1.00  0.00           C  \\nATOM    743  C   LYS A  45      21.792  11.843  35.174  1.00  0.00           C  \\nATOM    744  O   LYS A  45      21.317  12.788  34.550  1.00  0.00           O  \\nATOM    745  CB  LYS A  45      22.898  12.357  37.362  1.00  0.00           C  \\nATOM    746  CG  LYS A  45      24.177  12.307  38.109  1.00  0.00           C  \\nATOM    747  CD  LYS A  45      23.994  12.670  39.551  1.00  0.00           C  \\nATOM    748  CE  LYS A  45      25.327  12.715  40.286  1.00  0.00           C  \\nATOM    749  NZ  LYS A  45      25.976  11.365  40.376  1.00  0.00           N  \\nATOM    750  H   LYS A  45      23.961  13.948  35.599  1.00  0.00           H  \\nATOM    751  HA  LYS A  45      23.627  11.063  35.858  1.00  0.00           H  \\nATOM    752 1HB  LYS A  45      22.486  13.350  37.457  1.00  0.00           H  \\nATOM    753 2HB  LYS A  45      22.198  11.661  37.821  1.00  0.00           H  \\nATOM    754 1HG  LYS A  45      24.562  11.293  38.044  1.00  0.00           H  \\nATOM    755 2HG  LYS A  45      24.889  12.955  37.655  1.00  0.00           H  \\nATOM    756 1HD  LYS A  45      23.520  13.650  39.623  1.00  0.00           H  \\nATOM    757 2HD  LYS A  45      23.349  11.938  40.036  1.00  0.00           H  \\nATOM    758 1HE  LYS A  45      25.996  13.395  39.764  1.00  0.00           H  \\nATOM    759 2HE  LYS A  45      25.157  13.095  41.294  1.00  0.00           H  \\nATOM    760 1HZ  LYS A  45      26.852  11.446  40.875  1.00  0.00           H  \\nATOM    761 2HZ  LYS A  45      25.366  10.730  40.873  1.00  0.00           H  \\nATOM    762 3HZ  LYS A  45      26.154  11.005  39.450  1.00  0.00           H  \\nATOM    763  N   ALA A  46      21.190  10.678  35.274  1.00  0.00           N  \\nATOM    764  CA  ALA A  46      20.020  10.391  34.471  1.00  0.00           C  \\nATOM    765  C   ALA A  46      18.904  11.386  34.602  1.00  0.00           C  \\nATOM    766  O   ALA A  46      18.229  11.674  33.614  1.00  0.00           O  \\nATOM    767  CB  ALA A  46      19.481   9.039  34.834  1.00  0.00           C  \\nATOM    768  H   ALA A  46      21.597   9.951  35.848  1.00  0.00           H  \\nATOM    769  HA  ALA A  46      20.337  10.378  33.428  1.00  0.00           H  \\nATOM    770 1HB  ALA A  46      18.636   8.805  34.192  1.00  0.00           H  \\nATOM    771 2HB  ALA A  46      20.258   8.289  34.697  1.00  0.00           H  \\nATOM    772 3HB  ALA A  46      19.158   9.041  35.873  1.00  0.00           H  \\nATOM    773  N   LYS A  47      18.679  11.954  35.768  1.00  0.00           N  \\nATOM    774  CA  LYS A  47      17.559  12.859  35.773  1.00  0.00           C  \\nATOM    775  C   LYS A  47      17.862  14.105  34.970  1.00  0.00           C  \\nATOM    776  O   LYS A  47      16.954  14.728  34.423  1.00  0.00           O  \\nATOM    777  CB  LYS A  47      17.176  13.254  37.177  1.00  0.00           C  \\nATOM    778  CG  LYS A  47      18.179  14.148  37.860  1.00  0.00           C  \\nATOM    779  CD  LYS A  47      17.855  14.336  39.320  1.00  0.00           C  \\nATOM    780  CE  LYS A  47      16.622  15.212  39.519  1.00  0.00           C  \\nATOM    781  NZ  LYS A  47      16.403  15.530  40.951  1.00  0.00           N  \\nATOM    782  H   LYS A  47      19.230  11.743  36.586  1.00  0.00           H  \\nATOM    783  HA  LYS A  47      16.711  12.367  35.304  1.00  0.00           H  \\nATOM    784 1HB  LYS A  47      16.222  13.770  37.136  1.00  0.00           H  \\nATOM    785 2HB  LYS A  47      17.044  12.358  37.781  1.00  0.00           H  \\nATOM    786 1HG  LYS A  47      19.182  13.733  37.768  1.00  0.00           H  \\nATOM    787 2HG  LYS A  47      18.167  15.134  37.392  1.00  0.00           H  \\nATOM    788 1HD  LYS A  47      17.685  13.366  39.788  1.00  0.00           H  \\nATOM    789 2HD  LYS A  47      18.705  14.813  39.811  1.00  0.00           H  \\nATOM    790 1HE  LYS A  47      16.750  16.143  38.962  1.00  0.00           H  \\nATOM    791 2HE  LYS A  47      15.741  14.696  39.151  1.00  0.00           H  \\nATOM    792 1HZ  LYS A  47      15.582  16.110  41.046  1.00  0.00           H  \\nATOM    793 2HZ  LYS A  47      16.271  14.675  41.473  1.00  0.00           H  \\nATOM    794 3HZ  LYS A  47      17.207  16.025  41.311  1.00  0.00           H  \\nATOM    795  N   TYR A  48      19.126  14.456  34.844  1.00  0.00           N  \\nATOM    796  CA  TYR A  48      19.447  15.651  34.136  1.00  0.00           C  \\nATOM    797  C   TYR A  48      19.550  15.361  32.687  1.00  0.00           C  \\nATOM    798  O   TYR A  48      19.281  16.228  31.867  1.00  0.00           O  \\nATOM    799  CB  TYR A  48      20.706  16.255  34.670  1.00  0.00           C  \\nATOM    800  CG  TYR A  48      20.524  16.842  35.971  1.00  0.00           C  \\nATOM    801  CD1 TYR A  48      21.037  16.231  37.061  1.00  0.00           C  \\nATOM    802  CD2 TYR A  48      19.835  18.016  36.093  1.00  0.00           C  \\nATOM    803  CE1 TYR A  48      20.877  16.798  38.289  1.00  0.00           C  \\nATOM    804  CE2 TYR A  48      19.668  18.594  37.306  1.00  0.00           C  \\nATOM    805  CZ  TYR A  48      20.189  17.993  38.410  1.00  0.00           C  \\nATOM    806  OH  TYR A  48      20.050  18.580  39.650  1.00  0.00           O  \\nATOM    807  H   TYR A  48      19.879  13.902  35.241  1.00  0.00           H  \\nATOM    808  HA  TYR A  48      18.641  16.366  34.281  1.00  0.00           H  \\nATOM    809 1HB  TYR A  48      21.456  15.485  34.767  1.00  0.00           H  \\nATOM    810 2HB  TYR A  48      21.071  17.013  33.986  1.00  0.00           H  \\nATOM    811  HD1 TYR A  48      21.576  15.303  36.958  1.00  0.00           H  \\nATOM    812  HD2 TYR A  48      19.422  18.498  35.224  1.00  0.00           H  \\nATOM    813  HE1 TYR A  48      21.294  16.316  39.171  1.00  0.00           H  \\nATOM    814  HE2 TYR A  48      19.123  19.537  37.398  1.00  0.00           H  \\nATOM    815  HH  TYR A  48      19.713  19.506  39.557  1.00  0.00           H  \\nATOM    816  N   GLN A  49      19.924  14.139  32.353  1.00  0.00           N  \\nATOM    817  CA  GLN A  49      20.054  13.801  30.960  1.00  0.00           C  \\nATOM    818  C   GLN A  49      18.678  13.879  30.374  1.00  0.00           C  \\nATOM    819  O   GLN A  49      18.480  14.357  29.257  1.00  0.00           O  \\nATOM    820  CB  GLN A  49      20.604  12.396  30.800  1.00  0.00           C  \\nATOM    821  CG  GLN A  49      20.946  11.939  29.363  1.00  0.00           C  \\nATOM    822  CD  GLN A  49      22.130  12.661  28.700  1.00  0.00           C  \\nATOM    823  OE1 GLN A  49      23.092  12.998  29.372  1.00  0.00           O  \\nATOM    824  NE2 GLN A  49      22.080  12.838  27.380  1.00  0.00           N  \\nATOM    825  H   GLN A  49      20.185  13.484  33.095  1.00  0.00           H  \\nATOM    826  HA  GLN A  49      20.701  14.516  30.464  1.00  0.00           H  \\nATOM    827 1HB  GLN A  49      21.507  12.299  31.409  1.00  0.00           H  \\nATOM    828 2HB  GLN A  49      19.879  11.690  31.203  1.00  0.00           H  \\nATOM    829 1HG  GLN A  49      21.178  10.877  29.393  1.00  0.00           H  \\nATOM    830 2HG  GLN A  49      20.068  12.104  28.736  1.00  0.00           H  \\nATOM    831 1HE2 GLN A  49      22.875  13.270  26.869  1.00  0.00           H  \\nATOM    832 2HE2 GLN A  49      21.281  12.532  26.860  1.00  0.00           H  \\nATOM    833  N   ARG A  50      17.695  13.444  31.147  1.00  0.00           N  \\nATOM    834  CA  ARG A  50      16.346  13.508  30.659  1.00  0.00           C  \\nATOM    835  C   ARG A  50      15.889  14.942  30.531  1.00  0.00           C  \\nATOM    836  O   ARG A  50      15.274  15.323  29.524  1.00  0.00           O  \\nATOM    837  CB  ARG A  50      15.410  12.758  31.573  1.00  0.00           C  \\nATOM    838  CG  ARG A  50      15.558  11.256  31.517  1.00  0.00           C  \\nATOM    839  CD  ARG A  50      14.425  10.559  32.173  1.00  0.00           C  \\nATOM    840  NE  ARG A  50      14.360  10.778  33.608  1.00  0.00           N  \\nATOM    841  CZ  ARG A  50      14.976  10.028  34.541  1.00  0.00           C  \\nATOM    842  NH1 ARG A  50      15.722   9.005  34.203  1.00  0.00           N  \\nATOM    843  NH2 ARG A  50      14.812  10.322  35.815  1.00  0.00           N  \\nATOM    844  H   ARG A  50      17.912  13.028  32.058  1.00  0.00           H  \\nATOM    845  HA  ARG A  50      16.315  13.044  29.675  1.00  0.00           H  \\nATOM    846 1HB  ARG A  50      15.599  13.065  32.604  1.00  0.00           H  \\nATOM    847 2HB  ARG A  50      14.380  13.013  31.336  1.00  0.00           H  \\nATOM    848 1HG  ARG A  50      15.595  10.941  30.476  1.00  0.00           H  \\nATOM    849 2HG  ARG A  50      16.477  10.963  32.010  1.00  0.00           H  \\nATOM    850 1HD  ARG A  50      13.495  10.928  31.739  1.00  0.00           H  \\nATOM    851 2HD  ARG A  50      14.494   9.491  31.983  1.00  0.00           H  \\nATOM    852  HE  ARG A  50      13.787  11.546  33.933  1.00  0.00           H  \\nATOM    853 1HH1 ARG A  50      15.854   8.767  33.234  1.00  0.00           H  \\nATOM    854 2HH1 ARG A  50      16.148   8.437  34.923  1.00  0.00           H  \\nATOM    855 1HH2 ARG A  50      14.230  11.105  36.082  1.00  0.00           H  \\nATOM    856 2HH2 ARG A  50      15.261   9.762  36.527  1.00  0.00           H  \\nATOM    857  N   GLN A  51      16.225  15.767  31.508  1.00  0.00           N  \\nATOM    858  CA  GLN A  51      15.796  17.133  31.423  1.00  0.00           C  \\nATOM    859  C   GLN A  51      16.436  17.872  30.281  1.00  0.00           C  \\nATOM    860  O   GLN A  51      15.758  18.650  29.602  1.00  0.00           O  \\nATOM    861  CB  GLN A  51      16.131  17.862  32.693  1.00  0.00           C  \\nATOM    862  CG  GLN A  51      15.340  17.476  33.864  1.00  0.00           C  \\nATOM    863  CD  GLN A  51      15.876  18.151  35.071  1.00  0.00           C  \\nATOM    864  OE1 GLN A  51      16.897  18.833  34.974  1.00  0.00           O  \\nATOM    865  NE2 GLN A  51      15.216  17.991  36.199  1.00  0.00           N  \\nATOM    866  H   GLN A  51      16.709  15.429  32.346  1.00  0.00           H  \\nATOM    867  HA  GLN A  51      14.717  17.144  31.275  1.00  0.00           H  \\nATOM    868 1HB  GLN A  51      17.160  17.658  32.937  1.00  0.00           H  \\nATOM    869 2HB  GLN A  51      16.033  18.935  32.539  1.00  0.00           H  \\nATOM    870 1HG  GLN A  51      14.315  17.810  33.716  1.00  0.00           H  \\nATOM    871 2HG  GLN A  51      15.357  16.412  34.003  1.00  0.00           H  \\nATOM    872 1HE2 GLN A  51      15.535  18.441  37.042  1.00  0.00           H  \\nATOM    873 2HE2 GLN A  51      14.386  17.431  36.220  1.00  0.00           H  \\nATOM    874  N   LEU A  52      17.714  17.632  30.022  1.00  0.00           N  \\nATOM    875  CA  LEU A  52      18.300  18.389  28.955  1.00  0.00           C  \\nATOM    876  C   LEU A  52      17.789  17.888  27.655  1.00  0.00           C  \\nATOM    877  O   LEU A  52      17.538  18.679  26.753  1.00  0.00           O  \\nATOM    878  CB  LEU A  52      19.831  18.380  29.024  1.00  0.00           C  \\nATOM    879  CG  LEU A  52      20.596  17.109  28.733  1.00  0.00           C  \\nATOM    880  CD1 LEU A  52      20.913  16.948  27.250  1.00  0.00           C  \\nATOM    881  CD2 LEU A  52      21.886  17.157  29.548  1.00  0.00           C  \\nATOM    882  H   LEU A  52      18.262  16.999  30.602  1.00  0.00           H  \\nATOM    883  HA  LEU A  52      17.990  19.424  29.066  1.00  0.00           H  \\nATOM    884 1HB  LEU A  52      20.203  19.149  28.352  1.00  0.00           H  \\nATOM    885 2HB  LEU A  52      20.106  18.650  30.009  1.00  0.00           H  \\nATOM    886  HG  LEU A  52      20.011  16.265  29.039  1.00  0.00           H  \\nATOM    887 1HD1 LEU A  52      21.474  16.023  27.107  1.00  0.00           H  \\nATOM    888 2HD1 LEU A  52      20.032  16.898  26.652  1.00  0.00           H  \\nATOM    889 3HD1 LEU A  52      21.518  17.787  26.920  1.00  0.00           H  \\nATOM    890 1HD2 LEU A  52      22.459  16.239  29.384  1.00  0.00           H  \\nATOM    891 2HD2 LEU A  52      22.487  18.015  29.244  1.00  0.00           H  \\nATOM    892 3HD2 LEU A  52      21.638  17.245  30.608  1.00  0.00           H  \\nATOM    893  N   ALA A  53      17.495  16.605  27.536  1.00  0.00           N  \\nATOM    894  CA  ALA A  53      16.998  16.192  26.256  1.00  0.00           C  \\nATOM    895  C   ALA A  53      15.719  16.932  25.955  1.00  0.00           C  \\nATOM    896  O   ALA A  53      15.508  17.394  24.831  1.00  0.00           O  \\nATOM    897  CB  ALA A  53      16.771  14.709  26.237  1.00  0.00           C  \\nATOM    898  H   ALA A  53      17.706  15.919  28.272  1.00  0.00           H  \\nATOM    899  HA  ALA A  53      17.734  16.457  25.498  1.00  0.00           H  \\nATOM    900 1HB  ALA A  53      16.405  14.406  25.260  1.00  0.00           H  \\nATOM    901 2HB  ALA A  53      17.712  14.200  26.453  1.00  0.00           H  \\nATOM    902 3HB  ALA A  53      16.037  14.449  27.003  1.00  0.00           H  \\nATOM    903  N   THR A  54      14.888  17.118  26.969  1.00  0.00           N  \\nATOM    904  CA  THR A  54      13.665  17.840  26.738  1.00  0.00           C  \\nATOM    905  C   THR A  54      13.941  19.264  26.352  1.00  0.00           C  \\nATOM    906  O   THR A  54      13.332  19.790  25.418  1.00  0.00           O  \\nATOM    907  CB  THR A  54      12.772  17.841  27.974  1.00  0.00           C  \\nATOM    908  OG1 THR A  54      12.396  16.502  28.291  1.00  0.00           O  \\nATOM    909  CG2 THR A  54      11.529  18.673  27.698  1.00  0.00           C  \\nATOM    910  H   THR A  54      15.086  16.687  27.878  1.00  0.00           H  \\nATOM    911  HA  THR A  54      13.131  17.359  25.921  1.00  0.00           H  \\nATOM    912  HB  THR A  54      13.312  18.264  28.820  1.00  0.00           H  \\nATOM    913  HG1 THR A  54      13.173  16.015  28.605  1.00  0.00           H  \\nATOM    914 1HG2 THR A  54      10.892  18.663  28.579  1.00  0.00           H  \\nATOM    915 2HG2 THR A  54      11.799  19.698  27.472  1.00  0.00           H  \\nATOM    916 3HG2 THR A  54      10.987  18.249  26.853  1.00  0.00           H  \\nATOM    917  N   ALA A  55      14.842  19.909  27.069  1.00  0.00           N  \\nATOM    918  CA  ALA A  55      15.130  21.294  26.799  1.00  0.00           C  \\nATOM    919  C   ALA A  55      15.641  21.482  25.386  1.00  0.00           C  \\nATOM    920  O   ALA A  55      15.262  22.433  24.697  1.00  0.00           O  \\nATOM    921  CB  ALA A  55      16.140  21.793  27.799  1.00  0.00           C  \\nATOM    922  H   ALA A  55      15.295  19.430  27.857  1.00  0.00           H  \\nATOM    923  HA  ALA A  55      14.205  21.858  26.906  1.00  0.00           H  \\nATOM    924 1HB  ALA A  55      16.348  22.816  27.634  1.00  0.00           H  \\nATOM    925 2HB  ALA A  55      15.752  21.665  28.813  1.00  0.00           H  \\nATOM    926 3HB  ALA A  55      17.055  21.220  27.690  1.00  0.00           H  \\nATOM    927  N   ILE A  56      16.438  20.546  24.916  1.00  0.00           N  \\nATOM    928  CA  ILE A  56      16.955  20.652  23.583  1.00  0.00           C  \\nATOM    929  C   ILE A  56      15.855  20.509  22.600  1.00  0.00           C  \\nATOM    930  O   ILE A  56      15.778  21.272  21.643  1.00  0.00           O  \\nATOM    931  CB  ILE A  56      18.019  19.619  23.304  1.00  0.00           C  \\nATOM    932  CG1 ILE A  56      19.187  19.953  24.170  1.00  0.00           C  \\nATOM    933  CG2 ILE A  56      18.376  19.622  21.789  1.00  0.00           C  \\nATOM    934  CD1 ILE A  56      20.198  18.918  24.258  1.00  0.00           C  \\nATOM    935  H   ILE A  56      16.730  19.786  25.538  1.00  0.00           H  \\nATOM    936  HA  ILE A  56      17.398  21.640  23.464  1.00  0.00           H  \\nATOM    937  HB  ILE A  56      17.659  18.629  23.603  1.00  0.00           H  \\nATOM    938 1HG1 ILE A  56      19.653  20.867  23.802  1.00  0.00           H  \\nATOM    939 2HG1 ILE A  56      18.827  20.126  25.170  1.00  0.00           H  \\nATOM    940 1HG2 ILE A  56      19.147  18.895  21.577  1.00  0.00           H  \\nATOM    941 2HG2 ILE A  56      17.505  19.371  21.193  1.00  0.00           H  \\nATOM    942 3HG2 ILE A  56      18.731  20.609  21.500  1.00  0.00           H  \\nATOM    943 1HD1 ILE A  56      20.994  19.246  24.925  1.00  0.00           H  \\nATOM    944 2HD1 ILE A  56      19.747  18.009  24.645  1.00  0.00           H  \\nATOM    945 3HD1 ILE A  56      20.604  18.734  23.304  1.00  0.00           H  \\nATOM    946  N   LYS A  57      15.002  19.533  22.802  1.00  0.00           N  \\nATOM    947  CA  LYS A  57      13.929  19.351  21.872  1.00  0.00           C  \\nATOM    948  C   LYS A  57      13.070  20.586  21.790  1.00  0.00           C  \\nATOM    949  O   LYS A  57      12.650  20.972  20.694  1.00  0.00           O  \\nATOM    950  CB  LYS A  57      13.113  18.148  22.269  1.00  0.00           C  \\nATOM    951  CG  LYS A  57      13.839  16.854  22.040  1.00  0.00           C  \\nATOM    952  CD  LYS A  57      13.031  15.681  22.511  1.00  0.00           C  \\nATOM    953  CE  LYS A  57      13.786  14.392  22.318  1.00  0.00           C  \\nATOM    954  NZ  LYS A  57      13.012  13.224  22.801  1.00  0.00           N  \\nATOM    955  H   LYS A  57      15.134  18.897  23.595  1.00  0.00           H  \\nATOM    956  HA  LYS A  57      14.352  19.171  20.890  1.00  0.00           H  \\nATOM    957 1HB  LYS A  57      12.864  18.214  23.329  1.00  0.00           H  \\nATOM    958 2HB  LYS A  57      12.181  18.132  21.707  1.00  0.00           H  \\nATOM    959 1HG  LYS A  57      14.034  16.745  20.974  1.00  0.00           H  \\nATOM    960 2HG  LYS A  57      14.793  16.869  22.553  1.00  0.00           H  \\nATOM    961 1HD  LYS A  57      12.808  15.804  23.574  1.00  0.00           H  \\nATOM    962 2HD  LYS A  57      12.093  15.634  21.961  1.00  0.00           H  \\nATOM    963 1HE  LYS A  57      14.003  14.260  21.259  1.00  0.00           H  \\nATOM    964 2HE  LYS A  57      14.727  14.446  22.869  1.00  0.00           H  \\nATOM    965 1HZ  LYS A  57      13.549  12.379  22.657  1.00  0.00           H  \\nATOM    966 2HZ  LYS A  57      12.817  13.334  23.787  1.00  0.00           H  \\nATOM    967 3HZ  LYS A  57      12.142  13.158  22.291  1.00  0.00           H  \\nATOM    968  N   ARG A  58      12.827  21.238  22.917  1.00  0.00           N  \\nATOM    969  CA  ARG A  58      12.026  22.436  22.870  1.00  0.00           C  \\nATOM    970  C   ARG A  58      12.747  23.521  22.092  1.00  0.00           C  \\nATOM    971  O   ARG A  58      12.156  24.206  21.256  1.00  0.00           O  \\nATOM    972  CB  ARG A  58      11.745  22.919  24.267  1.00  0.00           C  \\nATOM    973  CG  ARG A  58      10.805  22.048  25.033  1.00  0.00           C  \\nATOM    974  CD  ARG A  58      10.577  22.572  26.385  1.00  0.00           C  \\nATOM    975  NE  ARG A  58       9.740  21.689  27.182  1.00  0.00           N  \\nATOM    976  CZ  ARG A  58       8.397  21.632  27.123  1.00  0.00           C  \\nATOM    977  NH1 ARG A  58       7.737  22.397  26.287  1.00  0.00           N  \\nATOM    978  NH2 ARG A  58       7.730  20.805  27.909  1.00  0.00           N  \\nATOM    979  H   ARG A  58      13.160  20.850  23.807  1.00  0.00           H  \\nATOM    980  HA  ARG A  58      11.084  22.207  22.375  1.00  0.00           H  \\nATOM    981 1HB  ARG A  58      12.677  22.966  24.826  1.00  0.00           H  \\nATOM    982 2HB  ARG A  58      11.332  23.927  24.234  1.00  0.00           H  \\nATOM    983 1HG  ARG A  58       9.860  21.996  24.502  1.00  0.00           H  \\nATOM    984 2HG  ARG A  58      11.216  21.049  25.119  1.00  0.00           H  \\nATOM    985 1HD  ARG A  58      11.543  22.659  26.888  1.00  0.00           H  \\nATOM    986 2HD  ARG A  58      10.114  23.556  26.340  1.00  0.00           H  \\nATOM    987  HE  ARG A  58      10.204  21.081  27.845  1.00  0.00           H  \\nATOM    988 1HH1 ARG A  58       8.228  23.035  25.682  1.00  0.00           H  \\nATOM    989 2HH1 ARG A  58       6.728  22.351  26.248  1.00  0.00           H  \\nATOM    990 1HH2 ARG A  58       8.212  20.215  28.574  1.00  0.00           H  \\nATOM    991 2HH2 ARG A  58       6.722  20.768  27.860  1.00  0.00           H  \\nATOM    992  N   ALA A  59      14.035  23.664  22.324  1.00  0.00           N  \\nATOM    993  CA  ALA A  59      14.771  24.671  21.614  1.00  0.00           C  \\nATOM    994  C   ALA A  59      14.788  24.369  20.119  1.00  0.00           C  \\nATOM    995  O   ALA A  59      14.787  25.278  19.279  1.00  0.00           O  \\nATOM    996  CB  ALA A  59      16.150  24.764  22.176  1.00  0.00           C  \\nATOM    997  H   ALA A  59      14.496  23.104  23.050  1.00  0.00           H  \\nATOM    998  HA  ALA A  59      14.268  25.625  21.760  1.00  0.00           H  \\nATOM    999 1HB  ALA A  59      16.688  25.537  21.669  1.00  0.00           H  \\nATOM   1000 2HB  ALA A  59      16.095  24.998  23.243  1.00  0.00           H  \\nATOM   1001 3HB  ALA A  59      16.631  23.817  22.045  1.00  0.00           H  \\nATOM   1002  N   ARG A  60      14.826  23.104  19.749  1.00  0.00           N  \\nATOM   1003  CA  ARG A  60      14.804  22.809  18.338  1.00  0.00           C  \\nATOM   1004  C   ARG A  60      13.471  23.196  17.738  1.00  0.00           C  \\nATOM   1005  O   ARG A  60      13.397  23.811  16.677  1.00  0.00           O  \\nATOM   1006  CB  ARG A  60      15.035  21.360  18.100  1.00  0.00           C  \\nATOM   1007  CG  ARG A  60      16.389  20.870  18.329  1.00  0.00           C  \\nATOM   1008  CD  ARG A  60      16.356  19.438  18.220  1.00  0.00           C  \\nATOM   1009  NE  ARG A  60      17.624  18.821  18.246  1.00  0.00           N  \\nATOM   1010  CZ  ARG A  60      17.790  17.504  18.396  1.00  0.00           C  \\nATOM   1011  NH1 ARG A  60      16.741  16.727  18.574  1.00  0.00           N  \\nATOM   1012  NH2 ARG A  60      18.988  16.968  18.362  1.00  0.00           N  \\nATOM   1013  H   ARG A  60      14.909  22.369  20.456  1.00  0.00           H  \\nATOM   1014  HA  ARG A  60      15.592  23.369  17.852  1.00  0.00           H  \\nATOM   1015 1HB  ARG A  60      14.353  20.775  18.709  1.00  0.00           H  \\nATOM   1016 2HB  ARG A  60      14.819  21.156  17.084  1.00  0.00           H  \\nATOM   1017 1HG  ARG A  60      17.055  21.273  17.569  1.00  0.00           H  \\nATOM   1018 2HG  ARG A  60      16.741  21.155  19.315  1.00  0.00           H  \\nATOM   1019 1HD  ARG A  60      15.784  19.064  19.059  1.00  0.00           H  \\nATOM   1020 2HD  ARG A  60      15.875  19.163  17.313  1.00  0.00           H  \\nATOM   1021  HE  ARG A  60      18.450  19.398  18.102  1.00  0.00           H  \\nATOM   1022 1HH1 ARG A  60      15.813  17.120  18.601  1.00  0.00           H  \\nATOM   1023 2HH1 ARG A  60      16.864  15.731  18.681  1.00  0.00           H  \\nATOM   1024 1HH2 ARG A  60      19.829  17.538  18.201  1.00  0.00           H  \\nATOM   1025 2HH2 ARG A  60      19.099  15.979  18.465  1.00  0.00           H  \\nATOM   1026  N   TYR A  61      12.401  22.927  18.460  1.00  0.00           N  \\nATOM   1027  CA  TYR A  61      11.064  23.260  18.002  1.00  0.00           C  \\nATOM   1028  C   TYR A  61      10.932  24.711  17.660  1.00  0.00           C  \\nATOM   1029  O   TYR A  61      10.382  25.089  16.626  1.00  0.00           O  \\nATOM   1030  CB  TYR A  61      10.025  22.906  19.029  1.00  0.00           C  \\nATOM   1031  CG  TYR A  61       8.711  23.361  18.620  1.00  0.00           C  \\nATOM   1032  CD1 TYR A  61       8.021  22.675  17.672  1.00  0.00           C  \\nATOM   1033  CD2 TYR A  61       8.188  24.477  19.191  1.00  0.00           C  \\nATOM   1034  CE1 TYR A  61       6.797  23.107  17.289  1.00  0.00           C  \\nATOM   1035  CE2 TYR A  61       6.970  24.914  18.815  1.00  0.00           C  \\nATOM   1036  CZ  TYR A  61       6.271  24.232  17.866  1.00  0.00           C  \\nATOM   1037  OH  TYR A  61       5.034  24.671  17.486  1.00  0.00           O  \\nATOM   1038  H   TYR A  61      12.510  22.391  19.327  1.00  0.00           H  \\nATOM   1039  HA  TYR A  61      10.857  22.692  17.105  1.00  0.00           H  \\nATOM   1040 1HB  TYR A  61       9.998  21.825  19.174  1.00  0.00           H  \\nATOM   1041 2HB  TYR A  61      10.262  23.361  19.978  1.00  0.00           H  \\nATOM   1042  HD1 TYR A  61       8.450  21.781  17.220  1.00  0.00           H  \\nATOM   1043  HD2 TYR A  61       8.748  25.017  19.948  1.00  0.00           H  \\nATOM   1044  HE1 TYR A  61       6.238  22.563  16.530  1.00  0.00           H  \\nATOM   1045  HE2 TYR A  61       6.546  25.808  19.270  1.00  0.00           H  \\nATOM   1046  HH  TYR A  61       4.678  24.084  16.815  1.00  0.00           H  \\nATOM   1047  N   LEU A  62      11.471  25.525  18.527  1.00  0.00           N  \\nATOM   1048  CA  LEU A  62      11.403  26.956  18.430  1.00  0.00           C  \\nATOM   1049  C   LEU A  62      12.397  27.528  17.459  1.00  0.00           C  \\nATOM   1050  O   LEU A  62      12.493  28.745  17.324  1.00  0.00           O  \\nATOM   1051  CB  LEU A  62      11.722  27.538  19.784  1.00  0.00           C  \\nATOM   1052  CG  LEU A  62      10.767  27.214  20.890  1.00  0.00           C  \\nATOM   1053  CD1 LEU A  62      11.365  27.709  22.183  1.00  0.00           C  \\nATOM   1054  CD2 LEU A  62       9.421  27.858  20.634  1.00  0.00           C  \\nATOM   1055  H   LEU A  62      11.887  25.101  19.366  1.00  0.00           H  \\nATOM   1056  HA  LEU A  62      10.411  27.232  18.090  1.00  0.00           H  \\nATOM   1057 1HB  LEU A  62      12.701  27.157  20.081  1.00  0.00           H  \\nATOM   1058 2HB  LEU A  62      11.789  28.620  19.695  1.00  0.00           H  \\nATOM   1059  HG  LEU A  62      10.638  26.141  20.965  1.00  0.00           H  \\nATOM   1060 1HD1 LEU A  62      10.694  27.469  23.008  1.00  0.00           H  \\nATOM   1061 2HD1 LEU A  62      12.326  27.219  22.349  1.00  0.00           H  \\nATOM   1062 3HD1 LEU A  62      11.510  28.786  22.134  1.00  0.00           H  \\nATOM   1063 1HD2 LEU A  62       8.751  27.616  21.459  1.00  0.00           H  \\nATOM   1064 2HD2 LEU A  62       9.540  28.940  20.569  1.00  0.00           H  \\nATOM   1065 3HD2 LEU A  62       8.984  27.491  19.716  1.00  0.00           H  \\nATOM   1066  N   ALA A  63      13.189  26.674  16.825  1.00  0.00           N  \\nATOM   1067  CA  ALA A  63      14.228  27.081  15.908  1.00  0.00           C  \\nATOM   1068  C   ALA A  63      15.189  27.990  16.609  1.00  0.00           C  \\nATOM   1069  O   ALA A  63      15.682  28.969  16.052  1.00  0.00           O  \\nATOM   1070  CB  ALA A  63      13.644  27.761  14.688  1.00  0.00           C  \\nATOM   1071  H   ALA A  63      13.079  25.667  16.956  1.00  0.00           H  \\nATOM   1072  HA  ALA A  63      14.772  26.185  15.599  1.00  0.00           H  \\nATOM   1073 1HB  ALA A  63      14.452  28.032  14.012  1.00  0.00           H  \\nATOM   1074 2HB  ALA A  63      12.964  27.073  14.189  1.00  0.00           H  \\nATOM   1075 3HB  ALA A  63      13.104  28.657  14.973  1.00  0.00           H  \\nATOM   1076  N   LEU A  64      15.464  27.639  17.843  1.00  0.00           N  \\nATOM   1077  CA  LEU A  64      16.386  28.330  18.669  1.00  0.00           C  \\nATOM   1078  C   LEU A  64      17.700  27.603  18.429  1.00  0.00           C  \\nATOM   1079  O   LEU A  64      18.758  28.217  18.318  1.00  0.00           O  \\nATOM   1080  CB  LEU A  64      15.801  28.285  20.069  1.00  0.00           C  \\nATOM   1081  CG  LEU A  64      16.473  28.944  21.158  1.00  0.00           C  \\nATOM   1082  CD1 LEU A  64      16.625  30.416  20.886  1.00  0.00           C  \\nATOM   1083  CD2 LEU A  64      15.613  28.723  22.438  1.00  0.00           C  \\nATOM   1084  H   LEU A  64      15.028  26.807  18.240  1.00  0.00           H  \\nATOM   1085  HA  LEU A  64      16.471  29.356  18.323  1.00  0.00           H  \\nATOM   1086 1HB  LEU A  64      14.792  28.693  20.014  1.00  0.00           H  \\nATOM   1087 2HB  LEU A  64      15.717  27.260  20.348  1.00  0.00           H  \\nATOM   1088  HG  LEU A  64      17.439  28.511  21.286  1.00  0.00           H  \\nATOM   1089 1HD1 LEU A  64      17.123  30.883  21.738  1.00  0.00           H  \\nATOM   1090 2HD1 LEU A  64      17.228  30.581  19.999  1.00  0.00           H  \\nATOM   1091 3HD1 LEU A  64      15.643  30.867  20.748  1.00  0.00           H  \\nATOM   1092 1HD2 LEU A  64      16.086  29.201  23.296  1.00  0.00           H  \\nATOM   1093 2HD2 LEU A  64      14.623  29.156  22.292  1.00  0.00           H  \\nATOM   1094 3HD2 LEU A  64      15.512  27.662  22.639  1.00  0.00           H  \\nATOM   1095  N   LEU A  65      17.588  26.283  18.283  1.00  0.00           N  \\nATOM   1096  CA  LEU A  65      18.695  25.406  17.936  1.00  0.00           C  \\nATOM   1097  C   LEU A  65      18.315  24.659  16.659  1.00  0.00           C  \\nATOM   1098  O   LEU A  65      17.138  24.440  16.418  1.00  0.00           O  \\nATOM   1099  CB  LEU A  65      18.981  24.372  19.018  1.00  0.00           C  \\nATOM   1100  CG  LEU A  65      19.391  24.852  20.378  1.00  0.00           C  \\nATOM   1101  CD1 LEU A  65      19.495  23.624  21.279  1.00  0.00           C  \\nATOM   1102  CD2 LEU A  65      20.710  25.585  20.330  1.00  0.00           C  \\nATOM   1103  H   LEU A  65      16.667  25.876  18.437  1.00  0.00           H  \\nATOM   1104  HA  LEU A  65      19.568  26.021  17.757  1.00  0.00           H  \\nATOM   1105 1HB  LEU A  65      18.060  23.804  19.164  1.00  0.00           H  \\nATOM   1106 2HB  LEU A  65      19.729  23.670  18.671  1.00  0.00           H  \\nATOM   1107  HG  LEU A  65      18.649  25.518  20.767  1.00  0.00           H  \\nATOM   1108 1HD1 LEU A  65      19.778  23.934  22.274  1.00  0.00           H  \\nATOM   1109 2HD1 LEU A  65      18.550  23.101  21.316  1.00  0.00           H  \\nATOM   1110 3HD1 LEU A  65      20.253  22.948  20.885  1.00  0.00           H  \\nATOM   1111 1HD2 LEU A  65      20.984  25.897  21.332  1.00  0.00           H  \\nATOM   1112 2HD2 LEU A  65      21.484  24.926  19.938  1.00  0.00           H  \\nATOM   1113 3HD2 LEU A  65      20.629  26.467  19.696  1.00  0.00           H  \\nATOM   1114  N   PRO A  66      19.258  24.270  15.811  1.00  0.00           N  \\nATOM   1115  CA  PRO A  66      19.049  23.451  14.634  1.00  0.00           C  \\nATOM   1116  C   PRO A  66      18.765  22.026  15.031  1.00  0.00           C  \\nATOM   1117  O   PRO A  66      19.145  21.616  16.127  1.00  0.00           O  \\nATOM   1118  CB  PRO A  66      20.374  23.568  13.914  1.00  0.00           C  \\nATOM   1119  CG  PRO A  66      21.364  23.817  15.005  1.00  0.00           C  \\nATOM   1120  CD  PRO A  66      20.639  24.672  16.013  1.00  0.00           C  \\nATOM   1121  HA  PRO A  66      18.225  23.863  14.032  1.00  0.00           H  \\nATOM   1122 1HB  PRO A  66      20.575  22.638  13.368  1.00  0.00           H  \\nATOM   1123 2HB  PRO A  66      20.333  24.372  13.168  1.00  0.00           H  \\nATOM   1124 1HG  PRO A  66      21.695  22.853  15.431  1.00  0.00           H  \\nATOM   1125 2HG  PRO A  66      22.262  24.302  14.594  1.00  0.00           H  \\nATOM   1126 1HD  PRO A  66      21.011  24.412  17.004  1.00  0.00           H  \\nATOM   1127 2HD  PRO A  66      20.774  25.741  15.779  1.00  0.00           H  \\nATOM   1128  N   TYR A  67      18.149  21.257  14.142  1.00  0.00           N  \\nATOM   1129  CA  TYR A  67      17.923  19.844  14.411  1.00  0.00           C  \\nATOM   1130  C   TYR A  67      19.015  19.059  13.768  1.00  0.00           C  \\nATOM   1131  O   TYR A  67      19.439  18.018  14.262  1.00  0.00           O  \\nATOM   1132  CB  TYR A  67      16.648  19.340  13.765  1.00  0.00           C  \\nATOM   1133  CG  TYR A  67      15.397  19.855  14.243  1.00  0.00           C  \\nATOM   1134  CD1 TYR A  67      14.996  21.100  13.898  1.00  0.00           C  \\nATOM   1135  CD2 TYR A  67      14.583  19.051  14.962  1.00  0.00           C  \\nATOM   1136  CE1 TYR A  67      13.789  21.552  14.299  1.00  0.00           C  \\nATOM   1137  CE2 TYR A  67      13.367  19.499  15.359  1.00  0.00           C  \\nATOM   1138  CZ  TYR A  67      12.975  20.746  15.027  1.00  0.00           C  \\nATOM   1139  OH  TYR A  67      11.759  21.201  15.404  1.00  0.00           O  \\nATOM   1140  H   TYR A  67      17.884  21.625  13.227  1.00  0.00           H  \\nATOM   1141  HA  TYR A  67      17.933  19.660  15.482  1.00  0.00           H  \\nATOM   1142 1HB  TYR A  67      16.699  19.520  12.725  1.00  0.00           H  \\nATOM   1143 2HB  TYR A  67      16.620  18.259  13.880  1.00  0.00           H  \\nATOM   1144  HD1 TYR A  67      15.635  21.745  13.303  1.00  0.00           H  \\nATOM   1145  HD2 TYR A  67      14.900  18.040  15.219  1.00  0.00           H  \\nATOM   1146  HE1 TYR A  67      13.466  22.558  14.029  1.00  0.00           H  \\nATOM   1147  HE2 TYR A  67      12.706  18.854  15.938  1.00  0.00           H  \\nATOM   1148  HH  TYR A  67      11.661  22.117  15.105  1.00  0.00           H  \\nATOM   1149  N   THR A  68      19.444  19.560  12.635  1.00  0.00           N  \\nATOM   1150  CA  THR A  68      20.419  18.909  11.798  1.00  0.00           C  \\nATOM   1151  C   THR A  68      21.575  19.819  11.517  1.00  0.00           C  \\nATOM   1152  O   THR A  68      21.592  20.970  11.947  1.00  0.00           O  \\nATOM   1153  CB  THR A  68      19.756  18.385  10.514  1.00  0.00           C  \\nATOM   1154  OG1 THR A  68      19.206  19.462   9.755  1.00  0.00           O  \\nATOM   1155  CG2 THR A  68      18.639  17.454  10.881  1.00  0.00           C  \\nATOM   1156  H   THR A  68      19.022  20.421  12.282  1.00  0.00           H  \\nATOM   1157  HA  THR A  68      20.818  18.047  12.335  1.00  0.00           H  \\nATOM   1158  HB  THR A  68      20.490  17.853   9.909  1.00  0.00           H  \\nATOM   1159  HG1 THR A  68      19.843  19.834   9.112  1.00  0.00           H  \\nATOM   1160 1HG2 THR A  68      18.177  17.079   9.971  1.00  0.00           H  \\nATOM   1161 2HG2 THR A  68      19.037  16.622  11.460  1.00  0.00           H  \\nATOM   1162 3HG2 THR A  68      17.897  17.969  11.459  1.00  0.00           H  \\nATOM   1163  N   ASP A  69      22.580  19.296  10.842  1.00  0.00           N  \\nATOM   1164  CA  ASP A  69      23.768  20.060  10.536  1.00  0.00           C  \\nATOM   1165  C   ASP A  69      23.449  21.176   9.570  1.00  0.00           C  \\nATOM   1166  O   ASP A  69      24.002  22.273   9.651  1.00  0.00           O  \\nATOM   1167  CB  ASP A  69      24.773  19.110   9.931  1.00  0.00           C  \\nATOM   1168  CG  ASP A  69      24.155  18.406   8.745  1.00  0.00           C  \\nATOM   1169  OD1 ASP A  69      22.923  18.274   8.744  1.00  0.00           O  \\nATOM   1170  OD2 ASP A  69      24.864  17.993   7.872  1.00  0.00           O  \\nATOM   1171  H   ASP A  69      22.509  18.347  10.476  1.00  0.00           H  \\nATOM   1172  HA  ASP A  69      24.165  20.485  11.460  1.00  0.00           H  \\nATOM   1173 1HB  ASP A  69      25.658  19.659   9.611  1.00  0.00           H  \\nATOM   1174 2HB  ASP A  69      25.076  18.370  10.668  1.00  0.00           H  \\nATOM   1175  N   SER A  70      22.495  20.922   8.712  1.00  0.00           N  \\nATOM   1176  CA  SER A  70      22.041  21.932   7.789  1.00  0.00           C  \\nATOM   1177  C   SER A  70      20.577  21.751   7.531  1.00  0.00           C  \\nATOM   1178  O   SER A  70      20.046  20.643   7.620  1.00  0.00           O  \\nATOM   1179  CB  SER A  70      22.806  21.869   6.484  1.00  0.00           C  \\nATOM   1180  OG  SER A  70      22.521  20.699   5.775  1.00  0.00           O  \\nATOM   1181  H   SER A  70      22.164  19.955   8.679  1.00  0.00           H  \\nATOM   1182  HA  SER A  70      22.187  22.914   8.238  1.00  0.00           H  \\nATOM   1183 1HB  SER A  70      22.556  22.737   5.874  1.00  0.00           H  \\nATOM   1184 2HB  SER A  70      23.874  21.914   6.697  1.00  0.00           H  \\nATOM   1185  HG  SER A  70      23.152  20.664   5.057  1.00  0.00           H  \\nATOM   1186  N   HIS A  71      19.944  22.847   7.182  1.00  0.00           N  \\nATOM   1187  CA  HIS A  71      18.547  22.894   6.840  1.00  0.00           C  \\nATOM   1188  C   HIS A  71      18.386  23.660   5.555  1.00  0.00           C  \\nATOM   1189  O   HIS A  71      18.858  23.195   4.520  1.00  0.00           O  \\nATOM   1190  OXT HIS A  71      18.207  24.872   5.640  1.00  0.00           O  \\nATOM   1191  CB  HIS A  71      17.730  23.545   7.962  1.00  0.00           C  \\nATOM   1192  CG  HIS A  71      17.641  22.746   9.225  1.00  0.00           C  \\nATOM   1193  ND1 HIS A  71      16.666  21.821   9.394  1.00  0.00           N  \\nATOM   1194  CD2 HIS A  71      18.392  22.725  10.369  1.00  0.00           C  \\nATOM   1195  CE1 HIS A  71      16.780  21.256  10.570  1.00  0.00           C  \\nATOM   1196  NE2 HIS A  71      17.833  21.772  11.219  1.00  0.00           N  \\nATOM   1197  H   HIS A  71      20.472  23.706   7.143  1.00  0.00           H  \\nATOM   1198  HA  HIS A  71      18.166  21.886   6.682  1.00  0.00           H  \\nATOM   1199 1HB  HIS A  71      18.164  24.514   8.207  1.00  0.00           H  \\nATOM   1200 2HB  HIS A  71      16.717  23.727   7.608  1.00  0.00           H  \\nATOM   1201  HD1 HIS A  71      16.122  21.428   8.650  1.00  0.00           H  \\nATOM   1202  HD2 HIS A  71      19.275  23.284  10.684  1.00  0.00           H  \\nATOM   1203  HE1 HIS A  71      16.063  20.490  10.845  1.00  0.00           H  \\nTER                                                                             \\n# All scores below are weighted scores, not raw scores.\\n#BEGIN_POSE_ENERGIES_TABLE S_singletgt_0001.pdb\\nlabel fa_atr fa_rep fa_sol fa_intra_atr_xover4 fa_intra_rep_xover4 fa_intra_sol_xover4 lk_ball lk_ball_iso lk_ball_bridge lk_ball_bridge_uncpl fa_elec fa_intra_elec pro_close hbond_sr_bb hbond_lr_bb hbond_bb_sc hbond_sc dslf_fa13 omega fa_dun_dev fa_dun_rot fa_dun_semi p_aa_pp hxl_tors ref rama_prepro gen_bonded total\\nweights 1 0.55 1 1 0.55 1 0.92 -0.38 -0.33 -0.33 1 1 1.25 1 1 1 1 1.25 0.48 0.69 0.76 0.78 0.61 1 1 0.5 1 NA\\npose -398.994 47.0175 302.741 -29.3248 10.6717 19.0463 143 -165.267 -0.56933 -4.09949 -116.887 -16.3708 0.75349 -39.223 -5.86865 -17.5419 -1.55221 0 1.14498 7.13224 49.1497 49.7992 -16.5462 18.3473 -14.6482 0.6566 0 -177.433\\nPHE:NtermProteinFull_1 -4.12364 0.54155 2.23238 -1.02609 0.12261 0.3327 1.29513 -1.46545 -0.04676 -0.17384 -1.0891 0.77029 0 0 0 -0.6761 0 0 0.07676 0.29487 0 2.46903 0 0 1.0402 0 0 0.57457\\nPHE_2 -9.72143 2.37324 2.61648 -0.57044 0.03462 0.20989 1.01493 -2.43407 -0.0493 -0.25266 0.01505 0.12692 0 0 0 0 0 0 0.10902 0.34621 0 2.35612 -0.10191 0 1.0402 -0.24049 0 -3.12763\\nARG_3 -2.65506 0.3711 3.29297 -0.65084 0.16062 0.45683 1.07021 -1.42373 -0.01241 -0.09348 -0.09345 0.01208 0 0 0 -0.6761 0 0 0.06318 0.40159 2.36535 0 -0.22392 0 -1.2888 -0.00986 0 1.06629\\nARG_4 -5.60392 0.99785 4.77134 -0.77083 0.1107 0.53455 2.03231 -2.31983 -0.02254 -0.13645 -0.46458 0.52062 0 0 0 0 0 0 -0.02067 0.20307 2.86293 0 0.03642 0 -1.2888 0.41571 0 1.85788\\nARG_5 -7.70296 1.39294 7.20932 -0.92241 0.44917 0.71007 1.79532 -3.52129 -0.00421 -0.07222 -2.1594 -0.07533 0 0 0 -0.28369 0 0 0.30145 0.5818 3.18515 0 0.11839 0 -1.2888 1.13614 0 0.84942\\nARG_6 -6.49146 1.54418 5.25169 -0.62879 0.15095 0.35644 1.92148 -2.71968 -0.0171 -0.19472 -1.01317 0.56906 0 0 0 0 0 0 0.04968 0.17426 1.87756 0 0.60749 0 -1.2888 2.19289 0 2.34199\\nPHE_7 -6.17738 1.16675 2.86188 -0.6657 0.12036 0.36381 0.81282 -1.86933 -0.0001 -0.00161 -0.22717 0.00755 0 0 0 0 0 0 0.15905 0.34979 0 2.7162 0.11519 0 1.0402 1.00364 0 1.77592\\nCYS_8 -7.3912 0.71464 4.32711 -0.0723 0.0143 0.06171 2.39798 -2.05879 -0.00941 -0.05637 -1.32332 -0.52514 0 0 0 0 0 0 -0.01825 0.01267 0.34432 0 0.12611 0 3.6196 0.35927 0 0.52292\\nARG_9 -6.31555 0.83611 6.22808 -0.67489 0.17669 0.37638 2.44377 -2.91417 -0 -0 -2.19209 0.18932 0 0 0 0 0 0 -0.05866 0.10944 2.50906 0 -0.14984 0 -1.2888 0.48019 0 -0.24497\\nPHE_10 -10.607 1.15101 2.58685 -0.71879 0.08073 0.38058 1.77457 -2.62655 -0.009 -0.0954 -1.34326 -0.11129 0 0 0 0 0 0 -0.00843 0.34013 0 2.73112 0.0263 0 1.0402 -0.06722 0 -5.47543\\nTHR_11 -4.95557 0.41143 5.14473 -0.19993 0.13191 0.07191 2.15003 -2.34115 -0 -0 -1.08862 -0.17974 0 0 0 0 0 0 -0.01522 0.00706 0.08559 0 -0.02176 2.29793 -1.0874 0.40668 0 0.81788\\nALA_12 -2.83368 0.16007 2.68502 -0.02278 0 0 1.60923 -1.5984 -0 -0 -0.57754 -0.35965 0 0 0 0 0 0 -0.07367 0 0 0 -0.35068 0 1.8394 0.14257 0 0.6199\\nGLU_13 -4.60296 0.54481 5.02436 -0.24615 0.05187 0.41272 1.52761 -2.313 -0.0083 -0.08215 -1.74382 -0.66429 0 0 0 0 0 0 -0.04642 0.2215 0 2.97774 -0.10902 0 -2.7348 -0.435 0 -2.2253\\nGLY_14 -2.27346 0.07997 3.0077 -5e-05 0 0 1.22312 -1.43846 -0 -0 -1.19143 -0.3991 0 0 0 0 0 0 -0.1806 0 0 0 -1.26749 0 0.83697 -0.56617 0 -2.16901\\nVAL_15 -6.29203 0.77367 2.90962 -0.28587 0.21726 0.0577 1.64141 -2.16508 -0 -0 -1.99409 0.15052 0 0 0 -0.46349 0 0 -0.08932 0.02538 0.07341 0 -0.37863 0 1.9342 -0.62076 0 -4.50611\\nLYS_16 -2.51058 0.10583 2.32919 -0.57842 0.26288 0.45019 0.55342 -1.0764 -0.02084 -0.07543 0.23362 -0.04603 0 0 0 0 0 0 0.12602 0.22192 1.72239 0 -0.20016 0 -1.5107 -0.28356 0 -0.29665\\nGLU_17 -2.85429 0.29347 2.11423 -0.40827 0.1766 0.57788 0.03631 -1.14418 -0.02084 -0.07543 -0.09737 -0.63912 0 0 0 0 0 0 -0.00615 0.03159 0 3.31291 -0.00187 0 -2.7348 0.04069 0 -1.39862\\nILE_18 -6.77228 0.71462 0.38724 -0.49864 0.39316 0.11424 0.62879 -1.3173 -0.01251 -0.1167 0.19719 -0.19628 0 0 0 0 0 0 -0.05207 0.00713 0.2962 0 -0.57292 0 0.73287 -0.11368 0 -6.18092\\nASP_19 -4.88433 0.62026 7.37304 -0.19595 0.21674 0.61705 3.81574 -3.10874 -0.01251 -0.1167 -5.66602 -1.95399 0 0 0 -0.61397 -0.43846 0 -0.04788 0.11372 0 2.77139 -0.21514 0 -2.3716 -0.28 0 -4.37736\\nTYR_20 -7.14019 0.74836 3.47548 -1.08835 0.23664 0.46965 2.26847 -2.29962 -0.01247 -0.10817 -0.0843 -0.43442 0 0 0 -0.06486 0 0 -0.04519 0.00121 0 2.4174 0.15859 0.00144 1.2797 -0.02719 0 -0.24781\\nLYS_21 -4.83797 0.66542 5.66919 -0.60859 0.11219 0.50056 2.46232 -2.49506 -0.01247 -0.10817 -5.14864 0.40202 0 0 0 -0.54911 -0.43846 0 -0.04123 0.69352 2.08031 0 -0.1057 0 -1.5107 -0.12085 0 -3.39141\\nASP_22 -5.28115 0.45692 7.66567 -0.25981 0.12204 0.9452 3.40428 -3.28725 -0 -0 -5.45378 -0.76511 0 0 0 -0.55517 -0.33765 0 -0.01292 0.01126 0 1.87963 -0.80938 0 -2.3716 -0.29105 0 -4.93986\\nLEU_23 -6.90826 0.8741 4.01781 -0.59101 0.51425 0.15914 2.24277 -2.55844 -0 -0 -1.42281 0.02317 0 0 0 0 0 0 -0.01728 0.12274 2.93585 0 -0.24022 0 0.18072 -0.22799 0 -0.89548\\nASN_24 -3.16138 0.21664 4.17182 -0.1872 0.04573 0.27737 1.55414 -1.96133 -0 -0 -1.39547 -0.32225 0 0 0 0 0 0 0.04202 0.01382 0 1.46476 0.40751 0 -0.93687 0.04725 0 0.27657\\nTHR_25 -5.18943 0.68304 5.21886 -0.20385 0.13443 0.07717 2.30427 -2.66091 -0 -0 -2.78808 -0.34004 0 0 0 -0.55517 -0.33765 0 -0.03651 0.02662 0.129 0 -0.00593 2.58998 -1.0874 0.42527 0 -1.61632\\nLEU_26 -8.60526 0.88736 3.92771 -0.5034 0.21449 0.11687 2.84788 -3.04584 -0 -0 -1.75245 0.22668 0 0 0 0 0 0 -0.04994 0.06199 0.33598 0 -0.29077 0 0.18072 0.18328 0 -5.26469\\nLYS_27 -4.86361 0.54648 5.18323 -0.33708 0.04242 0.16266 2.46012 -2.41533 -0 -0 -1.82967 -0.01864 0 0 0 0 0 0 -0.0613 0.06807 1.74235 0 -0.07167 0 -1.5107 -0.20629 0 -1.10896\\nALA_28 -3.29035 0.43946 2.129 -0.02556 0.00064 0 1.48696 -1.63266 -0 -0 -1.05432 -0.41752 0 0 0 0 0 0 -0.07744 0 0 0 -0.20906 0 1.8394 -0.22219 0 -1.03366\\nTYR_29 -7.87771 0.97797 2.71098 -0.81289 0.14243 0.49736 2.5447 -2.52194 -0.02067 -0.13343 -2.84984 -0.13786 0 0 0 0 0 0 -0.02991 0.15149 0 1.9961 -0.28052 8e-05 1.2797 -0.25811 0 -4.62205\\nVAL_30 -5.84485 0.55192 2.63082 -0.26483 0.18306 0.05264 1.85197 -2.22594 -0 -0 -1.03603 -0.26229 0 0 0 0 0 0 -0.07717 0.02463 0.40751 0 -0.78466 0 1.9342 -0.40601 0 -3.26504\\nSER_31 -4.72469 0.63749 5.12878 -0.02441 0 0.02024 2.46349 -2.46915 -0.01183 -0.11299 -2.44357 -0.09908 0 0 0 0 0 0 0.02528 0.05532 1.14647 0 -0.37353 0.62202 -0.77834 -0.46592 0 -1.40442\\nGLU_32 -2.34542 0.20286 2.55655 -0.61957 0.47164 1.67904 0.54033 -1.18059 -0.01183 -0.11299 -0.49007 -3.264 0 0 0 0 0 0 -0.091 0.14724 0 3.41005 -0.20967 0 -2.7348 -0.20654 0 -2.25876\\nTHR_33 -4.25155 0.58615 4.24753 -0.1338 0.12988 0.08301 1.49113 -2.00075 -0.0006 -0.00289 0.01835 -1.37057 0 0 0 -0.78241 0 0 -0.02833 0.06028 0.08804 0 -0.31191 2.26305 -1.0874 -0.19676 0 -1.19952\\nGLY_34 -3.16761 0.13594 3.29232 -7e-05 0 0 1.73452 -1.78726 -0.01835 -0.17326 -2.26014 -0.3947 0 0 0 -0.28877 0 0 -0.16655 0 0 0 -1.5183 0 0.83697 -0.67703 0 -4.45229\\nLYS_35 -4.95623 0.30298 6.62878 -0.72214 0.20787 0.45685 3.24664 -2.89507 -0 -0 -3.09568 0.9719 0 0 0 -1.57303 0 0 0.01809 0.17587 2.11587 0 -0.03543 0 -1.5107 -0.68937 0 -1.3528\\nILE_36 -6.08796 0.37347 2.6213 -0.48921 0.41281 0.1012 1.70068 -1.89153 -0.02953 -0.09899 -1.66403 0.33978 0 0 0 -0.79062 0 0 -0.07422 0.01712 0.39661 0 -0.4572 0 0.73287 -0.53212 0 -5.41958\\nVAL_37 -5.56635 0.87898 2.35412 -0.28152 0.21912 0.05655 1.67894 -1.8989 -0.01986 -0.11316 -1.56552 0.21284 0.10583 0 0 -0.74757 0 0 -0.08872 0.07033 0.06886 0 -0.41707 0 1.9342 0.71663 0 -2.40225\\nPRO_38 -4.81429 0.66285 3.65803 -0.18905 0.0018 0.13237 1.9485 -1.64477 -0 -0 -2.08528 0.08523 0.11787 0 0 0 0 0 0.15957 0.00017 0.50579 0 -0.99435 0 -2.4119 0.71526 0 -4.15219\\nSER_39 -5.31222 0.54994 5.84831 -0.02885 1e-05 0.0434 2.22984 -2.69596 -0.00276 -0.01527 -1.61395 -1.11694 0 0 0 0 0 0 -0.04825 0.01416 0.18569 0 -0.06203 0.61406 -0.77834 -0.42198 0 -2.61114\\nARG_40 -4.25126 0.57157 3.42009 -1.02604 0.30452 0.77065 0.46759 -1.56053 -0 -0 -0.21272 0.35385 0 0 0 0 0 0 0.01312 0.05347 2.65898 0 -0.08623 0 -1.2888 -0.17067 0 0.01759\\nILE_41 -5.65185 0.78394 4.29005 -0.66738 0.55192 0.15408 1.85083 -2.20124 -0.00251 -0.03218 -1.41388 0.14504 0 0 0 0 0 0 0.2658 0.03689 0.86619 0 -0.53194 0 0.73287 0.11174 0 -0.71162\\nTHR_42 -6.54576 0.91788 5.02476 -0.1327 0.13483 0.07735 2.71595 -2.76529 -0.00479 -0.0456 -0.75582 -1.19417 0 0 0 -0.83457 0 0 0.0229 0.32264 0.18438 0 -0.07336 2.26401 -1.0874 -0.02695 0 -1.80169\\nGLY_43 -5.28785 1.00196 5.176 -6e-05 0 0 1.93162 -2.73195 -0.00941 -0.05637 -2.52517 -0.40615 0 0 0 -0.18679 0 0 -0.05444 0 0 0 -1.49614 0 0.83697 -0.62358 0 -4.43137\\nTHR_44 -7.42848 1.39198 4.98611 -0.17937 0.10998 0.06037 2.26219 -2.73113 -0.00021 -0.00863 -2.03787 0.38005 0 0 0 -0.93147 0 0 0.0104 0.10673 0.06245 0 0.0391 2.2576 -1.0874 -0.48496 0 -3.22256\\nLYS_45 -5.7515 0.75426 5.11898 -0.39588 0.0771 0.22145 2.89376 -2.21906 -0.00578 -0.05364 -1.65716 0.46938 0 0 0 0 0 0 0.69798 0.07108 2.37137 0 0.05493 0 -1.5107 -0.14429 0 0.99227\\nALA_46 -3.34826 0.37696 3.6167 -0.02392 0 0 1.66032 -1.82909 -0 -0 -0.89585 -0.36753 0 0 0 0 0 0 -0.09073 0 0 0 -0.42494 0 1.8394 -0.17637 0 0.33669\\nLYS_47 -5.24187 0.52057 4.62033 -0.62121 0.23887 0.3017 1.4337 -2.18897 -0.01329 -0.11165 -0.68032 0.23287 0 0 0 0 0 0 -0.05318 0.03494 3.21763 0 -0.05769 0 -1.5107 -0.30504 0 -0.18329\\nTYR_48 -12.2279 1.25078 5.84262 -0.70684 0.08777 0.35493 3.864 -3.72901 -0.02495 -0.25883 -2.80661 -0.21491 0 0 0 -0.46349 0 0 0.00496 0.03894 0 2.15095 -0.01538 0.07597 1.2797 -0.30676 0 -5.80405\\nGLN_49 -8.01847 0.66851 6.91768 -0.63566 0.04335 0.5961 3.18997 -3.60895 -0 -0 -2.83115 -0.75122 0 0 0 -0.74757 0 0 0.03084 0.10092 0 3.10315 -0.17514 0 -0.18838 -0.09089 0 -2.3969\\nARG_50 -5.5664 0.41309 6.12093 -0.76896 0.126 0.49911 2.35367 -3.03106 -0.00578 -0.05364 -2.26286 0.35163 0 0 0 0 0 0 -0.01651 0.04391 1.47342 0 -0.05748 0 -1.2888 -0.04318 0 -1.71288\\nGLN_51 -7.35826 0.56216 6.72995 -0.31483 0.0931 0.25883 3.3692 -3.38587 -0.01166 -0.14718 -2.41473 -0.54828 0 0 0 0 0 0 -0.0489 0.04703 0 2.80182 -0.13459 0 -0.18838 -0.01733 0 -0.70793\\nLEU_52 -9.3321 1.0658 4.43439 -0.65272 0.38256 0.18631 3.28769 -3.34804 -0.00214 -0.014 -2.43062 -0.01912 0 0 0 0 0 0 0.02574 0.06921 1.37603 0 -0.30144 0 0.18072 -0.12039 0 -5.21212\\nALA_53 -5.3074 0.50059 4.70451 -0.02159 0 0 2.70509 -2.80425 -0 -0 -2.33655 -0.40263 0 0 0 0 0 0 0.02139 0 0 0 -0.29683 0 1.8394 -0.23139 0 -1.62966\\nTHR_54 -5.28859 0.50692 5.79125 -0.21444 0.24936 0.07865 2.8528 -2.80209 -0 -0 -2.51391 -0.16951 0 0 0 0 0 0 -0.02894 0.0108 0.08651 0 -0.02147 2.29214 -1.0874 0.1714 0 -0.08653\\nALA_55 -6.55141 0.43366 3.98968 -0.02172 0 0 2.83532 -2.92011 -0 -0 -2.37717 -0.37528 0 0 0 0 0 0 -0.01915 0 0 0 -0.33272 0 1.8394 0.13196 0 -3.36756\\nILE_56 -9.55917 0.99133 4.24928 -0.54497 0.51858 0.11088 3.1557 -3.18796 -0 -0 -2.70289 -0.07013 0 0 0 0 0 0 -0.0681 0.01387 0.59629 0 -0.4653 0 0.73287 -0.00778 0 -6.23748\\nLYS_57 -5.67923 0.34307 5.94173 -0.33895 0.0487 0.16715 2.64275 -2.78568 -0.00214 -0.014 -2.19294 -0.00508 0 0 0 0 0 0 0.00962 0.02835 1.68931 0 -0.03891 0 -1.5107 0.03882 0 -1.65812\\nARG_58 -6.39484 0.56577 5.85014 -0.65713 0.16133 0.36823 2.91485 -2.83963 -0 -0 -2.18437 0.23472 0 0 0 0 0 0 0.00543 0.0328 2.53008 0 -0.04751 0 -1.2888 -0.09431 0 -0.84322\\nALA_59 -7.36531 0.66462 4.84643 -0.0231 0 0 3.48148 -3.28864 -0.00024 -0.00087 -3.43674 -0.4012 0 0 0 0 0 0 0.06088 0 0 0 -0.23344 0 1.8394 -0.23184 0 -4.08857\\nARG_60 -10.5695 1.0017 8.80891 -0.52239 0.14065 0.27701 3.73334 -4.36477 -0.03802 -0.15929 -3.71598 0.43754 0 0 0 -0.28877 0 0 0.01885 0.3012 2.06313 0 -0.0751 0 -1.2888 -0.291 0 -4.53133\\nTYR_61 -4.28679 0.51747 4.00758 -1.13279 0.14788 0.48679 1.85786 -2.0747 -0 -0 -0.85224 -0.28962 0 0 0 0 0 0 -0.01846 0.08462 0 2.0025 -0.23267 0 1.2797 0.19846 0 1.69558\\nLEU_62 -5.29294 0.57136 3.31661 -0.56963 0.32151 0.17321 1.2312 -1.94799 -0 -0 -0.65203 0.17213 0 0 0 0 0 0 -0.03492 0.06306 0.09274 0 -0.07493 0 0.18072 0.31975 0 -2.13015\\nALA_63 -2.49841 0.35792 2.94055 -0.02788 0.01281 0 1.33121 -1.5759 -0 -0 -1.19412 -0.63332 0 0 0 0 0 0 -0.09188 0 0 0 0.26982 0 1.8394 0.40258 0 1.1328\\nLEU_64 -5.49818 0.75451 1.72678 -0.62457 0.24771 0.18988 1.2538 -1.52943 -0.0023 -0.00652 -0.40663 0.12399 0 0 0 0 0 0 0.60387 0.01587 1.0176 0 -0.28163 0 0.18072 0.45643 0 -1.77809\\nLEU_65 -6.48769 0.90214 2.57461 -0.46305 0.18942 0.08425 1.40113 -1.86276 -0.00254 -0.00739 -0.0541 0.0717 0.26391 0 0 0 0 0 0.06179 0.04714 0.64627 0 -0.05508 0 0.18072 1.23334 0 -1.2762\\nPRO_66 -3.18213 0.47817 1.9802 -0.19919 0.00634 0.1454 0.79126 -0.93806 -0.01 -0.11367 -0.75546 0.05349 0.26587 0 0 0 0 0 -0.00819 0.00122 0.40852 0 -0.94292 0 -2.4119 0.87514 0 -3.55592\\nTYR_67 -6.26218 0.81377 3.62327 -0.61952 0.15485 0.30165 1.42734 -2.06548 -0.00989 -0.09489 -0.7509 -0.19226 0 0 0 -1.10557 0 0 -0.0412 0.00134 0 2.91541 -0.11469 0.00188 1.2797 -0.11745 0 -0.85483\\nTHR_68 -4.90125 0.45907 5.49489 -0.10347 0.08413 0.06112 2.21444 -2.58492 -0.0093 -0.092 -1.61417 -0.6076 0 0 0 -1.35624 0 0 0.0646 0.08406 0.16451 0 -0.73925 2.40977 -1.0874 0.05401 0 -2.005\\nASP_69 -2.49629 0.17727 3.61801 -0.18841 0.16509 0.62715 0.93559 -1.49526 -0.00048 -0.00204 -0.99886 -2.97248 0 0 0 -0.27277 0 0 0.23686 0.10374 0 4.34457 -0.01029 0 -2.3716 -0.15967 0 -0.75988\\nSER_70 -2.49633 0.26998 3.87222 -0.03197 0 0.07472 0.8263 -1.6612 -0.0141 -0.15335 -1.39899 -0.25737 0 0 0 -0.60068 0 0 -0.00225 0.02229 0.18401 0 -0.41823 0.65731 -0.77834 -0.24905 0 -2.15503\\nHIS_D:CtermProteinFull_71 -3.87101 0.25686 3.61603 -0.38619 0.0107 0.50343 1.92203 -1.7842 -0.01362 -0.15131 -1.99043 -0.03397 0 0 0 -2.13391 0 0 0 0.23817 0 1.97835 0 0 -0.45461 -0.14347 0 -2.43716\\nVRT_72 0 0 0 0 0 0 0 -0 -0 -0 0 0 0 0 0 0 0 0 0 0 0 0 0 0 0 0 0 0\\n#END_POSE_ENERGIES_TABLE S_singletgt_0001.pdb\\n\\n\",\"pdb\");\n",
              "\tviewer_1675466187249673.setStyle({\"cartoon\": {\"color\": \"spectrum\"}});\n",
              "\tviewer_1675466187249673.addStyle({\"and\": [{\"resn\": [\"GLY\", \"PRO\"], \"invert\": true}, {\"atom\": [\"C\", \"O\", \"N\"], \"invert\": true}]},{\"stick\": {\"colorscheme\": \"WhiteCarbon\", \"radius\": 0.3}});\n",
              "\tviewer_1675466187249673.addStyle({\"and\": [{\"resn\": \"GLY\"}, {\"atom\": \"CA\"}]},{\"sphere\": {\"colorscheme\": \"WhiteCarbon\", \"radius\": 0.3}});\n",
              "\tviewer_1675466187249673.addStyle({\"and\": [{\"resn\": \"PRO\"}, {\"atom\": [\"C\", \"O\"], \"invert\": true}]},{\"stick\": {\"colorscheme\": \"WhiteCarbon\", \"radius\": 0.3}});\n",
              "\tviewer_1675466187249673.addStyle({\"atom\": [\"C\", \"O\", \"N\", \"CA\"]},{\"stick\": {\"colorscheme\": \"WhiteCarbon\", \"radius\": 0.3}});\n",
              "\tviewer_1675466187249673.zoomTo();\n",
              "viewer_1675466187249673.render();\n",
              "});\n",
              "</script>"
            ]
          },
          "metadata": {},
          "output_type": "display_data"
        }
      ],
      "source": [
        "#@title 8. Visualization\n",
        "\n",
        "import py3Dmol\n",
        "import glob\n",
        "import matplotlib.pyplot as plt\n",
        "\n",
        "#@markdown You can visualize the predicted .pdb files from the /content/DeepMainMast/dmmsinglechain/results/\\<your_job_name\\>/ranked/ folder.\n",
        "\n",
        "rank = \"1\" #@param {type:\"string\"}\n",
        "# pdb_filename = \"S_singletgt_0001.pdb\" #@param [\"S_singletgt_0001.pdb\", \"S_singletgt_0002.pdb\", \"S_singletgt_0003.pdb\", \"S_singletgt_0004.pdb\", \"S_singletgt_0005.pdb\"]\n",
        "show_sidechains = True #@param {type:\"boolean\"}\n",
        "show_mainchains = True #@param {type:\"boolean\"}\n",
        "\n",
        "pdb_file = f\"/content/DeepMainMast/dmmsinglechain/results/{job_name}/ranked/rank{rank}.pdb\"\n",
        "# pdb_file = f\"/content/rank1.pdb\"\n",
        "def show_pdb(show_sidechains=False, show_mainchains=False):\n",
        "  view = py3Dmol.view(js='https://3dmol.org/build/3Dmol.js',)\n",
        "  view.addModel(open(pdb_file,'r').read(),'pdb')\n",
        "  view.setStyle({'cartoon': {'color':'spectrum'}})\n",
        "  if show_sidechains:\n",
        "    BB = ['C','O','N']\n",
        "    view.addStyle({'and':[{'resn':[\"GLY\",\"PRO\"],'invert':True},{'atom':BB,'invert':True}]},\n",
        "                        {'stick':{'colorscheme':f\"WhiteCarbon\",'radius':0.3}})\n",
        "    view.addStyle({'and':[{'resn':\"GLY\"},{'atom':'CA'}]},\n",
        "                        {'sphere':{'colorscheme':f\"WhiteCarbon\",'radius':0.3}})\n",
        "    view.addStyle({'and':[{'resn':\"PRO\"},{'atom':['C','O'],'invert':True}]},\n",
        "                        {'stick':{'colorscheme':f\"WhiteCarbon\",'radius':0.3}})  \n",
        "  if show_mainchains:\n",
        "    BB = ['C','O','N','CA']\n",
        "    view.addStyle({'atom':BB},{'stick':{'colorscheme':f\"WhiteCarbon\",'radius':0.3}})\n",
        "  view.zoomTo()\n",
        "  return view\n",
        "\n",
        "show_pdb(show_sidechains, show_mainchains).show()"
      ]
    }
  ],
  "metadata": {
    "accelerator": "GPU",
    "colab": {
      "include_colab_link": true,
      "provenance": []
    },
    "gpuClass": "standard",
    "kernelspec": {
      "display_name": "Python 3",
      "name": "python3"
    },
    "language_info": {
      "name": "python"
    },
    "widgets": {
      "application/vnd.jupyter.widget-state+json": {
        "05fe9333f2f241e8b2d20239e537d98c": {
          "model_module": "@jupyter-widgets/base",
          "model_module_version": "1.2.0",
          "model_name": "LayoutModel",
          "state": {
            "_model_module": "@jupyter-widgets/base",
            "_model_module_version": "1.2.0",
            "_model_name": "LayoutModel",
            "_view_count": null,
            "_view_module": "@jupyter-widgets/base",
            "_view_module_version": "1.2.0",
            "_view_name": "LayoutView",
            "align_content": null,
            "align_items": null,
            "align_self": null,
            "border": null,
            "bottom": null,
            "display": null,
            "flex": null,
            "flex_flow": null,
            "grid_area": null,
            "grid_auto_columns": null,
            "grid_auto_flow": null,
            "grid_auto_rows": null,
            "grid_column": null,
            "grid_gap": null,
            "grid_row": null,
            "grid_template_areas": null,
            "grid_template_columns": null,
            "grid_template_rows": null,
            "height": null,
            "justify_content": null,
            "justify_items": null,
            "left": null,
            "margin": null,
            "max_height": null,
            "max_width": null,
            "min_height": null,
            "min_width": null,
            "object_fit": null,
            "object_position": null,
            "order": null,
            "overflow": null,
            "overflow_x": null,
            "overflow_y": null,
            "padding": null,
            "right": null,
            "top": null,
            "visibility": null,
            "width": null
          }
        },
        "0bfbc106ef714c7292c544a3f52aa703": {
          "model_module": "@jupyter-widgets/controls",
          "model_module_version": "1.5.0",
          "model_name": "ButtonStyleModel",
          "state": {
            "_model_module": "@jupyter-widgets/controls",
            "_model_module_version": "1.5.0",
            "_model_name": "ButtonStyleModel",
            "_view_count": null,
            "_view_module": "@jupyter-widgets/base",
            "_view_module_version": "1.2.0",
            "_view_name": "StyleView",
            "button_color": null,
            "font_weight": ""
          }
        },
        "240ae8e6afe7426b9dc834b6efe201e5": {
          "model_module": "@jupyter-widgets/base",
          "model_module_version": "1.2.0",
          "model_name": "LayoutModel",
          "state": {
            "_model_module": "@jupyter-widgets/base",
            "_model_module_version": "1.2.0",
            "_model_name": "LayoutModel",
            "_view_count": null,
            "_view_module": "@jupyter-widgets/base",
            "_view_module_version": "1.2.0",
            "_view_name": "LayoutView",
            "align_content": null,
            "align_items": null,
            "align_self": null,
            "border": null,
            "bottom": null,
            "display": null,
            "flex": null,
            "flex_flow": null,
            "grid_area": null,
            "grid_auto_columns": null,
            "grid_auto_flow": null,
            "grid_auto_rows": null,
            "grid_column": null,
            "grid_gap": null,
            "grid_row": null,
            "grid_template_areas": null,
            "grid_template_columns": null,
            "grid_template_rows": null,
            "height": null,
            "justify_content": null,
            "justify_items": null,
            "left": null,
            "margin": null,
            "max_height": null,
            "max_width": null,
            "min_height": null,
            "min_width": null,
            "object_fit": null,
            "object_position": null,
            "order": null,
            "overflow": null,
            "overflow_x": null,
            "overflow_y": null,
            "padding": null,
            "right": null,
            "top": null,
            "visibility": null,
            "width": null
          }
        },
        "447dee61d33d4d3d896eb3c4d210ff8f": {
          "model_module": "@jupyter-widgets/controls",
          "model_module_version": "1.5.0",
          "model_name": "IntSliderModel",
          "state": {
            "_dom_classes": [],
            "_model_module": "@jupyter-widgets/controls",
            "_model_module_version": "1.5.0",
            "_model_name": "IntSliderModel",
            "_view_count": null,
            "_view_module": "@jupyter-widgets/controls",
            "_view_module_version": "1.5.0",
            "_view_name": "IntSliderView",
            "continuous_update": true,
            "description": "",
            "description_tooltip": null,
            "disabled": false,
            "layout": "IPY_MODEL_240ae8e6afe7426b9dc834b6efe201e5",
            "max": 0,
            "min": 0,
            "orientation": "horizontal",
            "readout": true,
            "readout_format": "d",
            "step": 1,
            "style": "IPY_MODEL_cfbba11c2d2f494882647d5920a094eb",
            "value": 0
          }
        },
        "59564e197cf8485981eecb62c91faa1a": {
          "model_module": "@jupyter-widgets/controls",
          "model_module_version": "1.5.0",
          "model_name": "PlayModel",
          "state": {
            "_dom_classes": [],
            "_model_module": "@jupyter-widgets/controls",
            "_model_module_version": "1.5.0",
            "_model_name": "PlayModel",
            "_playing": false,
            "_repeat": false,
            "_view_count": null,
            "_view_module": "@jupyter-widgets/controls",
            "_view_module_version": "1.5.0",
            "_view_name": "PlayView",
            "description": "",
            "description_tooltip": null,
            "disabled": false,
            "interval": 100,
            "layout": "IPY_MODEL_f509235e74b6429a8085b517a28cfba7",
            "max": 0,
            "min": 0,
            "show_repeat": true,
            "step": 1,
            "style": "IPY_MODEL_adc78187968c4bb9a6f8ea16599bca73",
            "value": 0
          }
        },
        "851e5a378c91469397555aa273cc26d1": {
          "model_module": "@jupyter-widgets/base",
          "model_module_version": "1.2.0",
          "model_name": "LayoutModel",
          "state": {
            "_model_module": "@jupyter-widgets/base",
            "_model_module_version": "1.2.0",
            "_model_name": "LayoutModel",
            "_view_count": null,
            "_view_module": "@jupyter-widgets/base",
            "_view_module_version": "1.2.0",
            "_view_name": "LayoutView",
            "align_content": null,
            "align_items": null,
            "align_self": null,
            "border": null,
            "bottom": null,
            "display": null,
            "flex": null,
            "flex_flow": null,
            "grid_area": null,
            "grid_auto_columns": null,
            "grid_auto_flow": null,
            "grid_auto_rows": null,
            "grid_column": null,
            "grid_gap": null,
            "grid_row": null,
            "grid_template_areas": null,
            "grid_template_columns": null,
            "grid_template_rows": null,
            "height": null,
            "justify_content": null,
            "justify_items": null,
            "left": null,
            "margin": null,
            "max_height": null,
            "max_width": null,
            "min_height": null,
            "min_width": null,
            "object_fit": null,
            "object_position": null,
            "order": null,
            "overflow": null,
            "overflow_x": null,
            "overflow_y": null,
            "padding": null,
            "right": null,
            "top": null,
            "visibility": null,
            "width": "34px"
          }
        },
        "9fae9c75bc9b4db499830bb19598ed2e": {
          "model_module": "@jupyter-widgets/controls",
          "model_module_version": "1.5.0",
          "model_name": "ButtonModel",
          "state": {
            "_dom_classes": [],
            "_model_module": "@jupyter-widgets/controls",
            "_model_module_version": "1.5.0",
            "_model_name": "ButtonModel",
            "_view_count": null,
            "_view_module": "@jupyter-widgets/controls",
            "_view_module_version": "1.5.0",
            "_view_name": "ButtonView",
            "button_style": "",
            "description": "",
            "disabled": false,
            "icon": "compress",
            "layout": "IPY_MODEL_851e5a378c91469397555aa273cc26d1",
            "style": "IPY_MODEL_0bfbc106ef714c7292c544a3f52aa703",
            "tooltip": ""
          }
        },
        "a50a6b37f81745cd89a946cdb6eb0ba4": {
          "model_module": "@jupyter-widgets/base",
          "model_module_version": "1.2.0",
          "model_name": "LayoutModel",
          "state": {
            "_model_module": "@jupyter-widgets/base",
            "_model_module_version": "1.2.0",
            "_model_name": "LayoutModel",
            "_view_count": null,
            "_view_module": "@jupyter-widgets/base",
            "_view_module_version": "1.2.0",
            "_view_name": "LayoutView",
            "align_content": null,
            "align_items": null,
            "align_self": null,
            "border": null,
            "bottom": null,
            "display": null,
            "flex": null,
            "flex_flow": null,
            "grid_area": null,
            "grid_auto_columns": null,
            "grid_auto_flow": null,
            "grid_auto_rows": null,
            "grid_column": null,
            "grid_gap": null,
            "grid_row": null,
            "grid_template_areas": null,
            "grid_template_columns": null,
            "grid_template_rows": null,
            "height": null,
            "justify_content": null,
            "justify_items": null,
            "left": null,
            "margin": null,
            "max_height": null,
            "max_width": null,
            "min_height": null,
            "min_width": null,
            "object_fit": null,
            "object_position": null,
            "order": null,
            "overflow": null,
            "overflow_x": null,
            "overflow_y": null,
            "padding": null,
            "right": null,
            "top": null,
            "visibility": null,
            "width": null
          }
        },
        "adc78187968c4bb9a6f8ea16599bca73": {
          "model_module": "@jupyter-widgets/controls",
          "model_module_version": "1.5.0",
          "model_name": "DescriptionStyleModel",
          "state": {
            "_model_module": "@jupyter-widgets/controls",
            "_model_module_version": "1.5.0",
            "_model_name": "DescriptionStyleModel",
            "_view_count": null,
            "_view_module": "@jupyter-widgets/base",
            "_view_module_version": "1.2.0",
            "_view_name": "StyleView",
            "description_width": ""
          }
        },
        "bceef59c463d4770a0af81362352a6c8": {
          "model_module": "nglview-js-widgets",
          "model_module_version": "3.0.1",
          "model_name": "NGLModel",
          "state": {
            "_camera_orientation": [
              -37.37912590678437,
              22.148032009641565,
              -17.497721136752958,
              0,
              14.071029440772756,
              39.792565519348685,
              20.309172319426068,
              0,
              24.468585928830937,
              10.95084599120702,
              -38.409268349647085,
              0,
              -29.31933355331421,
              -19.594022750854492,
              -24.507789134979248,
              1
            ],
            "_camera_str": "orthographic",
            "_dom_classes": [],
            "_gui_theme": null,
            "_ibtn_fullscreen": "IPY_MODEL_9fae9c75bc9b4db499830bb19598ed2e",
            "_igui": null,
            "_iplayer": "IPY_MODEL_fbc15164d4544854a38c2e12f41525f8",
            "_model_module": "nglview-js-widgets",
            "_model_module_version": "3.0.1",
            "_model_name": "NGLModel",
            "_ngl_color_dict": {},
            "_ngl_coordinate_resource": {},
            "_ngl_full_stage_parameters": {
              "ambientColor": 14540253,
              "ambientIntensity": 0.2,
              "backgroundColor": "white",
              "cameraEyeSep": 0.3,
              "cameraFov": 40,
              "cameraType": "perspective",
              "clipDist": 10,
              "clipFar": 100,
              "clipNear": 0,
              "fogFar": 100,
              "fogNear": 50,
              "hoverTimeout": 0,
              "impostor": true,
              "lightColor": 14540253,
              "lightIntensity": 1,
              "mousePreset": "default",
              "panSpeed": 1,
              "quality": "medium",
              "rotateSpeed": 2,
              "sampleLevel": 0,
              "tooltip": true,
              "workerDefault": true,
              "zoomSpeed": 1.2
            },
            "_ngl_msg_archive": [
              {
                "args": [
                  {
                    "binary": false,
                    "data": "ATOM      1  CA  PHE A   1      48.144  10.073  31.598  1.00  1.00           C  \nATOM      2  CA  PHE A   2      45.748  10.626  34.555  1.00  1.00           C  \nATOM      3  CA  ARG A   3      42.315  11.030  32.903  1.00  1.00           C  \nATOM      4  CA  ARG A   4      40.410  13.322  35.322  1.00  1.00           C  \nATOM      5  CA  ARG A   5      37.252  11.486  36.476  1.00  1.00           C  \nATOM      6  CA  ARG A   6      34.191  12.872  34.640  1.00  1.00           C  \nATOM      7  CA  PHE A   7      31.928  14.814  37.023  1.00  1.00           C  \nATOM      8  CA  CYS A   8      28.495  16.393  36.575  1.00  1.00           C  \nATOM      9  CA  ARG A   9      29.038  20.169  36.106  1.00  1.00           C  \nATOM     10  CA  PHE A  10      25.381  20.967  37.028  1.00  1.00           C  \nATOM     11  CA  THR A  11      25.830  19.171  40.391  1.00  1.00           C  \nATOM     12  CA  ALA A  12      29.092  21.043  41.124  1.00  1.00           C  \nATOM     13  CA  GLU A  13      27.536  24.462  40.234  1.00  1.00           C  \nATOM     14  CA  GLY A  14      24.360  23.734  42.323  1.00  1.00           C  \nATOM     15  CA  VAL A  15      22.082  24.226  39.254  1.00  1.00           C  \nATOM     16  CA  LYS A  16      18.433  23.393  40.149  1.00  1.00           C  \nATOM     17  CA  GLU A  17      16.940  23.580  36.629  1.00  1.00           C  \nATOM     18  CA  ILE A  18      18.248  23.867  33.047  1.00  1.00           C  \nATOM     19  CA  ASP A  19      16.379  26.522  31.020  1.00  1.00           C  \nATOM     20  CA  TYR A  20      15.796  26.270  27.238  1.00  1.00           C  \nATOM     21  CA  LYS A  21      16.849  29.988  27.039  1.00  1.00           C  \nATOM     22  CA  ASP A  22      20.404  29.268  28.364  1.00  1.00           C  \nATOM     23  CA  LEU A  23      21.844  28.753  24.837  1.00  1.00           C  \nATOM     24  CA  ASN A  24      25.508  29.068  25.959  1.00  1.00           C  \nATOM     25  CA  THR A  25      24.971  26.187  28.425  1.00  1.00           C  \nATOM     26  CA  LEU A  26      22.958  24.075  25.927  1.00  1.00           C  \nATOM     27  CA  LYS A  27      25.540  24.511  23.076  1.00  1.00           C  \nATOM     28  CA  ALA A  28      28.178  22.832  25.319  1.00  1.00           C  \nATOM     29  CA  TYR A  29      25.945  19.657  25.326  1.00  1.00           C  \nATOM     30  CA  VAL A  30      25.152  19.641  21.562  1.00  1.00           C  \nATOM     31  CA  SER A  31      27.624  18.162  19.030  1.00  1.00           C  \nATOM     32  CA  GLU A  32      28.794  20.054  15.915  1.00  1.00           C  \nATOM     33  CA  THR A  33      26.248  17.867  13.976  1.00  1.00           C  \nATOM     34  CA  GLY A  34      23.461  19.322  16.194  1.00  1.00           C  \nATOM     35  CA  LYS A  35      22.979  15.970  18.131  1.00  1.00           C  \nATOM     36  CA  ILE A  36      22.479  15.834  21.941  1.00  1.00           C  \nATOM     37  CA  VAL A  37      25.756  14.702  23.576  1.00  1.00           C  \nATOM     38  CA  PRO A  38      25.170  11.507  25.652  1.00  1.00           C  \nATOM     39  CA  SER A  39      25.704  11.570  29.467  1.00  1.00           C  \nATOM     40  CA  ARG A  40      28.566   9.010  29.094  1.00  1.00           C  \nATOM     41  CA  ILE A  41      30.703  11.739  27.415  1.00  1.00           C  \nATOM     42  CA  THR A  42      29.666  14.794  29.509  1.00  1.00           C  \nATOM     43  CA  GLY A  43      29.461  13.010  32.921  1.00  1.00           C  \nATOM     44  CA  THR A  44      25.959  14.529  33.507  1.00  1.00           C  \nATOM     45  CA  LYS A  45      23.745  12.726  36.054  1.00  1.00           C  \nATOM     46  CA  ALA A  46      20.584  11.088  34.631  1.00  1.00           C  \nATOM     47  CA  LYS A  47      18.311  13.763  36.293  1.00  1.00           C  \nATOM     48  CA  TYR A  48      20.154  16.668  34.595  1.00  1.00           C  \nATOM     49  CA  GLN A  49      20.479  14.721  31.299  1.00  1.00           C  \nATOM     50  CA  ARG A  50      16.630  14.445  31.141  1.00  1.00           C  \nATOM     51  CA  GLN A  51      16.232  18.178  31.950  1.00  1.00           C  \nATOM     52  CA  LEU A  52      18.896  19.061  29.327  1.00  1.00           C  \nATOM     53  CA  ALA A  53      17.195  16.843  26.694  1.00  1.00           C  \nATOM     54  CA  THR A  54      13.825  18.601  27.360  1.00  1.00           C  \nATOM     55  CA  ALA A  55      15.496  22.065  27.317  1.00  1.00           C  \nATOM     56  CA  ILE A  56      17.331  21.341  23.994  1.00  1.00           C  \nATOM     57  CA  LYS A  57      14.077  19.997  22.418  1.00  1.00           C  \nATOM     58  CA  ARG A  58      12.213  23.191  23.527  1.00  1.00           C  \nATOM     59  CA  ALA A  59      15.056  25.414  22.224  1.00  1.00           C  \nATOM     60  CA  ARG A  60      14.924  23.539  18.852  1.00  1.00           C  \nATOM     61  CA  TYR A  61      11.126  23.950  18.647  1.00  1.00           C  \nATOM     62  CA  LEU A  62      11.676  27.739  19.101  1.00  1.00           C  \nATOM     63  CA  ALA A  63      14.458  27.701  16.402  1.00  1.00           C  \nATOM     64  CA  LEU A  64      17.102  28.752  19.042  1.00  1.00           C  \nATOM     65  CA  LEU A  65      19.118  25.556  18.310  1.00  1.00           C  \nATOM     66  CA  PRO A  66      19.445  23.565  15.041  1.00  1.00           C  \nATOM     67  CA  TYR A  67      18.319  19.924  14.598  1.00  1.00           C  \nATOM     68  CA  THR A  68      21.320  19.181  12.280  1.00  1.00           C  \nATOM     69  CA  ASP A  69      24.487  20.927  10.909  1.00  1.00           C  \nATOM     70  CA  SER A  70      23.234  20.501   7.312  1.00  1.00           C  \nATOM     71  CA  HIS A  71      21.160  23.676   6.883  1.00  1.00           C  \nTER      72      HIS A  71                                                       \nEND\n",
                    "type": "blob"
                  }
                ],
                "kwargs": {
                  "defaultRepresentation": true,
                  "ext": "pdb"
                },
                "methodName": "loadFile",
                "reconstruc_color_scheme": false,
                "target": "Stage",
                "type": "call_method"
              }
            ],
            "_ngl_original_stage_parameters": {
              "ambientColor": 14540253,
              "ambientIntensity": 0.2,
              "backgroundColor": "white",
              "cameraEyeSep": 0.3,
              "cameraFov": 40,
              "cameraType": "perspective",
              "clipDist": 10,
              "clipFar": 100,
              "clipNear": 0,
              "fogFar": 100,
              "fogNear": 50,
              "hoverTimeout": 0,
              "impostor": true,
              "lightColor": 14540253,
              "lightIntensity": 1,
              "mousePreset": "default",
              "panSpeed": 1,
              "quality": "medium",
              "rotateSpeed": 2,
              "sampleLevel": 0,
              "tooltip": true,
              "workerDefault": true,
              "zoomSpeed": 1.2
            },
            "_ngl_repr_dict": {
              "0": {
                "0": {
                  "params": {
                    "aspectRatio": 5,
                    "assembly": "default",
                    "capped": true,
                    "clipCenter": {
                      "x": 0,
                      "y": 0,
                      "z": 0
                    },
                    "clipNear": 0,
                    "clipRadius": 0,
                    "colorMode": "hcl",
                    "colorReverse": true,
                    "colorScale": "spectral",
                    "colorScheme": "residueindex",
                    "colorValue": 9474192,
                    "defaultAssembly": "",
                    "depthWrite": true,
                    "diffuse": 16777215,
                    "diffuseInterior": false,
                    "disablePicking": false,
                    "flatShaded": false,
                    "interiorColor": 2236962,
                    "interiorDarkening": 0,
                    "lazy": false,
                    "matrix": {
                      "elements": [
                        1,
                        0,
                        0,
                        0,
                        0,
                        1,
                        0,
                        0,
                        0,
                        0,
                        1,
                        0,
                        0,
                        0,
                        0,
                        1
                      ]
                    },
                    "metalness": 0,
                    "opacity": 1,
                    "quality": "high",
                    "radialSegments": 20,
                    "radiusData": {},
                    "radiusScale": 0.7,
                    "radiusSize": 1,
                    "radiusType": "sstruc",
                    "roughness": 0.4,
                    "sele": "",
                    "side": "double",
                    "smoothSheet": false,
                    "subdiv": 6,
                    "tension": null,
                    "useInteriorColor": true,
                    "visible": true,
                    "wireframe": false
                  },
                  "type": "cartoon"
                },
                "1": {
                  "params": {
                    "aspectRatio": 1,
                    "assembly": "default",
                    "bondScale": 0.4,
                    "clipCenter": {
                      "x": 0,
                      "y": 0,
                      "z": 0
                    },
                    "clipNear": 0,
                    "clipRadius": 0,
                    "colorMode": "hcl",
                    "colorReverse": true,
                    "colorScale": "spectral",
                    "colorScheme": "residueindex",
                    "colorValue": 9474192,
                    "cylinderOnly": false,
                    "defaultAssembly": "",
                    "depthWrite": true,
                    "diffuse": 16777215,
                    "diffuseInterior": false,
                    "disableImpostor": false,
                    "disablePicking": false,
                    "flatShaded": false,
                    "interiorColor": 2236962,
                    "interiorDarkening": 0,
                    "lazy": false,
                    "lineOnly": false,
                    "linewidth": 2,
                    "matrix": {
                      "elements": [
                        1,
                        0,
                        0,
                        0,
                        0,
                        1,
                        0,
                        0,
                        0,
                        0,
                        1,
                        0,
                        0,
                        0,
                        0,
                        1
                      ]
                    },
                    "metalness": 0,
                    "opacity": 1,
                    "openEnded": true,
                    "quality": "high",
                    "radialSegments": 20,
                    "radiusData": {},
                    "radiusScale": 1,
                    "radiusSize": 0.3,
                    "radiusType": "size",
                    "roughness": 0.4,
                    "sele": "",
                    "side": "double",
                    "sphereDetail": 2,
                    "useInteriorColor": true,
                    "visible": true,
                    "wireframe": false
                  },
                  "type": "base"
                },
                "2": {
                  "params": {
                    "aspectRatio": 1.5,
                    "assembly": "default",
                    "bondScale": 0.3,
                    "bondSpacing": 0.75,
                    "clipCenter": {
                      "x": 0,
                      "y": 0,
                      "z": 0
                    },
                    "clipNear": 0,
                    "clipRadius": 0,
                    "colorMode": "hcl",
                    "colorReverse": false,
                    "colorScale": "",
                    "colorScheme": "element",
                    "colorValue": 9474192,
                    "cylinderOnly": false,
                    "defaultAssembly": "",
                    "depthWrite": true,
                    "diffuse": 16777215,
                    "diffuseInterior": false,
                    "disableImpostor": false,
                    "disablePicking": false,
                    "flatShaded": false,
                    "interiorColor": 2236962,
                    "interiorDarkening": 0,
                    "lazy": false,
                    "lineOnly": false,
                    "linewidth": 2,
                    "matrix": {
                      "elements": [
                        1,
                        0,
                        0,
                        0,
                        0,
                        1,
                        0,
                        0,
                        0,
                        0,
                        1,
                        0,
                        0,
                        0,
                        0,
                        1
                      ]
                    },
                    "metalness": 0,
                    "multipleBond": "off",
                    "opacity": 1,
                    "openEnded": true,
                    "quality": "high",
                    "radialSegments": 20,
                    "radiusData": {},
                    "radiusScale": 2,
                    "radiusSize": 0.15,
                    "radiusType": "size",
                    "roughness": 0.4,
                    "sele": "ligand",
                    "side": "double",
                    "sphereDetail": 2,
                    "useInteriorColor": true,
                    "visible": true,
                    "wireframe": false
                  },
                  "type": "ball+stick"
                }
              },
              "1": {
                "0": {
                  "params": {
                    "aspectRatio": 5,
                    "assembly": "default",
                    "capped": true,
                    "clipCenter": {
                      "x": 0,
                      "y": 0,
                      "z": 0
                    },
                    "clipNear": 0,
                    "clipRadius": 0,
                    "colorMode": "hcl",
                    "colorReverse": true,
                    "colorScale": "spectral",
                    "colorScheme": "residueindex",
                    "colorValue": 9474192,
                    "defaultAssembly": "",
                    "depthWrite": true,
                    "diffuse": 16777215,
                    "diffuseInterior": false,
                    "disablePicking": false,
                    "flatShaded": false,
                    "interiorColor": 2236962,
                    "interiorDarkening": 0,
                    "lazy": false,
                    "matrix": {
                      "elements": [
                        1,
                        0,
                        0,
                        0,
                        0,
                        1,
                        0,
                        0,
                        0,
                        0,
                        1,
                        0,
                        0,
                        0,
                        0,
                        1
                      ]
                    },
                    "metalness": 0,
                    "opacity": 1,
                    "quality": "high",
                    "radialSegments": 20,
                    "radiusData": {},
                    "radiusScale": 0.7,
                    "radiusSize": 1,
                    "radiusType": "sstruc",
                    "roughness": 0.4,
                    "sele": "",
                    "side": "double",
                    "smoothSheet": false,
                    "subdiv": 6,
                    "tension": null,
                    "useInteriorColor": true,
                    "visible": true,
                    "wireframe": false
                  },
                  "type": "cartoon"
                },
                "1": {
                  "params": {
                    "aspectRatio": 1,
                    "assembly": "default",
                    "bondScale": 0.4,
                    "clipCenter": {
                      "x": 0,
                      "y": 0,
                      "z": 0
                    },
                    "clipNear": 0,
                    "clipRadius": 0,
                    "colorMode": "hcl",
                    "colorReverse": true,
                    "colorScale": "spectral",
                    "colorScheme": "residueindex",
                    "colorValue": 9474192,
                    "cylinderOnly": false,
                    "defaultAssembly": "",
                    "depthWrite": true,
                    "diffuse": 16777215,
                    "diffuseInterior": false,
                    "disableImpostor": false,
                    "disablePicking": false,
                    "flatShaded": false,
                    "interiorColor": 2236962,
                    "interiorDarkening": 0,
                    "lazy": false,
                    "lineOnly": false,
                    "linewidth": 2,
                    "matrix": {
                      "elements": [
                        1,
                        0,
                        0,
                        0,
                        0,
                        1,
                        0,
                        0,
                        0,
                        0,
                        1,
                        0,
                        0,
                        0,
                        0,
                        1
                      ]
                    },
                    "metalness": 0,
                    "opacity": 1,
                    "openEnded": true,
                    "quality": "high",
                    "radialSegments": 20,
                    "radiusData": {},
                    "radiusScale": 1,
                    "radiusSize": 0.3,
                    "radiusType": "size",
                    "roughness": 0.4,
                    "sele": "",
                    "side": "double",
                    "sphereDetail": 2,
                    "useInteriorColor": true,
                    "visible": true,
                    "wireframe": false
                  },
                  "type": "base"
                },
                "2": {
                  "params": {
                    "aspectRatio": 1.5,
                    "assembly": "default",
                    "bondScale": 0.3,
                    "bondSpacing": 0.75,
                    "clipCenter": {
                      "x": 0,
                      "y": 0,
                      "z": 0
                    },
                    "clipNear": 0,
                    "clipRadius": 0,
                    "colorMode": "hcl",
                    "colorReverse": false,
                    "colorScale": "",
                    "colorScheme": "element",
                    "colorValue": 9474192,
                    "cylinderOnly": false,
                    "defaultAssembly": "",
                    "depthWrite": true,
                    "diffuse": 16777215,
                    "diffuseInterior": false,
                    "disableImpostor": false,
                    "disablePicking": false,
                    "flatShaded": false,
                    "interiorColor": 2236962,
                    "interiorDarkening": 0,
                    "lazy": false,
                    "lineOnly": false,
                    "linewidth": 2,
                    "matrix": {
                      "elements": [
                        1,
                        0,
                        0,
                        0,
                        0,
                        1,
                        0,
                        0,
                        0,
                        0,
                        1,
                        0,
                        0,
                        0,
                        0,
                        1
                      ]
                    },
                    "metalness": 0,
                    "multipleBond": "off",
                    "opacity": 1,
                    "openEnded": true,
                    "quality": "high",
                    "radialSegments": 20,
                    "radiusData": {},
                    "radiusScale": 2,
                    "radiusSize": 0.15,
                    "radiusType": "size",
                    "roughness": 0.4,
                    "sele": "ligand",
                    "side": "double",
                    "sphereDetail": 2,
                    "useInteriorColor": true,
                    "visible": true,
                    "wireframe": false
                  },
                  "type": "ball+stick"
                }
              }
            },
            "_ngl_serialize": false,
            "_ngl_version": "2.0.0-dev.36",
            "_ngl_view_id": [
              "3D77EC7A-CB5C-450F-A4C2-7B6A19FD1515"
            ],
            "_player_dict": {},
            "_scene_position": {},
            "_scene_rotation": {},
            "_synced_model_ids": [],
            "_synced_repr_model_ids": [],
            "_view_count": null,
            "_view_height": "",
            "_view_module": "nglview-js-widgets",
            "_view_module_version": "3.0.1",
            "_view_name": "NGLView",
            "_view_width": "",
            "background": "white",
            "frame": 0,
            "gui_style": null,
            "layout": "IPY_MODEL_05fe9333f2f241e8b2d20239e537d98c",
            "max_frame": 0,
            "n_components": 2,
            "picked": {}
          }
        },
        "cfbba11c2d2f494882647d5920a094eb": {
          "model_module": "@jupyter-widgets/controls",
          "model_module_version": "1.5.0",
          "model_name": "SliderStyleModel",
          "state": {
            "_model_module": "@jupyter-widgets/controls",
            "_model_module_version": "1.5.0",
            "_model_name": "SliderStyleModel",
            "_view_count": null,
            "_view_module": "@jupyter-widgets/base",
            "_view_module_version": "1.2.0",
            "_view_name": "StyleView",
            "description_width": "",
            "handle_color": null
          }
        },
        "f509235e74b6429a8085b517a28cfba7": {
          "model_module": "@jupyter-widgets/base",
          "model_module_version": "1.2.0",
          "model_name": "LayoutModel",
          "state": {
            "_model_module": "@jupyter-widgets/base",
            "_model_module_version": "1.2.0",
            "_model_name": "LayoutModel",
            "_view_count": null,
            "_view_module": "@jupyter-widgets/base",
            "_view_module_version": "1.2.0",
            "_view_name": "LayoutView",
            "align_content": null,
            "align_items": null,
            "align_self": null,
            "border": null,
            "bottom": null,
            "display": null,
            "flex": null,
            "flex_flow": null,
            "grid_area": null,
            "grid_auto_columns": null,
            "grid_auto_flow": null,
            "grid_auto_rows": null,
            "grid_column": null,
            "grid_gap": null,
            "grid_row": null,
            "grid_template_areas": null,
            "grid_template_columns": null,
            "grid_template_rows": null,
            "height": null,
            "justify_content": null,
            "justify_items": null,
            "left": null,
            "margin": null,
            "max_height": null,
            "max_width": null,
            "min_height": null,
            "min_width": null,
            "object_fit": null,
            "object_position": null,
            "order": null,
            "overflow": null,
            "overflow_x": null,
            "overflow_y": null,
            "padding": null,
            "right": null,
            "top": null,
            "visibility": null,
            "width": null
          }
        },
        "fbc15164d4544854a38c2e12f41525f8": {
          "model_module": "@jupyter-widgets/controls",
          "model_module_version": "1.5.0",
          "model_name": "HBoxModel",
          "state": {
            "_dom_classes": [],
            "_model_module": "@jupyter-widgets/controls",
            "_model_module_version": "1.5.0",
            "_model_name": "HBoxModel",
            "_view_count": null,
            "_view_module": "@jupyter-widgets/controls",
            "_view_module_version": "1.5.0",
            "_view_name": "HBoxView",
            "box_style": "",
            "children": [
              "IPY_MODEL_59564e197cf8485981eecb62c91faa1a",
              "IPY_MODEL_447dee61d33d4d3d896eb3c4d210ff8f"
            ],
            "layout": "IPY_MODEL_a50a6b37f81745cd89a946cdb6eb0ba4"
          }
        }
      }
    }
  },
  "nbformat": 4,
  "nbformat_minor": 0
}
